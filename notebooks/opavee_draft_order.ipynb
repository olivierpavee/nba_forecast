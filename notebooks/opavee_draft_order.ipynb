{
 "cells": [
  {
   "cell_type": "code",
   "execution_count": 1,
   "id": "e763a2fa",
   "metadata": {},
   "outputs": [],
   "source": [
    "import pandas as pd\n",
    "import numpy as np"
   ]
  },
  {
   "cell_type": "markdown",
   "id": "74455a88",
   "metadata": {},
   "source": [
    "## Draft Order 2021"
   ]
  },
  {
   "cell_type": "code",
   "execution_count": 2,
   "id": "5415f9cb",
   "metadata": {},
   "outputs": [],
   "source": [
    "csv = ['DET', 'HOU', 'CLE', 'TOR', 'ORL', 'OKC', 'GSW', 'ORL', 'SAC', 'NOP', 'CHO', 'SAS', 'IND', 'MIN', 'WAS', \n",
    "       'MIA', 'MEM', 'POR','NYK', 'ATL', 'DAL', 'LAL', 'BOS', 'MIL', 'LAC', 'DEN', 'BRK', 'PHI', 'PHO', 'UTA']"
   ]
  },
  {
   "cell_type": "code",
   "execution_count": 5,
   "id": "31174d32",
   "metadata": {},
   "outputs": [],
   "source": [
    "data = pd.DataFrame(csv, columns=['team'])"
   ]
  },
  {
   "cell_type": "code",
   "execution_count": 8,
   "id": "aafabd50",
   "metadata": {},
   "outputs": [],
   "source": [
    "data.index.rename('pick_order', inplace=True)"
   ]
  },
  {
   "cell_type": "code",
   "execution_count": 10,
   "id": "4e74f2c6",
   "metadata": {},
   "outputs": [],
   "source": [
    "data.index += 1"
   ]
  },
  {
   "cell_type": "code",
   "execution_count": 12,
   "id": "91f1440d",
   "metadata": {},
   "outputs": [],
   "source": [
    "data.to_csv('../nba_forecast/data/pick_order.csv', index=False)"
   ]
  },
  {
   "cell_type": "markdown",
   "id": "11d5783c",
   "metadata": {},
   "source": [
    "## Draft Order 2011"
   ]
  },
  {
   "cell_type": "code",
   "execution_count": 16,
   "id": "a50b401c",
   "metadata": {},
   "outputs": [],
   "source": [
    "csv_2 = ['CLE', 'MIN', 'UTA', 'DET', 'TOR', 'WAS', 'SAC', 'DET', 'CHA', 'MIL', 'GSW', 'ORL', 'PHO', 'LAC', 'IND', 'PHI', \n",
    "'NYK', 'ATL', 'MEM', 'LAL', 'POR', 'DEN', 'HOU', 'OKC', 'BOS', 'DAL', 'BRK', 'MIA', 'SAS', 'CHI']\n",
    "\n",
    "data_2 = pd.DataFrame(csv_2, columns=['team'])"
   ]
  },
  {
   "cell_type": "code",
   "execution_count": 17,
   "id": "069cef9e",
   "metadata": {},
   "outputs": [],
   "source": [
    "data_2.index.rename('pick_order', inplace=True)"
   ]
  },
  {
   "cell_type": "code",
   "execution_count": 18,
   "id": "8267c497",
   "metadata": {},
   "outputs": [],
   "source": [
    "data_2.index += 1"
   ]
  },
  {
   "cell_type": "code",
   "execution_count": 20,
   "id": "23efb2ea",
   "metadata": {},
   "outputs": [
    {
     "data": {
      "text/html": [
       "<div>\n",
       "<style scoped>\n",
       "    .dataframe tbody tr th:only-of-type {\n",
       "        vertical-align: middle;\n",
       "    }\n",
       "\n",
       "    .dataframe tbody tr th {\n",
       "        vertical-align: top;\n",
       "    }\n",
       "\n",
       "    .dataframe thead th {\n",
       "        text-align: right;\n",
       "    }\n",
       "</style>\n",
       "<table border=\"1\" class=\"dataframe\">\n",
       "  <thead>\n",
       "    <tr style=\"text-align: right;\">\n",
       "      <th></th>\n",
       "      <th>team</th>\n",
       "    </tr>\n",
       "    <tr>\n",
       "      <th>pick_order</th>\n",
       "      <th></th>\n",
       "    </tr>\n",
       "  </thead>\n",
       "  <tbody>\n",
       "    <tr>\n",
       "      <th>1</th>\n",
       "      <td>CLE</td>\n",
       "    </tr>\n",
       "    <tr>\n",
       "      <th>2</th>\n",
       "      <td>MIN</td>\n",
       "    </tr>\n",
       "    <tr>\n",
       "      <th>3</th>\n",
       "      <td>UTA</td>\n",
       "    </tr>\n",
       "    <tr>\n",
       "      <th>4</th>\n",
       "      <td>DET</td>\n",
       "    </tr>\n",
       "    <tr>\n",
       "      <th>5</th>\n",
       "      <td>TOR</td>\n",
       "    </tr>\n",
       "    <tr>\n",
       "      <th>6</th>\n",
       "      <td>WAS</td>\n",
       "    </tr>\n",
       "    <tr>\n",
       "      <th>7</th>\n",
       "      <td>SAC</td>\n",
       "    </tr>\n",
       "    <tr>\n",
       "      <th>8</th>\n",
       "      <td>DET</td>\n",
       "    </tr>\n",
       "    <tr>\n",
       "      <th>9</th>\n",
       "      <td>CHA</td>\n",
       "    </tr>\n",
       "    <tr>\n",
       "      <th>10</th>\n",
       "      <td>MIL</td>\n",
       "    </tr>\n",
       "    <tr>\n",
       "      <th>11</th>\n",
       "      <td>GSW</td>\n",
       "    </tr>\n",
       "    <tr>\n",
       "      <th>12</th>\n",
       "      <td>ORL</td>\n",
       "    </tr>\n",
       "    <tr>\n",
       "      <th>13</th>\n",
       "      <td>PHO</td>\n",
       "    </tr>\n",
       "    <tr>\n",
       "      <th>14</th>\n",
       "      <td>LAC</td>\n",
       "    </tr>\n",
       "    <tr>\n",
       "      <th>15</th>\n",
       "      <td>IND</td>\n",
       "    </tr>\n",
       "    <tr>\n",
       "      <th>16</th>\n",
       "      <td>PHI</td>\n",
       "    </tr>\n",
       "    <tr>\n",
       "      <th>17</th>\n",
       "      <td>NYK</td>\n",
       "    </tr>\n",
       "    <tr>\n",
       "      <th>18</th>\n",
       "      <td>ATL</td>\n",
       "    </tr>\n",
       "    <tr>\n",
       "      <th>19</th>\n",
       "      <td>MEM</td>\n",
       "    </tr>\n",
       "    <tr>\n",
       "      <th>20</th>\n",
       "      <td>LAL</td>\n",
       "    </tr>\n",
       "    <tr>\n",
       "      <th>21</th>\n",
       "      <td>POR</td>\n",
       "    </tr>\n",
       "    <tr>\n",
       "      <th>22</th>\n",
       "      <td>DEN</td>\n",
       "    </tr>\n",
       "    <tr>\n",
       "      <th>23</th>\n",
       "      <td>HOU</td>\n",
       "    </tr>\n",
       "    <tr>\n",
       "      <th>24</th>\n",
       "      <td>OKC</td>\n",
       "    </tr>\n",
       "    <tr>\n",
       "      <th>25</th>\n",
       "      <td>BOS</td>\n",
       "    </tr>\n",
       "    <tr>\n",
       "      <th>26</th>\n",
       "      <td>DAL</td>\n",
       "    </tr>\n",
       "    <tr>\n",
       "      <th>27</th>\n",
       "      <td>BRK</td>\n",
       "    </tr>\n",
       "    <tr>\n",
       "      <th>28</th>\n",
       "      <td>MIA</td>\n",
       "    </tr>\n",
       "    <tr>\n",
       "      <th>29</th>\n",
       "      <td>SAS</td>\n",
       "    </tr>\n",
       "    <tr>\n",
       "      <th>30</th>\n",
       "      <td>CHI</td>\n",
       "    </tr>\n",
       "  </tbody>\n",
       "</table>\n",
       "</div>"
      ],
      "text/plain": [
       "           team\n",
       "pick_order     \n",
       "1           CLE\n",
       "2           MIN\n",
       "3           UTA\n",
       "4           DET\n",
       "5           TOR\n",
       "6           WAS\n",
       "7           SAC\n",
       "8           DET\n",
       "9           CHA\n",
       "10          MIL\n",
       "11          GSW\n",
       "12          ORL\n",
       "13          PHO\n",
       "14          LAC\n",
       "15          IND\n",
       "16          PHI\n",
       "17          NYK\n",
       "18          ATL\n",
       "19          MEM\n",
       "20          LAL\n",
       "21          POR\n",
       "22          DEN\n",
       "23          HOU\n",
       "24          OKC\n",
       "25          BOS\n",
       "26          DAL\n",
       "27          BRK\n",
       "28          MIA\n",
       "29          SAS\n",
       "30          CHI"
      ]
     },
     "execution_count": 20,
     "metadata": {},
     "output_type": "execute_result"
    }
   ],
   "source": [
    "data_2"
   ]
  },
  {
   "cell_type": "code",
   "execution_count": 19,
   "id": "88e1dc2e",
   "metadata": {},
   "outputs": [],
   "source": [
    "data_2.to_csv('../nba_forecast/data/pick_order_2011.csv', index=False)"
   ]
  }
 ],
 "metadata": {
  "kernelspec": {
   "display_name": "Python 3 (ipykernel)",
   "language": "python",
   "name": "python3"
  },
  "language_info": {
   "codemirror_mode": {
    "name": "ipython",
    "version": 3
   },
   "file_extension": ".py",
   "mimetype": "text/x-python",
   "name": "python",
   "nbconvert_exporter": "python",
   "pygments_lexer": "ipython3",
   "version": "3.8.6"
  },
  "toc": {
   "base_numbering": 1,
   "nav_menu": {},
   "number_sections": true,
   "sideBar": true,
   "skip_h1_title": false,
   "title_cell": "Table of Contents",
   "title_sidebar": "Contents",
   "toc_cell": false,
   "toc_position": {},
   "toc_section_display": true,
   "toc_window_display": false
  }
 },
 "nbformat": 4,
 "nbformat_minor": 5
}
