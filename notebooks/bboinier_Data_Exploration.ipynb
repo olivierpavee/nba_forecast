{
 "cells": [
  {
   "cell_type": "code",
   "execution_count": 167,
   "id": "bb0c3f83",
   "metadata": {},
   "outputs": [],
   "source": [
    "import pandas as pd\n",
    "import numpy as np\n",
    "import matplotlib.pyplot as plt\n",
    "import seaborn as sns\n",
    "from sklearn import set_config; set_config(display='diagram')"
   ]
  },
  {
   "cell_type": "code",
   "execution_count": 168,
   "id": "13571680",
   "metadata": {},
   "outputs": [],
   "source": [
    "# sklearn preproc\n",
    "from sklearn.model_selection import train_test_split\n",
    "from sklearn.preprocessing import MinMaxScaler, StandardScaler\n",
    "from sklearn.pipeline import Pipeline, make_pipeline\n",
    "from sklearn.compose import ColumnTransformer, make_column_transformer, make_column_selector\n",
    "from sklearn.impute import SimpleImputer, KNNImputer\n",
    "from sklearn.preprocessing import RobustScaler, OneHotEncoder, OrdinalEncoder\n",
    "from sklearn.metrics import make_scorer\n",
    "\n",
    "from sklearn.model_selection import cross_val_score\n",
    "from sklearn.neighbors import KNeighborsRegressor\n",
    "from sklearn.linear_model import Ridge, Lasso, LinearRegression\n",
    "from sklearn.model_selection import RandomizedSearchCV\n",
    "from sklearn.svm import SVR\n",
    "from sklearn.model_selection import GridSearchCV, RandomizedSearchCV\n",
    "from sklearn.ensemble import AdaBoostRegressor\n",
    "from sklearn.tree import DecisionTreeRegressor\n",
    "from sklearn.ensemble import VotingRegressor\n",
    "from sklearn.ensemble import GradientBoostingRegressor\n",
    "from sklearn.ensemble import StackingRegressor\n",
    "from sklearn.ensemble import RandomForestRegressor"
   ]
  },
  {
   "cell_type": "markdown",
   "id": "2cb5b1cf",
   "metadata": {},
   "source": [
    "# Chargement du Dataset"
   ]
  },
  {
   "cell_type": "code",
   "execution_count": 169,
   "id": "0d48e3f6",
   "metadata": {},
   "outputs": [],
   "source": [
    "data = pd.read_csv('../nba_forecast/data/dataset_complet_X_y.csv')"
   ]
  },
  {
   "cell_type": "code",
   "execution_count": 170,
   "id": "2cfa1828",
   "metadata": {},
   "outputs": [],
   "source": [
    "data.rename(columns={\"years\": \"nb_year_uni\", \"year\": \"year_athletic_test\"}, inplace=True)"
   ]
  },
  {
   "cell_type": "code",
   "execution_count": 171,
   "id": "bf96adbe",
   "metadata": {},
   "outputs": [
    {
     "data": {
      "text/plain": [
       "Index(['season', 'school_name', 'conf_abbr', 'g', 'gs', 'mp', 'per', 'ts_pct',\n",
       "       'efg_pct', 'fg3a_per_fga_pct', 'fta_per_fga_pct', 'pprod', 'orb_pct',\n",
       "       'drb_pct', 'trb_pct', 'ast_pct', 'stl_pct', 'blk_pct', 'tov_pct',\n",
       "       'usg_pct', 'ows', 'dws', 'ws', 'ws_per_40', 'obpm', 'dbpm', 'bpm',\n",
       "       'nb_year_uni', 'year_athletic_test', 'position', 'body_fat_pct',\n",
       "       'hand_length', 'hand_width', 'height_wo_shoes', 'height_w_shoes',\n",
       "       'standing_reach', 'weight', 'wingspan', 'player_id', 'pos', 'off_score',\n",
       "       'def_score', 'uni_off_score', 'uni_def_score', 'ratio_off',\n",
       "       'ratio_def'],\n",
       "      dtype='object')"
      ]
     },
     "execution_count": 171,
     "metadata": {},
     "output_type": "execute_result"
    }
   ],
   "source": [
    "data.columns"
   ]
  },
  {
   "cell_type": "markdown",
   "id": "008de329",
   "metadata": {},
   "source": [
    "# Recherche des lignes abérrantes"
   ]
  },
  {
   "cell_type": "code",
   "execution_count": 172,
   "id": "1e5e52f5",
   "metadata": {},
   "outputs": [
    {
     "data": {
      "text/plain": [
       "season                 0\n",
       "school_name            0\n",
       "conf_abbr              0\n",
       "g                      0\n",
       "gs                     0\n",
       "mp                     0\n",
       "per                    0\n",
       "ts_pct                 0\n",
       "efg_pct                0\n",
       "fg3a_per_fga_pct       0\n",
       "fta_per_fga_pct        0\n",
       "pprod                  0\n",
       "orb_pct                0\n",
       "drb_pct                0\n",
       "trb_pct                0\n",
       "ast_pct                0\n",
       "stl_pct                0\n",
       "blk_pct                0\n",
       "tov_pct                0\n",
       "usg_pct                0\n",
       "ows                    0\n",
       "dws                    0\n",
       "ws                     0\n",
       "ws_per_40              0\n",
       "obpm                   0\n",
       "dbpm                   0\n",
       "bpm                    0\n",
       "nb_year_uni            0\n",
       "year_athletic_test    54\n",
       "position               0\n",
       "body_fat_pct          56\n",
       "hand_length            0\n",
       "hand_width             0\n",
       "height_wo_shoes        0\n",
       "height_w_shoes         0\n",
       "standing_reach         0\n",
       "weight                54\n",
       "wingspan               0\n",
       "player_id              0\n",
       "pos                   89\n",
       "off_score             89\n",
       "def_score             89\n",
       "uni_off_score          0\n",
       "uni_def_score          0\n",
       "ratio_off             89\n",
       "ratio_def             89\n",
       "dtype: int64"
      ]
     },
     "execution_count": 172,
     "metadata": {},
     "output_type": "execute_result"
    }
   ],
   "source": [
    "data.isna().sum()"
   ]
  },
  {
   "cell_type": "code",
   "execution_count": 173,
   "id": "69119d69",
   "metadata": {},
   "outputs": [
    {
     "data": {
      "text/plain": [
       "season                 0\n",
       "school_name            0\n",
       "conf_abbr              0\n",
       "g                      0\n",
       "gs                     0\n",
       "mp                     0\n",
       "per                    0\n",
       "ts_pct                 0\n",
       "efg_pct                0\n",
       "fg3a_per_fga_pct       0\n",
       "fta_per_fga_pct        0\n",
       "pprod                  0\n",
       "orb_pct                0\n",
       "drb_pct                0\n",
       "trb_pct                0\n",
       "ast_pct                0\n",
       "stl_pct                0\n",
       "blk_pct                0\n",
       "tov_pct                0\n",
       "usg_pct                0\n",
       "ows                    0\n",
       "dws                    0\n",
       "ws                     0\n",
       "ws_per_40              0\n",
       "obpm                   0\n",
       "dbpm                   0\n",
       "bpm                    0\n",
       "nb_year_uni            0\n",
       "year_athletic_test    54\n",
       "position               0\n",
       "body_fat_pct          56\n",
       "hand_length            0\n",
       "hand_width             0\n",
       "height_wo_shoes        0\n",
       "height_w_shoes         0\n",
       "standing_reach         0\n",
       "weight                54\n",
       "wingspan               0\n",
       "player_id              0\n",
       "pos                   89\n",
       "off_score             89\n",
       "def_score             89\n",
       "uni_off_score          0\n",
       "uni_def_score          0\n",
       "ratio_off             89\n",
       "ratio_def             89\n",
       "dtype: int64"
      ]
     },
     "execution_count": 173,
     "metadata": {},
     "output_type": "execute_result"
    }
   ],
   "source": [
    "data.isnull().sum()"
   ]
  },
  {
   "cell_type": "markdown",
   "id": "0c85e446",
   "metadata": {},
   "source": [
    "# Constitution du Dataset de train"
   ]
  },
  {
   "cell_type": "code",
   "execution_count": 174,
   "id": "0d390fb3",
   "metadata": {},
   "outputs": [],
   "source": [
    "data_train = data[~data['off_score'].isnull()]"
   ]
  },
  {
   "cell_type": "code",
   "execution_count": 175,
   "id": "019df041",
   "metadata": {},
   "outputs": [
    {
     "data": {
      "text/plain": [
       "Index(['season', 'school_name', 'conf_abbr', 'g', 'gs', 'mp', 'per', 'ts_pct',\n",
       "       'efg_pct', 'fg3a_per_fga_pct', 'fta_per_fga_pct', 'pprod', 'orb_pct',\n",
       "       'drb_pct', 'trb_pct', 'ast_pct', 'stl_pct', 'blk_pct', 'tov_pct',\n",
       "       'usg_pct', 'ows', 'dws', 'ws', 'ws_per_40', 'obpm', 'dbpm', 'bpm',\n",
       "       'nb_year_uni', 'year_athletic_test', 'position', 'body_fat_pct',\n",
       "       'hand_length', 'hand_width', 'height_wo_shoes', 'height_w_shoes',\n",
       "       'standing_reach', 'weight', 'wingspan', 'player_id', 'pos', 'off_score',\n",
       "       'def_score', 'uni_off_score', 'uni_def_score', 'ratio_off',\n",
       "       'ratio_def'],\n",
       "      dtype='object')"
      ]
     },
     "execution_count": 175,
     "metadata": {},
     "output_type": "execute_result"
    }
   ],
   "source": [
    "data_train.columns"
   ]
  },
  {
   "cell_type": "code",
   "execution_count": 176,
   "id": "39a7d720",
   "metadata": {},
   "outputs": [
    {
     "name": "stderr",
     "output_type": "stream",
     "text": [
      "/home/borisb/.pyenv/versions/3.8.6/envs/nba_forecast/lib/python3.8/site-packages/pandas/core/frame.py:4901: SettingWithCopyWarning: \n",
      "A value is trying to be set on a copy of a slice from a DataFrame\n",
      "\n",
      "See the caveats in the documentation: https://pandas.pydata.org/pandas-docs/stable/user_guide/indexing.html#returning-a-view-versus-a-copy\n",
      "  return super().drop(\n"
     ]
    }
   ],
   "source": [
    "data_train.drop(columns='pos',inplace=True)"
   ]
  },
  {
   "cell_type": "markdown",
   "id": "a54cfa0a",
   "metadata": {},
   "source": [
    "# Constitution des Dataframes : *X*, *y_off* & *y_def*"
   ]
  },
  {
   "cell_type": "code",
   "execution_count": 177,
   "id": "70de41d5",
   "metadata": {},
   "outputs": [],
   "source": [
    "X = data_train[['season', 'school_name', 'conf_abbr', 'g', 'gs', 'mp', 'per', 'ts_pct',\n",
    "       'efg_pct', 'fg3a_per_fga_pct', 'fta_per_fga_pct', 'pprod', 'orb_pct',\n",
    "       'drb_pct', 'trb_pct', 'ast_pct', 'stl_pct', 'blk_pct', 'tov_pct',\n",
    "       'usg_pct', 'ows', 'dws', 'ws', 'ws_per_40', 'obpm', 'dbpm', 'bpm',\n",
    "       'nb_year_uni', 'year_athletic_test', 'position', 'body_fat_pct',\n",
    "       'hand_length', 'hand_width', 'height_wo_shoes', 'height_w_shoes',\n",
    "       'standing_reach', 'weight', 'wingspan']]"
   ]
  },
  {
   "cell_type": "code",
   "execution_count": 178,
   "id": "842c0327",
   "metadata": {},
   "outputs": [],
   "source": [
    "y_off = data_train.pop('ratio_off')"
   ]
  },
  {
   "cell_type": "code",
   "execution_count": 179,
   "id": "a11d3bd6",
   "metadata": {},
   "outputs": [],
   "source": [
    "y_def = data_train.pop('ratio_def')"
   ]
  },
  {
   "cell_type": "markdown",
   "id": "0d55c569",
   "metadata": {},
   "source": [
    "# Optimisation des *dtype*"
   ]
  },
  {
   "cell_type": "code",
   "execution_count": 180,
   "id": "54159b1e",
   "metadata": {},
   "outputs": [
    {
     "data": {
      "text/plain": [
       "season                 object\n",
       "school_name            object\n",
       "conf_abbr              object\n",
       "g                       int64\n",
       "gs                      int64\n",
       "mp                      int64\n",
       "per                   float64\n",
       "ts_pct                float64\n",
       "efg_pct               float64\n",
       "fg3a_per_fga_pct      float64\n",
       "fta_per_fga_pct       float64\n",
       "pprod                 float64\n",
       "orb_pct               float64\n",
       "drb_pct               float64\n",
       "trb_pct               float64\n",
       "ast_pct               float64\n",
       "stl_pct               float64\n",
       "blk_pct               float64\n",
       "tov_pct               float64\n",
       "usg_pct               float64\n",
       "ows                   float64\n",
       "dws                   float64\n",
       "ws                    float64\n",
       "ws_per_40             float64\n",
       "obpm                  float64\n",
       "dbpm                  float64\n",
       "bpm                   float64\n",
       "nb_year_uni             int64\n",
       "year_athletic_test     object\n",
       "position               object\n",
       "body_fat_pct          float64\n",
       "hand_length             int64\n",
       "hand_width              int64\n",
       "height_wo_shoes         int64\n",
       "height_w_shoes          int64\n",
       "standing_reach          int64\n",
       "weight                float64\n",
       "wingspan                int64\n",
       "dtype: object"
      ]
     },
     "execution_count": 180,
     "metadata": {},
     "output_type": "execute_result"
    }
   ],
   "source": [
    "X.dtypes"
   ]
  },
  {
   "cell_type": "code",
   "execution_count": 181,
   "id": "40741f78",
   "metadata": {},
   "outputs": [
    {
     "name": "stderr",
     "output_type": "stream",
     "text": [
      "/home/borisb/.pyenv/versions/3.8.6/envs/nba_forecast/lib/python3.8/site-packages/pandas/core/generic.py:5516: SettingWithCopyWarning: \n",
      "A value is trying to be set on a copy of a slice from a DataFrame.\n",
      "Try using .loc[row_indexer,col_indexer] = value instead\n",
      "\n",
      "See the caveats in the documentation: https://pandas.pydata.org/pandas-docs/stable/user_guide/indexing.html#returning-a-view-versus-a-copy\n",
      "  self[name] = value\n"
     ]
    }
   ],
   "source": [
    "X.g = X.g.astype('int32')\n",
    "X.gs = X.gs.astype('int32')\n",
    "X.mp = X.mp.astype('int32')\n",
    "X.nb_year_uni = X.nb_year_uni.astype('int32')\n",
    "X.hand_length = X.hand_length.astype('int32')\n",
    "X.hand_width = X.hand_width.astype('int32')\n",
    "X.height_wo_shoes = X.height_wo_shoes.astype('int32')\n",
    "X.height_w_shoes = X.height_w_shoes.astype('int32')\n",
    "X.standing_reach = X.standing_reach.astype('int32')\n",
    "X.wingspan = X.wingspan.astype('int32')"
   ]
  },
  {
   "cell_type": "code",
   "execution_count": 182,
   "id": "cad9ee30",
   "metadata": {},
   "outputs": [
    {
     "data": {
      "text/plain": [
       "season                 object\n",
       "school_name            object\n",
       "conf_abbr              object\n",
       "g                       int32\n",
       "gs                      int32\n",
       "mp                      int32\n",
       "per                   float64\n",
       "ts_pct                float64\n",
       "efg_pct               float64\n",
       "fg3a_per_fga_pct      float64\n",
       "fta_per_fga_pct       float64\n",
       "pprod                 float64\n",
       "orb_pct               float64\n",
       "drb_pct               float64\n",
       "trb_pct               float64\n",
       "ast_pct               float64\n",
       "stl_pct               float64\n",
       "blk_pct               float64\n",
       "tov_pct               float64\n",
       "usg_pct               float64\n",
       "ows                   float64\n",
       "dws                   float64\n",
       "ws                    float64\n",
       "ws_per_40             float64\n",
       "obpm                  float64\n",
       "dbpm                  float64\n",
       "bpm                   float64\n",
       "nb_year_uni             int32\n",
       "year_athletic_test     object\n",
       "position               object\n",
       "body_fat_pct          float64\n",
       "hand_length             int32\n",
       "hand_width              int32\n",
       "height_wo_shoes         int32\n",
       "height_w_shoes          int32\n",
       "standing_reach          int32\n",
       "weight                float64\n",
       "wingspan                int32\n",
       "dtype: object"
      ]
     },
     "execution_count": 182,
     "metadata": {},
     "output_type": "execute_result"
    }
   ],
   "source": [
    "X.dtypes"
   ]
  },
  {
   "cell_type": "code",
   "execution_count": 183,
   "id": "90ec1a5a",
   "metadata": {},
   "outputs": [
    {
     "data": {
      "text/plain": [
       "dtype('float64')"
      ]
     },
     "execution_count": 183,
     "metadata": {},
     "output_type": "execute_result"
    }
   ],
   "source": [
    "y_def.dtype"
   ]
  },
  {
   "cell_type": "code",
   "execution_count": 184,
   "id": "0fd67efc",
   "metadata": {},
   "outputs": [
    {
     "data": {
      "text/plain": [
       "0    0.88\n",
       "1    0.96\n",
       "2    0.86\n",
       "3    0.73\n",
       "4    0.81\n",
       "Name: ratio_def, dtype: float64"
      ]
     },
     "execution_count": 184,
     "metadata": {},
     "output_type": "execute_result"
    }
   ],
   "source": [
    "y_def.head()"
   ]
  },
  {
   "cell_type": "markdown",
   "id": "eb5fa6be",
   "metadata": {},
   "source": [
    "# Analyse des features"
   ]
  },
  {
   "cell_type": "code",
   "execution_count": 185,
   "id": "4a847d97",
   "metadata": {},
   "outputs": [],
   "source": [
    "feat_categorical_nunique = X.select_dtypes(include='object').nunique()"
   ]
  },
  {
   "cell_type": "code",
   "execution_count": 186,
   "id": "f07b09f1",
   "metadata": {},
   "outputs": [
    {
     "data": {
      "text/plain": [
       "season                 7\n",
       "school_name           85\n",
       "conf_abbr             22\n",
       "year_athletic_test     7\n",
       "position               5\n",
       "dtype: int64"
      ]
     },
     "execution_count": 186,
     "metadata": {},
     "output_type": "execute_result"
    }
   ],
   "source": [
    "feat_categorical_nunique"
   ]
  },
  {
   "cell_type": "code",
   "execution_count": 187,
   "id": "84abb7eb",
   "metadata": {},
   "outputs": [
    {
     "data": {
      "text/plain": [
       "126"
      ]
     },
     "execution_count": 187,
     "metadata": {},
     "output_type": "execute_result"
    }
   ],
   "source": [
    "feat_categorical_nunique.sum()"
   ]
  },
  {
   "cell_type": "code",
   "execution_count": 188,
   "id": "2eece807",
   "metadata": {},
   "outputs": [
    {
     "data": {
      "text/plain": [
       "<AxesSubplot:>"
      ]
     },
     "execution_count": 188,
     "metadata": {},
     "output_type": "execute_result"
    },
    {
     "data": {
      "image/png": "[encoded data removed]",
      "text/plain": [
       "<Figure size 432x288 with 1 Axes>"
      ]
     },
     "metadata": {
      "needs_background": "light"
     },
     "output_type": "display_data"
    }
   ],
   "source": [
    "feat_categorical_nunique.hist()"
   ]
  },
  {
   "cell_type": "code",
   "execution_count": 189,
   "id": "f8074af5",
   "metadata": {},
   "outputs": [],
   "source": [
    "feat_categorical_small = list(feat_categorical_nunique[feat_categorical_nunique < 20].index)"
   ]
  },
  {
   "cell_type": "code",
   "execution_count": 190,
   "id": "7a89f924",
   "metadata": {},
   "outputs": [
    {
     "data": {
      "text/plain": [
       "['season', 'year_athletic_test', 'position']"
      ]
     },
     "execution_count": 190,
     "metadata": {},
     "output_type": "execute_result"
    }
   ],
   "source": [
    "feat_categorical_small"
   ]
  },
  {
   "cell_type": "code",
   "execution_count": 191,
   "id": "f558614c",
   "metadata": {},
   "outputs": [],
   "source": [
    "feat_categorical_small_2 = list(feat_categorical_nunique[feat_categorical_nunique < 40].index)"
   ]
  },
  {
   "cell_type": "code",
   "execution_count": 192,
   "id": "5ceaa035",
   "metadata": {},
   "outputs": [
    {
     "data": {
      "text/plain": [
       "['season', 'conf_abbr', 'year_athletic_test', 'position']"
      ]
     },
     "execution_count": 192,
     "metadata": {},
     "output_type": "execute_result"
    }
   ],
   "source": [
    "feat_categorical_small_2"
   ]
  },
  {
   "cell_type": "code",
   "execution_count": 193,
   "id": "18306848",
   "metadata": {},
   "outputs": [
    {
     "data": {
      "text/plain": [
       "'year_athletic_test'"
      ]
     },
     "execution_count": 193,
     "metadata": {},
     "output_type": "execute_result"
    }
   ],
   "source": [
    "feat_categorical_small.pop(0)\n",
    "feat_categorical_small.pop(0)"
   ]
  },
  {
   "cell_type": "code",
   "execution_count": 194,
   "id": "4bc13e6c",
   "metadata": {},
   "outputs": [
    {
     "data": {
      "text/plain": [
       "['position']"
      ]
     },
     "execution_count": 194,
     "metadata": {},
     "output_type": "execute_result"
    }
   ],
   "source": [
    "feat_categorical_small"
   ]
  },
  {
   "cell_type": "markdown",
   "id": "e2cd1fb2",
   "metadata": {},
   "source": [
    "Nous allons seulement garder la **'position'** comme feat_categorical"
   ]
  },
  {
   "cell_type": "markdown",
   "id": "35008432",
   "metadata": {},
   "source": [
    "# Pipeline de preprocessing - Minimal Baseline"
   ]
  },
  {
   "cell_type": "code",
   "execution_count": 195,
   "id": "db563175",
   "metadata": {},
   "outputs": [
    {
     "data": {
      "text/html": [
       "<style>#sk-02dc8050-6f14-495a-9f0f-46e6a1dc2df8 {color: black;background-color: white;}#sk-02dc8050-6f14-495a-9f0f-46e6a1dc2df8 pre{padding: 0;}#sk-02dc8050-6f14-495a-9f0f-46e6a1dc2df8 div.sk-toggleable {background-color: white;}#sk-02dc8050-6f14-495a-9f0f-46e6a1dc2df8 label.sk-toggleable__label {cursor: pointer;display: block;width: 100%;margin-bottom: 0;padding: 0.2em 0.3em;box-sizing: border-box;text-align: center;}#sk-02dc8050-6f14-495a-9f0f-46e6a1dc2df8 div.sk-toggleable__content {max-height: 0;max-width: 0;overflow: hidden;text-align: left;background-color: #f0f8ff;}#sk-02dc8050-6f14-495a-9f0f-46e6a1dc2df8 div.sk-toggleable__content pre {margin: 0.2em;color: black;border-radius: 0.25em;background-color: #f0f8ff;}#sk-02dc8050-6f14-495a-9f0f-46e6a1dc2df8 input.sk-toggleable__control:checked~div.sk-toggleable__content {max-height: 200px;max-width: 100%;overflow: auto;}#sk-02dc8050-6f14-495a-9f0f-46e6a1dc2df8 div.sk-estimator input.sk-toggleable__control:checked~label.sk-toggleable__label {background-color: #d4ebff;}#sk-02dc8050-6f14-495a-9f0f-46e6a1dc2df8 div.sk-label input.sk-toggleable__control:checked~label.sk-toggleable__label {background-color: #d4ebff;}#sk-02dc8050-6f14-495a-9f0f-46e6a1dc2df8 input.sk-hidden--visually {border: 0;clip: rect(1px 1px 1px 1px);clip: rect(1px, 1px, 1px, 1px);height: 1px;margin: -1px;overflow: hidden;padding: 0;position: absolute;width: 1px;}#sk-02dc8050-6f14-495a-9f0f-46e6a1dc2df8 div.sk-estimator {font-family: monospace;background-color: #f0f8ff;margin: 0.25em 0.25em;border: 1px dotted black;border-radius: 0.25em;box-sizing: border-box;}#sk-02dc8050-6f14-495a-9f0f-46e6a1dc2df8 div.sk-estimator:hover {background-color: #d4ebff;}#sk-02dc8050-6f14-495a-9f0f-46e6a1dc2df8 div.sk-parallel-item::after {content: \"\";width: 100%;border-bottom: 1px solid gray;flex-grow: 1;}#sk-02dc8050-6f14-495a-9f0f-46e6a1dc2df8 div.sk-label:hover label.sk-toggleable__label {background-color: #d4ebff;}#sk-02dc8050-6f14-495a-9f0f-46e6a1dc2df8 div.sk-serial::before {content: \"\";position: absolute;border-left: 1px solid gray;box-sizing: border-box;top: 2em;bottom: 0;left: 50%;}#sk-02dc8050-6f14-495a-9f0f-46e6a1dc2df8 div.sk-serial {display: flex;flex-direction: column;align-items: center;background-color: white;}#sk-02dc8050-6f14-495a-9f0f-46e6a1dc2df8 div.sk-item {z-index: 1;}#sk-02dc8050-6f14-495a-9f0f-46e6a1dc2df8 div.sk-parallel {display: flex;align-items: stretch;justify-content: center;background-color: white;}#sk-02dc8050-6f14-495a-9f0f-46e6a1dc2df8 div.sk-parallel-item {display: flex;flex-direction: column;position: relative;background-color: white;}#sk-02dc8050-6f14-495a-9f0f-46e6a1dc2df8 div.sk-parallel-item:first-child::after {align-self: flex-end;width: 50%;}#sk-02dc8050-6f14-495a-9f0f-46e6a1dc2df8 div.sk-parallel-item:last-child::after {align-self: flex-start;width: 50%;}#sk-02dc8050-6f14-495a-9f0f-46e6a1dc2df8 div.sk-parallel-item:only-child::after {width: 0;}#sk-02dc8050-6f14-495a-9f0f-46e6a1dc2df8 div.sk-dashed-wrapped {border: 1px dashed gray;margin: 0.2em;box-sizing: border-box;padding-bottom: 0.1em;background-color: white;position: relative;}#sk-02dc8050-6f14-495a-9f0f-46e6a1dc2df8 div.sk-label label {font-family: monospace;font-weight: bold;background-color: white;display: inline-block;line-height: 1.2em;}#sk-02dc8050-6f14-495a-9f0f-46e6a1dc2df8 div.sk-label-container {position: relative;z-index: 2;text-align: center;}#sk-02dc8050-6f14-495a-9f0f-46e6a1dc2df8 div.sk-container {display: inline-block;position: relative;}</style><div id=\"sk-02dc8050-6f14-495a-9f0f-46e6a1dc2df8\" class\"sk-top-container\"><div class=\"sk-container\"><div class=\"sk-item sk-dashed-wrapped\"><div class=\"sk-label-container\"><div class=\"sk-label sk-toggleable\"><input class=\"sk-toggleable__control sk-hidden--visually\" id=\"e6141232-4650-49c4-9a4b-9495730c0557\" type=\"checkbox\" ><label class=\"sk-toggleable__label\" for=\"e6141232-4650-49c4-9a4b-9495730c0557\">ColumnTransformer</label><div class=\"sk-toggleable__content\"><pre>ColumnTransformer(transformers=[('pipeline-1',\n",
       "                                 Pipeline(steps=[('simpleimputer',\n",
       "                                                  SimpleImputer(verbose=1)),\n",
       "                                                 ('minmaxscaler',\n",
       "                                                  MinMaxScaler())]),\n",
       "                                 <sklearn.compose._column_transformer.make_column_selector object at 0x7fc15d084be0>),\n",
       "                                ('pipeline-2',\n",
       "                                 Pipeline(steps=[('simpleimputer',\n",
       "                                                  SimpleImputer(strategy='most_frequent')),\n",
       "                                                 ('onehotencoder',\n",
       "                                                  OneHotEncoder(handle_unknown='ignore'))]),\n",
       "                                 ['position'])])</pre></div></div></div><div class=\"sk-parallel\"><div class=\"sk-parallel-item\"><div class=\"sk-item\"><div class=\"sk-label-container\"><div class=\"sk-label sk-toggleable\"><input class=\"sk-toggleable__control sk-hidden--visually\" id=\"86ef4bf8-5fc2-42a5-a7cd-9782f894c7a4\" type=\"checkbox\" ><label class=\"sk-toggleable__label\" for=\"86ef4bf8-5fc2-42a5-a7cd-9782f894c7a4\">pipeline-1</label><div class=\"sk-toggleable__content\"><pre><sklearn.compose._column_transformer.make_column_selector object at 0x7fc15d084be0></pre></div></div></div><div class=\"sk-serial\"><div class=\"sk-item\"><div class=\"sk-serial\"><div class=\"sk-item\"><div class=\"sk-estimator sk-toggleable\"><input class=\"sk-toggleable__control sk-hidden--visually\" id=\"8aeceed5-2aa2-497b-bf08-56a0ff00b8d8\" type=\"checkbox\" ><label class=\"sk-toggleable__label\" for=\"8aeceed5-2aa2-497b-bf08-56a0ff00b8d8\">SimpleImputer</label><div class=\"sk-toggleable__content\"><pre>SimpleImputer(verbose=1)</pre></div></div></div><div class=\"sk-item\"><div class=\"sk-estimator sk-toggleable\"><input class=\"sk-toggleable__control sk-hidden--visually\" id=\"48feac1a-72b7-49b9-b5f0-8075310f0ba8\" type=\"checkbox\" ><label class=\"sk-toggleable__label\" for=\"48feac1a-72b7-49b9-b5f0-8075310f0ba8\">MinMaxScaler</label><div class=\"sk-toggleable__content\"><pre>MinMaxScaler()</pre></div></div></div></div></div></div></div></div><div class=\"sk-parallel-item\"><div class=\"sk-item\"><div class=\"sk-label-container\"><div class=\"sk-label sk-toggleable\"><input class=\"sk-toggleable__control sk-hidden--visually\" id=\"15f77d42-1b6a-482d-96ac-a2b67b2e97c3\" type=\"checkbox\" ><label class=\"sk-toggleable__label\" for=\"15f77d42-1b6a-482d-96ac-a2b67b2e97c3\">pipeline-2</label><div class=\"sk-toggleable__content\"><pre>['position']</pre></div></div></div><div class=\"sk-serial\"><div class=\"sk-item\"><div class=\"sk-serial\"><div class=\"sk-item\"><div class=\"sk-estimator sk-toggleable\"><input class=\"sk-toggleable__control sk-hidden--visually\" id=\"32ff3c2d-9751-469c-8a90-9d9299c84f01\" type=\"checkbox\" ><label class=\"sk-toggleable__label\" for=\"32ff3c2d-9751-469c-8a90-9d9299c84f01\">SimpleImputer</label><div class=\"sk-toggleable__content\"><pre>SimpleImputer(strategy='most_frequent')</pre></div></div></div><div class=\"sk-item\"><div class=\"sk-estimator sk-toggleable\"><input class=\"sk-toggleable__control sk-hidden--visually\" id=\"c0e96bdf-fc71-493c-b622-6b17f9c855d5\" type=\"checkbox\" ><label class=\"sk-toggleable__label\" for=\"c0e96bdf-fc71-493c-b622-6b17f9c855d5\">OneHotEncoder</label><div class=\"sk-toggleable__content\"><pre>OneHotEncoder(handle_unknown='ignore')</pre></div></div></div></div></div></div></div></div></div></div></div></div>"
      ],
      "text/plain": [
       "ColumnTransformer(transformers=[('pipeline-1',\n",
       "                                 Pipeline(steps=[('simpleimputer',\n",
       "                                                  SimpleImputer(verbose=1)),\n",
       "                                                 ('minmaxscaler',\n",
       "                                                  MinMaxScaler())]),\n",
       "                                 <sklearn.compose._column_transformer.make_column_selector object at 0x7fc15d084be0>),\n",
       "                                ('pipeline-2',\n",
       "                                 Pipeline(steps=[('simpleimputer',\n",
       "                                                  SimpleImputer(strategy='most_frequent')),\n",
       "                                                 ('onehotencoder',\n",
       "                                                  OneHotEncoder(handle_unknown='ignore'))]),\n",
       "                                 ['position'])])"
      ]
     },
     "execution_count": 195,
     "metadata": {},
     "output_type": "execute_result"
    }
   ],
   "source": [
    "preproc_numerical_baseline = make_pipeline(\n",
    "    SimpleImputer(verbose=1),\n",
    "    MinMaxScaler())\n",
    "\n",
    "preproc_categorical_baseline = make_pipeline(\n",
    "    SimpleImputer(strategy=\"most_frequent\"),\n",
    "    OneHotEncoder(handle_unknown=\"ignore\"))\n",
    "\n",
    "preproc_baseline = make_column_transformer(\n",
    "    (preproc_numerical_baseline, make_column_selector(dtype_include=[\"int32\", \"float64\"])),\n",
    "    (preproc_categorical_baseline, feat_categorical_small),\n",
    "    remainder=\"drop\")\n",
    "\n",
    "preproc_baseline"
   ]
  },
  {
   "cell_type": "code",
   "execution_count": 202,
   "id": "cb59685f",
   "metadata": {},
   "outputs": [
    {
     "data": {
      "text/plain": [
       "(245, 38)"
      ]
     },
     "execution_count": 202,
     "metadata": {},
     "output_type": "execute_result"
    }
   ],
   "source": [
    "shape_preproc_baseline = preproc_baseline.fit_transform(X).shape\n",
    "shape_preproc_baseline"
   ]
  },
  {
   "cell_type": "markdown",
   "id": "d78d08dd",
   "metadata": {},
   "source": [
    "## Définition du scorer"
   ]
  },
  {
   "cell_type": "code",
   "execution_count": 214,
   "id": "8ffcf2ba",
   "metadata": {},
   "outputs": [],
   "source": [
    "from sklearn.metrics import mean_squared_error\n",
    "from sklearn.metrics import make_scorer\n",
    "\n",
    "# This is our metric to minimize\n",
    "mse = make_scorer(lambda y_true, y_pred: mean_squared_error(y_true, y_pred)**0.5)\n",
    "\n",
    "# # This is our score to maximize\n",
    "# rmsle_neg = make_scorer(lambda y_true, y_pred: -1 * mean_squared_log_error(y_true, y_pred)**0.5)\n",
    "# # Equivalent formulation\n",
    "# rmsle_neg = make_scorer(\n",
    "#     lambda y_true, y_pred: mean_squared_log_error(y_true, y_pred)**0.5,\n",
    "#     greater_is_better=False\n",
    "# )"
   ]
  },
  {
   "cell_type": "code",
   "execution_count": 215,
   "id": "36fe5f09",
   "metadata": {},
   "outputs": [
    {
     "data": {
      "text/html": [
       "<style>#sk-fa366938-cd2a-4a15-ae3c-ead46253fcf3 {color: black;background-color: white;}#sk-fa366938-cd2a-4a15-ae3c-ead46253fcf3 pre{padding: 0;}#sk-fa366938-cd2a-4a15-ae3c-ead46253fcf3 div.sk-toggleable {background-color: white;}#sk-fa366938-cd2a-4a15-ae3c-ead46253fcf3 label.sk-toggleable__label {cursor: pointer;display: block;width: 100%;margin-bottom: 0;padding: 0.2em 0.3em;box-sizing: border-box;text-align: center;}#sk-fa366938-cd2a-4a15-ae3c-ead46253fcf3 div.sk-toggleable__content {max-height: 0;max-width: 0;overflow: hidden;text-align: left;background-color: #f0f8ff;}#sk-fa366938-cd2a-4a15-ae3c-ead46253fcf3 div.sk-toggleable__content pre {margin: 0.2em;color: black;border-radius: 0.25em;background-color: #f0f8ff;}#sk-fa366938-cd2a-4a15-ae3c-ead46253fcf3 input.sk-toggleable__control:checked~div.sk-toggleable__content {max-height: 200px;max-width: 100%;overflow: auto;}#sk-fa366938-cd2a-4a15-ae3c-ead46253fcf3 div.sk-estimator input.sk-toggleable__control:checked~label.sk-toggleable__label {background-color: #d4ebff;}#sk-fa366938-cd2a-4a15-ae3c-ead46253fcf3 div.sk-label input.sk-toggleable__control:checked~label.sk-toggleable__label {background-color: #d4ebff;}#sk-fa366938-cd2a-4a15-ae3c-ead46253fcf3 input.sk-hidden--visually {border: 0;clip: rect(1px 1px 1px 1px);clip: rect(1px, 1px, 1px, 1px);height: 1px;margin: -1px;overflow: hidden;padding: 0;position: absolute;width: 1px;}#sk-fa366938-cd2a-4a15-ae3c-ead46253fcf3 div.sk-estimator {font-family: monospace;background-color: #f0f8ff;margin: 0.25em 0.25em;border: 1px dotted black;border-radius: 0.25em;box-sizing: border-box;}#sk-fa366938-cd2a-4a15-ae3c-ead46253fcf3 div.sk-estimator:hover {background-color: #d4ebff;}#sk-fa366938-cd2a-4a15-ae3c-ead46253fcf3 div.sk-parallel-item::after {content: \"\";width: 100%;border-bottom: 1px solid gray;flex-grow: 1;}#sk-fa366938-cd2a-4a15-ae3c-ead46253fcf3 div.sk-label:hover label.sk-toggleable__label {background-color: #d4ebff;}#sk-fa366938-cd2a-4a15-ae3c-ead46253fcf3 div.sk-serial::before {content: \"\";position: absolute;border-left: 1px solid gray;box-sizing: border-box;top: 2em;bottom: 0;left: 50%;}#sk-fa366938-cd2a-4a15-ae3c-ead46253fcf3 div.sk-serial {display: flex;flex-direction: column;align-items: center;background-color: white;}#sk-fa366938-cd2a-4a15-ae3c-ead46253fcf3 div.sk-item {z-index: 1;}#sk-fa366938-cd2a-4a15-ae3c-ead46253fcf3 div.sk-parallel {display: flex;align-items: stretch;justify-content: center;background-color: white;}#sk-fa366938-cd2a-4a15-ae3c-ead46253fcf3 div.sk-parallel-item {display: flex;flex-direction: column;position: relative;background-color: white;}#sk-fa366938-cd2a-4a15-ae3c-ead46253fcf3 div.sk-parallel-item:first-child::after {align-self: flex-end;width: 50%;}#sk-fa366938-cd2a-4a15-ae3c-ead46253fcf3 div.sk-parallel-item:last-child::after {align-self: flex-start;width: 50%;}#sk-fa366938-cd2a-4a15-ae3c-ead46253fcf3 div.sk-parallel-item:only-child::after {width: 0;}#sk-fa366938-cd2a-4a15-ae3c-ead46253fcf3 div.sk-dashed-wrapped {border: 1px dashed gray;margin: 0.2em;box-sizing: border-box;padding-bottom: 0.1em;background-color: white;position: relative;}#sk-fa366938-cd2a-4a15-ae3c-ead46253fcf3 div.sk-label label {font-family: monospace;font-weight: bold;background-color: white;display: inline-block;line-height: 1.2em;}#sk-fa366938-cd2a-4a15-ae3c-ead46253fcf3 div.sk-label-container {position: relative;z-index: 2;text-align: center;}#sk-fa366938-cd2a-4a15-ae3c-ead46253fcf3 div.sk-container {display: inline-block;position: relative;}</style><div id=\"sk-fa366938-cd2a-4a15-ae3c-ead46253fcf3\" class\"sk-top-container\"><div class=\"sk-container\"><div class=\"sk-item sk-dashed-wrapped\"><div class=\"sk-label-container\"><div class=\"sk-label sk-toggleable\"><input class=\"sk-toggleable__control sk-hidden--visually\" id=\"bb70f682-e989-427b-8f2f-9d0b68deeb57\" type=\"checkbox\" ><label class=\"sk-toggleable__label\" for=\"bb70f682-e989-427b-8f2f-9d0b68deeb57\">Pipeline</label><div class=\"sk-toggleable__content\"><pre>Pipeline(steps=[('columntransformer',\n",
       "                 ColumnTransformer(transformers=[('pipeline-1',\n",
       "                                                  Pipeline(steps=[('simpleimputer',\n",
       "                                                                   SimpleImputer(verbose=1)),\n",
       "                                                                  ('minmaxscaler',\n",
       "                                                                   MinMaxScaler())]),\n",
       "                                                  <sklearn.compose._column_transformer.make_column_selector object at 0x7fc15d084be0>),\n",
       "                                                 ('pipeline-2',\n",
       "                                                  Pipeline(steps=[('simpleimputer',\n",
       "                                                                   SimpleImputer(strategy='most_frequent')),\n",
       "                                                                  ('onehotencoder',\n",
       "                                                                   OneHotEncoder(handle_unknown='ignore'))]),\n",
       "                                                  ['position'])])),\n",
       "                ('ridge', Ridge())])</pre></div></div></div><div class=\"sk-serial\"><div class=\"sk-item sk-dashed-wrapped\"><div class=\"sk-label-container\"><div class=\"sk-label sk-toggleable\"><input class=\"sk-toggleable__control sk-hidden--visually\" id=\"9ed6dd2b-3256-423c-826d-fe9e316a3823\" type=\"checkbox\" ><label class=\"sk-toggleable__label\" for=\"9ed6dd2b-3256-423c-826d-fe9e316a3823\">columntransformer: ColumnTransformer</label><div class=\"sk-toggleable__content\"><pre>ColumnTransformer(transformers=[('pipeline-1',\n",
       "                                 Pipeline(steps=[('simpleimputer',\n",
       "                                                  SimpleImputer(verbose=1)),\n",
       "                                                 ('minmaxscaler',\n",
       "                                                  MinMaxScaler())]),\n",
       "                                 <sklearn.compose._column_transformer.make_column_selector object at 0x7fc15d084be0>),\n",
       "                                ('pipeline-2',\n",
       "                                 Pipeline(steps=[('simpleimputer',\n",
       "                                                  SimpleImputer(strategy='most_frequent')),\n",
       "                                                 ('onehotencoder',\n",
       "                                                  OneHotEncoder(handle_unknown='ignore'))]),\n",
       "                                 ['position'])])</pre></div></div></div><div class=\"sk-parallel\"><div class=\"sk-parallel-item\"><div class=\"sk-item\"><div class=\"sk-label-container\"><div class=\"sk-label sk-toggleable\"><input class=\"sk-toggleable__control sk-hidden--visually\" id=\"8bafba0b-4a3d-4919-99eb-5de250cd9dfd\" type=\"checkbox\" ><label class=\"sk-toggleable__label\" for=\"8bafba0b-4a3d-4919-99eb-5de250cd9dfd\">pipeline-1</label><div class=\"sk-toggleable__content\"><pre><sklearn.compose._column_transformer.make_column_selector object at 0x7fc15d084be0></pre></div></div></div><div class=\"sk-serial\"><div class=\"sk-item\"><div class=\"sk-serial\"><div class=\"sk-item\"><div class=\"sk-estimator sk-toggleable\"><input class=\"sk-toggleable__control sk-hidden--visually\" id=\"a6e582b7-dfdb-407c-8a23-401c38a272b8\" type=\"checkbox\" ><label class=\"sk-toggleable__label\" for=\"a6e582b7-dfdb-407c-8a23-401c38a272b8\">SimpleImputer</label><div class=\"sk-toggleable__content\"><pre>SimpleImputer(verbose=1)</pre></div></div></div><div class=\"sk-item\"><div class=\"sk-estimator sk-toggleable\"><input class=\"sk-toggleable__control sk-hidden--visually\" id=\"5901384d-8428-4fc5-94b0-a7063d1eebe0\" type=\"checkbox\" ><label class=\"sk-toggleable__label\" for=\"5901384d-8428-4fc5-94b0-a7063d1eebe0\">MinMaxScaler</label><div class=\"sk-toggleable__content\"><pre>MinMaxScaler()</pre></div></div></div></div></div></div></div></div><div class=\"sk-parallel-item\"><div class=\"sk-item\"><div class=\"sk-label-container\"><div class=\"sk-label sk-toggleable\"><input class=\"sk-toggleable__control sk-hidden--visually\" id=\"8ed27efe-dc18-453f-bd48-d6df12357ded\" type=\"checkbox\" ><label class=\"sk-toggleable__label\" for=\"8ed27efe-dc18-453f-bd48-d6df12357ded\">pipeline-2</label><div class=\"sk-toggleable__content\"><pre>['position']</pre></div></div></div><div class=\"sk-serial\"><div class=\"sk-item\"><div class=\"sk-serial\"><div class=\"sk-item\"><div class=\"sk-estimator sk-toggleable\"><input class=\"sk-toggleable__control sk-hidden--visually\" id=\"7e279a7f-a039-4907-a1f8-12cb2ba963ef\" type=\"checkbox\" ><label class=\"sk-toggleable__label\" for=\"7e279a7f-a039-4907-a1f8-12cb2ba963ef\">SimpleImputer</label><div class=\"sk-toggleable__content\"><pre>SimpleImputer(strategy='most_frequent')</pre></div></div></div><div class=\"sk-item\"><div class=\"sk-estimator sk-toggleable\"><input class=\"sk-toggleable__control sk-hidden--visually\" id=\"9dfe5799-4c2f-419e-908f-caf72d31736c\" type=\"checkbox\" ><label class=\"sk-toggleable__label\" for=\"9dfe5799-4c2f-419e-908f-caf72d31736c\">OneHotEncoder</label><div class=\"sk-toggleable__content\"><pre>OneHotEncoder(handle_unknown='ignore')</pre></div></div></div></div></div></div></div></div></div></div><div class=\"sk-item\"><div class=\"sk-estimator sk-toggleable\"><input class=\"sk-toggleable__control sk-hidden--visually\" id=\"a49625ad-e41b-4dad-9367-08373c13a610\" type=\"checkbox\" ><label class=\"sk-toggleable__label\" for=\"a49625ad-e41b-4dad-9367-08373c13a610\">Ridge</label><div class=\"sk-toggleable__content\"><pre>Ridge()</pre></div></div></div></div></div></div></div>"
      ],
      "text/plain": [
       "Pipeline(steps=[('columntransformer',\n",
       "                 ColumnTransformer(transformers=[('pipeline-1',\n",
       "                                                  Pipeline(steps=[('simpleimputer',\n",
       "                                                                   SimpleImputer(verbose=1)),\n",
       "                                                                  ('minmaxscaler',\n",
       "                                                                   MinMaxScaler())]),\n",
       "                                                  <sklearn.compose._column_transformer.make_column_selector object at 0x7fc15d084be0>),\n",
       "                                                 ('pipeline-2',\n",
       "                                                  Pipeline(steps=[('simpleimputer',\n",
       "                                                                   SimpleImputer(strategy='most_frequent')),\n",
       "                                                                  ('onehotencoder',\n",
       "                                                                   OneHotEncoder(handle_unknown='ignore'))]),\n",
       "                                                  ['position'])])),\n",
       "                ('ridge', Ridge())])"
      ]
     },
     "execution_count": 215,
     "metadata": {},
     "output_type": "execute_result"
    }
   ],
   "source": [
    "pipe_baseline = make_pipeline(preproc_baseline, Ridge())\n",
    "pipe_baseline"
   ]
  },
  {
   "cell_type": "code",
   "execution_count": 216,
   "id": "df7b662f",
   "metadata": {},
   "outputs": [
    {
     "data": {
      "text/plain": [
       "0.2515888006567973"
      ]
     },
     "execution_count": 216,
     "metadata": {},
     "output_type": "execute_result"
    }
   ],
   "source": [
    "score_baseline = cross_val_score(pipe_baseline, X, y_def, cv=5, scoring=mse).mean()\n",
    "score_baseline"
   ]
  },
  {
   "cell_type": "code",
   "execution_count": 217,
   "id": "3e12b8d2",
   "metadata": {},
   "outputs": [
    {
     "data": {
      "text/plain": [
       "0.13775377049481063"
      ]
     },
     "execution_count": 217,
     "metadata": {},
     "output_type": "execute_result"
    }
   ],
   "source": [
    "score_baseline = cross_val_score(pipe_baseline, X, y_off, cv=5, scoring=mse).mean()\n",
    "score_baseline"
   ]
  },
  {
   "cell_type": "code",
   "execution_count": null,
   "id": "1fe42a45",
   "metadata": {},
   "outputs": [],
   "source": []
  }
 ],
 "metadata": {
  "kernelspec": {
   "display_name": "Python 3 (ipykernel)",
   "language": "python",
   "name": "python3"
  },
  "language_info": {
   "codemirror_mode": {
    "name": "ipython",
    "version": 3
   },
   "file_extension": ".py",
   "mimetype": "text/x-python",
   "name": "python",
   "nbconvert_exporter": "python",
   "pygments_lexer": "ipython3",
   "version": "3.8.6"
  },
  "toc": {
   "base_numbering": 1,
   "nav_menu": {},
   "number_sections": true,
   "sideBar": true,
   "skip_h1_title": false,
   "title_cell": "Table of Contents",
   "title_sidebar": "Contents",
   "toc_cell": false,
   "toc_position": {},
   "toc_section_display": true,
   "toc_window_display": false
  }
 },
 "nbformat": 4,
 "nbformat_minor": 5
}
