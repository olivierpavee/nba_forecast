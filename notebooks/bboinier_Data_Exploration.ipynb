{
 "cells": [
  {
   "cell_type": "code",
   "execution_count": 1,
   "id": "bb0c3f83",
   "metadata": {},
   "outputs": [],
   "source": [
    "import pandas as pd\n",
    "import numpy as np\n",
    "import matplotlib.pyplot as plt\n",
    "import seaborn as sns\n",
    "from sklearn import set_config; set_config(display='diagram')"
   ]
  },
  {
   "cell_type": "code",
   "execution_count": 2,
   "id": "13571680",
   "metadata": {},
   "outputs": [],
   "source": [
    "# sklearn preproc\n",
    "from sklearn.model_selection import train_test_split\n",
    "from sklearn.preprocessing import MinMaxScaler, StandardScaler\n",
    "from sklearn.pipeline import Pipeline, make_pipeline\n",
    "from sklearn.compose import ColumnTransformer, make_column_transformer, make_column_selector\n",
    "from sklearn.impute import SimpleImputer, KNNImputer\n",
    "from sklearn.preprocessing import RobustScaler, OneHotEncoder, OrdinalEncoder\n",
    "from sklearn.metrics import make_scorer\n",
    "\n",
    "from sklearn.model_selection import cross_val_score\n",
    "from sklearn.neighbors import KNeighborsRegressor\n",
    "from sklearn.linear_model import Ridge, Lasso, LinearRegression\n",
    "from sklearn.model_selection import RandomizedSearchCV\n",
    "from sklearn.svm import SVR\n",
    "from sklearn.model_selection import GridSearchCV, RandomizedSearchCV\n",
    "from sklearn.ensemble import AdaBoostRegressor\n",
    "from sklearn.tree import DecisionTreeRegressor\n",
    "from sklearn.ensemble import VotingRegressor\n",
    "from sklearn.ensemble import GradientBoostingRegressor\n",
    "from sklearn.ensemble import StackingRegressor\n",
    "from sklearn.ensemble import RandomForestRegressor"
   ]
  },
  {
   "cell_type": "markdown",
   "id": "2cb5b1cf",
   "metadata": {},
   "source": [
    "# Chargement du Dataset"
   ]
  },
  {
   "cell_type": "code",
   "execution_count": 3,
   "id": "0d48e3f6",
   "metadata": {},
   "outputs": [],
   "source": [
    "data = pd.read_csv('../nba_forecast/data/dataset_complet_X_y.csv')"
   ]
  },
  {
   "cell_type": "code",
   "execution_count": 4,
   "id": "2cfa1828",
   "metadata": {},
   "outputs": [],
   "source": [
    "data.rename(columns={\"years\": \"nb_year_uni\", \"year\": \"year_athletic_test\"}, inplace=True)"
   ]
  },
  {
   "cell_type": "code",
   "execution_count": 5,
   "id": "bf96adbe",
   "metadata": {},
   "outputs": [
    {
     "data": {
      "text/plain": [
       "Index(['season', 'school_name', 'conf_abbr', 'g', 'gs', 'mp', 'per', 'ts_pct',\n",
       "       'efg_pct', 'fg3a_per_fga_pct', 'fta_per_fga_pct', 'pprod', 'orb_pct',\n",
       "       'drb_pct', 'trb_pct', 'ast_pct', 'stl_pct', 'blk_pct', 'tov_pct',\n",
       "       'usg_pct', 'ows', 'dws', 'ws', 'ws_per_40', 'obpm', 'dbpm', 'bpm',\n",
       "       'nb_year_uni', 'year_athletic_test', 'position', 'body_fat_pct',\n",
       "       'hand_length', 'hand_width', 'height_wo_shoes', 'height_w_shoes',\n",
       "       'standing_reach', 'weight', 'wingspan', 'player_id', 'pos', 'off_score',\n",
       "       'def_score', 'uni_off_score', 'uni_def_score', 'ratio_off',\n",
       "       'ratio_def'],\n",
       "      dtype='object')"
      ]
     },
     "execution_count": 5,
     "metadata": {},
     "output_type": "execute_result"
    }
   ],
   "source": [
    "data.columns"
   ]
  },
  {
   "cell_type": "markdown",
   "id": "008de329",
   "metadata": {},
   "source": [
    "# Recherche des lignes abérrantes"
   ]
  },
  {
   "cell_type": "code",
   "execution_count": 6,
   "id": "1e5e52f5",
   "metadata": {},
   "outputs": [
    {
     "data": {
      "text/plain": [
       "season                 0\n",
       "school_name            0\n",
       "conf_abbr              0\n",
       "g                      0\n",
       "gs                     0\n",
       "mp                     0\n",
       "per                    0\n",
       "ts_pct                 0\n",
       "efg_pct                0\n",
       "fg3a_per_fga_pct       0\n",
       "fta_per_fga_pct        0\n",
       "pprod                  0\n",
       "orb_pct                0\n",
       "drb_pct                0\n",
       "trb_pct                0\n",
       "ast_pct                0\n",
       "stl_pct                0\n",
       "blk_pct                0\n",
       "tov_pct                0\n",
       "usg_pct                0\n",
       "ows                    0\n",
       "dws                    0\n",
       "ws                     0\n",
       "ws_per_40              0\n",
       "obpm                   0\n",
       "dbpm                   0\n",
       "bpm                    0\n",
       "nb_year_uni            0\n",
       "year_athletic_test    54\n",
       "position               0\n",
       "body_fat_pct          56\n",
       "hand_length            0\n",
       "hand_width             0\n",
       "height_wo_shoes        0\n",
       "height_w_shoes         0\n",
       "standing_reach         0\n",
       "weight                54\n",
       "wingspan               0\n",
       "player_id              0\n",
       "pos                   89\n",
       "off_score             89\n",
       "def_score             89\n",
       "uni_off_score          0\n",
       "uni_def_score          0\n",
       "ratio_off             89\n",
       "ratio_def             89\n",
       "dtype: int64"
      ]
     },
     "execution_count": 6,
     "metadata": {},
     "output_type": "execute_result"
    }
   ],
   "source": [
    "data.isna().sum()"
   ]
  },
  {
   "cell_type": "code",
   "execution_count": 7,
   "id": "69119d69",
   "metadata": {},
   "outputs": [
    {
     "data": {
      "text/plain": [
       "season                 0\n",
       "school_name            0\n",
       "conf_abbr              0\n",
       "g                      0\n",
       "gs                     0\n",
       "mp                     0\n",
       "per                    0\n",
       "ts_pct                 0\n",
       "efg_pct                0\n",
       "fg3a_per_fga_pct       0\n",
       "fta_per_fga_pct        0\n",
       "pprod                  0\n",
       "orb_pct                0\n",
       "drb_pct                0\n",
       "trb_pct                0\n",
       "ast_pct                0\n",
       "stl_pct                0\n",
       "blk_pct                0\n",
       "tov_pct                0\n",
       "usg_pct                0\n",
       "ows                    0\n",
       "dws                    0\n",
       "ws                     0\n",
       "ws_per_40              0\n",
       "obpm                   0\n",
       "dbpm                   0\n",
       "bpm                    0\n",
       "nb_year_uni            0\n",
       "year_athletic_test    54\n",
       "position               0\n",
       "body_fat_pct          56\n",
       "hand_length            0\n",
       "hand_width             0\n",
       "height_wo_shoes        0\n",
       "height_w_shoes         0\n",
       "standing_reach         0\n",
       "weight                54\n",
       "wingspan               0\n",
       "player_id              0\n",
       "pos                   89\n",
       "off_score             89\n",
       "def_score             89\n",
       "uni_off_score          0\n",
       "uni_def_score          0\n",
       "ratio_off             89\n",
       "ratio_def             89\n",
       "dtype: int64"
      ]
     },
     "execution_count": 7,
     "metadata": {},
     "output_type": "execute_result"
    }
   ],
   "source": [
    "data.isnull().sum()"
   ]
  },
  {
   "cell_type": "markdown",
   "id": "0c85e446",
   "metadata": {},
   "source": [
    "# Constitution du Dataset de train"
   ]
  },
  {
   "cell_type": "code",
   "execution_count": 8,
   "id": "0d390fb3",
   "metadata": {},
   "outputs": [],
   "source": [
    "data_train = data[~data['off_score'].isnull()]"
   ]
  },
  {
   "cell_type": "code",
   "execution_count": 9,
   "id": "019df041",
   "metadata": {},
   "outputs": [
    {
     "data": {
      "text/plain": [
       "Index(['season', 'school_name', 'conf_abbr', 'g', 'gs', 'mp', 'per', 'ts_pct',\n",
       "       'efg_pct', 'fg3a_per_fga_pct', 'fta_per_fga_pct', 'pprod', 'orb_pct',\n",
       "       'drb_pct', 'trb_pct', 'ast_pct', 'stl_pct', 'blk_pct', 'tov_pct',\n",
       "       'usg_pct', 'ows', 'dws', 'ws', 'ws_per_40', 'obpm', 'dbpm', 'bpm',\n",
       "       'nb_year_uni', 'year_athletic_test', 'position', 'body_fat_pct',\n",
       "       'hand_length', 'hand_width', 'height_wo_shoes', 'height_w_shoes',\n",
       "       'standing_reach', 'weight', 'wingspan', 'player_id', 'pos', 'off_score',\n",
       "       'def_score', 'uni_off_score', 'uni_def_score', 'ratio_off',\n",
       "       'ratio_def'],\n",
       "      dtype='object')"
      ]
     },
     "execution_count": 9,
     "metadata": {},
     "output_type": "execute_result"
    }
   ],
   "source": [
    "data_train.columns"
   ]
  },
  {
   "cell_type": "code",
   "execution_count": 10,
   "id": "39a7d720",
   "metadata": {},
   "outputs": [
    {
     "name": "stderr",
     "output_type": "stream",
     "text": [
      "/home/borisb/.pyenv/versions/3.8.6/envs/nba_forecast/lib/python3.8/site-packages/pandas/core/frame.py:4901: SettingWithCopyWarning: \n",
      "A value is trying to be set on a copy of a slice from a DataFrame\n",
      "\n",
      "See the caveats in the documentation: https://pandas.pydata.org/pandas-docs/stable/user_guide/indexing.html#returning-a-view-versus-a-copy\n",
      "  return super().drop(\n"
     ]
    }
   ],
   "source": [
    "data_train.drop(columns='pos',inplace=True)"
   ]
  },
  {
   "cell_type": "markdown",
   "id": "a54cfa0a",
   "metadata": {},
   "source": [
    "# Constitution des Dataframes : *X*, *y_off* & *y_def*"
   ]
  },
  {
   "cell_type": "code",
   "execution_count": 11,
   "id": "70de41d5",
   "metadata": {},
   "outputs": [],
   "source": [
    "X = data_train[['season', 'school_name', 'conf_abbr', 'g', 'gs', 'mp', 'per', 'ts_pct',\n",
    "       'efg_pct', 'fg3a_per_fga_pct', 'fta_per_fga_pct', 'pprod', 'orb_pct',\n",
    "       'drb_pct', 'trb_pct', 'ast_pct', 'stl_pct', 'blk_pct', 'tov_pct',\n",
    "       'usg_pct', 'ows', 'dws', 'ws', 'ws_per_40', 'obpm', 'dbpm', 'bpm',\n",
    "       'nb_year_uni', 'year_athletic_test', 'position', 'body_fat_pct',\n",
    "       'hand_length', 'hand_width', 'height_wo_shoes', 'height_w_shoes',\n",
    "       'standing_reach', 'weight', 'wingspan']]"
   ]
  },
  {
   "cell_type": "code",
   "execution_count": 12,
   "id": "842c0327",
   "metadata": {},
   "outputs": [],
   "source": [
    "y_off = data_train.pop('ratio_off')"
   ]
  },
  {
   "cell_type": "code",
   "execution_count": 13,
   "id": "a11d3bd6",
   "metadata": {},
   "outputs": [],
   "source": [
    "y_def = data_train.pop('ratio_def')"
   ]
  },
  {
   "cell_type": "markdown",
   "id": "0d55c569",
   "metadata": {},
   "source": [
    "# Optimisation des *dtype*"
   ]
  },
  {
   "cell_type": "code",
   "execution_count": 14,
   "id": "54159b1e",
   "metadata": {},
   "outputs": [
    {
     "data": {
      "text/plain": [
       "season                 object\n",
       "school_name            object\n",
       "conf_abbr              object\n",
       "g                       int64\n",
       "gs                      int64\n",
       "mp                      int64\n",
       "per                   float64\n",
       "ts_pct                float64\n",
       "efg_pct               float64\n",
       "fg3a_per_fga_pct      float64\n",
       "fta_per_fga_pct       float64\n",
       "pprod                 float64\n",
       "orb_pct               float64\n",
       "drb_pct               float64\n",
       "trb_pct               float64\n",
       "ast_pct               float64\n",
       "stl_pct               float64\n",
       "blk_pct               float64\n",
       "tov_pct               float64\n",
       "usg_pct               float64\n",
       "ows                   float64\n",
       "dws                   float64\n",
       "ws                    float64\n",
       "ws_per_40             float64\n",
       "obpm                  float64\n",
       "dbpm                  float64\n",
       "bpm                   float64\n",
       "nb_year_uni             int64\n",
       "year_athletic_test     object\n",
       "position               object\n",
       "body_fat_pct          float64\n",
       "hand_length             int64\n",
       "hand_width              int64\n",
       "height_wo_shoes         int64\n",
       "height_w_shoes          int64\n",
       "standing_reach          int64\n",
       "weight                float64\n",
       "wingspan                int64\n",
       "dtype: object"
      ]
     },
     "execution_count": 14,
     "metadata": {},
     "output_type": "execute_result"
    }
   ],
   "source": [
    "X.dtypes"
   ]
  },
  {
   "cell_type": "code",
   "execution_count": 15,
   "id": "40741f78",
   "metadata": {},
   "outputs": [
    {
     "name": "stderr",
     "output_type": "stream",
     "text": [
      "/home/borisb/.pyenv/versions/3.8.6/envs/nba_forecast/lib/python3.8/site-packages/pandas/core/generic.py:5516: SettingWithCopyWarning: \n",
      "A value is trying to be set on a copy of a slice from a DataFrame.\n",
      "Try using .loc[row_indexer,col_indexer] = value instead\n",
      "\n",
      "See the caveats in the documentation: https://pandas.pydata.org/pandas-docs/stable/user_guide/indexing.html#returning-a-view-versus-a-copy\n",
      "  self[name] = value\n"
     ]
    }
   ],
   "source": [
    "# X.g = X.g.astype('int32')\n",
    "# X.gs = X.gs.astype('int32')\n",
    "# X.mp = X.mp.astype('int32')\n",
    "# X.nb_year_uni = X.nb_year_uni.astype('int32')\n",
    "# X.hand_length = X.hand_length.astype('int32')\n",
    "# X.hand_width = X.hand_width.astype('int32')\n",
    "# X.height_wo_shoes = X.height_wo_shoes.astype('int32')\n",
    "# X.height_w_shoes = X.height_w_shoes.astype('int32')\n",
    "# X.standing_reach = X.standing_reach.astype('int32')\n",
    "# X.wingspan = X.wingspan.astype('int32')\n",
    "\n",
    "X.g = X.g.astype('float64')\n",
    "X.gs = X.gs.astype('float64')\n",
    "X.mp = X.mp.astype('float64')\n",
    "X.nb_year_uni = X.nb_year_uni.astype('float64')\n",
    "X.hand_length = X.hand_length.astype('float64')\n",
    "X.hand_width = X.hand_width.astype('float64')\n",
    "X.height_wo_shoes = X.height_wo_shoes.astype('float64')\n",
    "X.height_w_shoes = X.height_w_shoes.astype('float64')\n",
    "X.standing_reach = X.standing_reach.astype('float64')\n",
    "X.wingspan = X.wingspan.astype('float64')"
   ]
  },
  {
   "cell_type": "code",
   "execution_count": 16,
   "id": "cad9ee30",
   "metadata": {},
   "outputs": [
    {
     "data": {
      "text/plain": [
       "season                 object\n",
       "school_name            object\n",
       "conf_abbr              object\n",
       "g                     float64\n",
       "gs                    float64\n",
       "mp                    float64\n",
       "per                   float64\n",
       "ts_pct                float64\n",
       "efg_pct               float64\n",
       "fg3a_per_fga_pct      float64\n",
       "fta_per_fga_pct       float64\n",
       "pprod                 float64\n",
       "orb_pct               float64\n",
       "drb_pct               float64\n",
       "trb_pct               float64\n",
       "ast_pct               float64\n",
       "stl_pct               float64\n",
       "blk_pct               float64\n",
       "tov_pct               float64\n",
       "usg_pct               float64\n",
       "ows                   float64\n",
       "dws                   float64\n",
       "ws                    float64\n",
       "ws_per_40             float64\n",
       "obpm                  float64\n",
       "dbpm                  float64\n",
       "bpm                   float64\n",
       "nb_year_uni           float64\n",
       "year_athletic_test     object\n",
       "position               object\n",
       "body_fat_pct          float64\n",
       "hand_length           float64\n",
       "hand_width            float64\n",
       "height_wo_shoes       float64\n",
       "height_w_shoes        float64\n",
       "standing_reach        float64\n",
       "weight                float64\n",
       "wingspan              float64\n",
       "dtype: object"
      ]
     },
     "execution_count": 16,
     "metadata": {},
     "output_type": "execute_result"
    }
   ],
   "source": [
    "X.dtypes"
   ]
  },
  {
   "cell_type": "code",
   "execution_count": 17,
   "id": "90ec1a5a",
   "metadata": {},
   "outputs": [
    {
     "data": {
      "text/plain": [
       "dtype('float64')"
      ]
     },
     "execution_count": 17,
     "metadata": {},
     "output_type": "execute_result"
    }
   ],
   "source": [
    "y_def.dtype"
   ]
  },
  {
   "cell_type": "code",
   "execution_count": 18,
   "id": "0fd67efc",
   "metadata": {},
   "outputs": [
    {
     "data": {
      "text/plain": [
       "0    0.88\n",
       "1    0.96\n",
       "2    0.86\n",
       "3    0.73\n",
       "4    0.81\n",
       "Name: ratio_def, dtype: float64"
      ]
     },
     "execution_count": 18,
     "metadata": {},
     "output_type": "execute_result"
    }
   ],
   "source": [
    "y_def.head()"
   ]
  },
  {
   "cell_type": "markdown",
   "id": "02f10544",
   "metadata": {},
   "source": [
    "# Constitution du *X_def* et du *X_off*"
   ]
  },
  {
   "cell_type": "code",
   "execution_count": 19,
   "id": "2a4bda01",
   "metadata": {},
   "outputs": [
    {
     "data": {
      "text/plain": [
       "Index(['season', 'school_name', 'conf_abbr', 'g', 'gs', 'mp', 'per', 'ts_pct',\n",
       "       'efg_pct', 'fg3a_per_fga_pct', 'fta_per_fga_pct', 'pprod', 'orb_pct',\n",
       "       'drb_pct', 'trb_pct', 'ast_pct', 'stl_pct', 'blk_pct', 'tov_pct',\n",
       "       'usg_pct', 'ows', 'dws', 'ws', 'ws_per_40', 'obpm', 'dbpm', 'bpm',\n",
       "       'nb_year_uni', 'year_athletic_test', 'position', 'body_fat_pct',\n",
       "       'hand_length', 'hand_width', 'height_wo_shoes', 'height_w_shoes',\n",
       "       'standing_reach', 'weight', 'wingspan'],\n",
       "      dtype='object')"
      ]
     },
     "execution_count": 19,
     "metadata": {},
     "output_type": "execute_result"
    }
   ],
   "source": [
    "X.columns"
   ]
  },
  {
   "cell_type": "code",
   "execution_count": 20,
   "id": "292f1dfb",
   "metadata": {},
   "outputs": [],
   "source": [
    "X_def = X[['drb_pct', 'stl_pct','blk_pct', 'dws', 'dbpm', 'nb_year_uni', 'year_athletic_test', 'position', 'body_fat_pct',\n",
    "       'hand_length', 'hand_width', 'height_wo_shoes', 'height_w_shoes',\n",
    "       'standing_reach', 'weight', 'wingspan']]"
   ]
  },
  {
   "cell_type": "code",
   "execution_count": 21,
   "id": "c81886a6",
   "metadata": {},
   "outputs": [],
   "source": [
    "X_off = X[['season', 'school_name', 'conf_abbr', 'g', 'gs', 'mp', 'per', 'ts_pct',\n",
    "       'efg_pct', 'fg3a_per_fga_pct', 'fta_per_fga_pct', 'orb_pct', 'ast_pct', 'tov_pct',\n",
    "       'usg_pct', 'ows', 'obpm', 'nb_year_uni', 'year_athletic_test', 'position', 'body_fat_pct',\n",
    "       'hand_length', 'hand_width', 'height_wo_shoes', 'height_w_shoes',\n",
    "       'standing_reach', 'weight', 'wingspan']]"
   ]
  },
  {
   "cell_type": "markdown",
   "id": "eb5fa6be",
   "metadata": {},
   "source": [
    "# Analyse des features"
   ]
  },
  {
   "cell_type": "code",
   "execution_count": 22,
   "id": "4a847d97",
   "metadata": {},
   "outputs": [],
   "source": [
    "feat_categorical_nunique = X.select_dtypes(include='object').nunique()"
   ]
  },
  {
   "cell_type": "code",
   "execution_count": 23,
   "id": "f07b09f1",
   "metadata": {},
   "outputs": [
    {
     "data": {
      "text/plain": [
       "season                 7\n",
       "school_name           85\n",
       "conf_abbr             22\n",
       "year_athletic_test     7\n",
       "position               5\n",
       "dtype: int64"
      ]
     },
     "execution_count": 23,
     "metadata": {},
     "output_type": "execute_result"
    }
   ],
   "source": [
    "feat_categorical_nunique"
   ]
  },
  {
   "cell_type": "code",
   "execution_count": 24,
   "id": "84abb7eb",
   "metadata": {},
   "outputs": [
    {
     "data": {
      "text/plain": [
       "126"
      ]
     },
     "execution_count": 24,
     "metadata": {},
     "output_type": "execute_result"
    }
   ],
   "source": [
    "feat_categorical_nunique.sum()"
   ]
  },
  {
   "cell_type": "code",
   "execution_count": 25,
   "id": "2eece807",
   "metadata": {},
   "outputs": [
    {
     "data": {
      "text/plain": [
       "<AxesSubplot:>"
      ]
     },
     "execution_count": 25,
     "metadata": {},
     "output_type": "execute_result"
    },
    {
     "data": {
      "image/png": "[encoded data removed]",
      "text/plain": [
       "<Figure size 432x288 with 1 Axes>"
      ]
     },
     "metadata": {
      "needs_background": "light"
     },
     "output_type": "display_data"
    }
   ],
   "source": [
    "feat_categorical_nunique.hist()"
   ]
  },
  {
   "cell_type": "code",
   "execution_count": 26,
   "id": "f8074af5",
   "metadata": {},
   "outputs": [],
   "source": [
    "feat_categorical_small = list(feat_categorical_nunique[feat_categorical_nunique < 20].index)"
   ]
  },
  {
   "cell_type": "code",
   "execution_count": 27,
   "id": "7a89f924",
   "metadata": {},
   "outputs": [
    {
     "data": {
      "text/plain": [
       "['season', 'year_athletic_test', 'position']"
      ]
     },
     "execution_count": 27,
     "metadata": {},
     "output_type": "execute_result"
    }
   ],
   "source": [
    "feat_categorical_small"
   ]
  },
  {
   "cell_type": "code",
   "execution_count": 28,
   "id": "f558614c",
   "metadata": {},
   "outputs": [],
   "source": [
    "feat_categorical_small_2 = list(feat_categorical_nunique[feat_categorical_nunique < 40].index)"
   ]
  },
  {
   "cell_type": "code",
   "execution_count": 29,
   "id": "5ceaa035",
   "metadata": {},
   "outputs": [
    {
     "data": {
      "text/plain": [
       "['season', 'conf_abbr', 'year_athletic_test', 'position']"
      ]
     },
     "execution_count": 29,
     "metadata": {},
     "output_type": "execute_result"
    }
   ],
   "source": [
    "feat_categorical_small_2"
   ]
  },
  {
   "cell_type": "code",
   "execution_count": 30,
   "id": "18306848",
   "metadata": {},
   "outputs": [
    {
     "data": {
      "text/plain": [
       "'year_athletic_test'"
      ]
     },
     "execution_count": 30,
     "metadata": {},
     "output_type": "execute_result"
    }
   ],
   "source": [
    "feat_categorical_small.pop(0)\n",
    "feat_categorical_small.pop(0)"
   ]
  },
  {
   "cell_type": "code",
   "execution_count": 31,
   "id": "4bc13e6c",
   "metadata": {},
   "outputs": [
    {
     "data": {
      "text/plain": [
       "['position']"
      ]
     },
     "execution_count": 31,
     "metadata": {},
     "output_type": "execute_result"
    }
   ],
   "source": [
    "feat_categorical_small"
   ]
  },
  {
   "cell_type": "code",
   "execution_count": 32,
   "id": "dacde201",
   "metadata": {},
   "outputs": [],
   "source": [
    "X_off = X_off.fillna(0)"
   ]
  },
  {
   "cell_type": "markdown",
   "id": "e2cd1fb2",
   "metadata": {},
   "source": [
    "Nous allons seulement garder la **'position'** comme feat_categorical"
   ]
  },
  {
   "cell_type": "markdown",
   "id": "35008432",
   "metadata": {},
   "source": [
    "# Pipeline de preprocessing - Minimal Baseline"
   ]
  },
  {
   "cell_type": "code",
   "execution_count": 33,
   "id": "db563175",
   "metadata": {},
   "outputs": [
    {
     "data": {
      "text/html": [
       "<style>#sk-a846f404-4ab5-45af-9eb2-3afb7b33ddfc {color: black;background-color: white;}#sk-a846f404-4ab5-45af-9eb2-3afb7b33ddfc pre{padding: 0;}#sk-a846f404-4ab5-45af-9eb2-3afb7b33ddfc div.sk-toggleable {background-color: white;}#sk-a846f404-4ab5-45af-9eb2-3afb7b33ddfc label.sk-toggleable__label {cursor: pointer;display: block;width: 100%;margin-bottom: 0;padding: 0.2em 0.3em;box-sizing: border-box;text-align: center;}#sk-a846f404-4ab5-45af-9eb2-3afb7b33ddfc div.sk-toggleable__content {max-height: 0;max-width: 0;overflow: hidden;text-align: left;background-color: #f0f8ff;}#sk-a846f404-4ab5-45af-9eb2-3afb7b33ddfc div.sk-toggleable__content pre {margin: 0.2em;color: black;border-radius: 0.25em;background-color: #f0f8ff;}#sk-a846f404-4ab5-45af-9eb2-3afb7b33ddfc input.sk-toggleable__control:checked~div.sk-toggleable__content {max-height: 200px;max-width: 100%;overflow: auto;}#sk-a846f404-4ab5-45af-9eb2-3afb7b33ddfc div.sk-estimator input.sk-toggleable__control:checked~label.sk-toggleable__label {background-color: #d4ebff;}#sk-a846f404-4ab5-45af-9eb2-3afb7b33ddfc div.sk-label input.sk-toggleable__control:checked~label.sk-toggleable__label {background-color: #d4ebff;}#sk-a846f404-4ab5-45af-9eb2-3afb7b33ddfc input.sk-hidden--visually {border: 0;clip: rect(1px 1px 1px 1px);clip: rect(1px, 1px, 1px, 1px);height: 1px;margin: -1px;overflow: hidden;padding: 0;position: absolute;width: 1px;}#sk-a846f404-4ab5-45af-9eb2-3afb7b33ddfc div.sk-estimator {font-family: monospace;background-color: #f0f8ff;margin: 0.25em 0.25em;border: 1px dotted black;border-radius: 0.25em;box-sizing: border-box;}#sk-a846f404-4ab5-45af-9eb2-3afb7b33ddfc div.sk-estimator:hover {background-color: #d4ebff;}#sk-a846f404-4ab5-45af-9eb2-3afb7b33ddfc div.sk-parallel-item::after {content: \"\";width: 100%;border-bottom: 1px solid gray;flex-grow: 1;}#sk-a846f404-4ab5-45af-9eb2-3afb7b33ddfc div.sk-label:hover label.sk-toggleable__label {background-color: #d4ebff;}#sk-a846f404-4ab5-45af-9eb2-3afb7b33ddfc div.sk-serial::before {content: \"\";position: absolute;border-left: 1px solid gray;box-sizing: border-box;top: 2em;bottom: 0;left: 50%;}#sk-a846f404-4ab5-45af-9eb2-3afb7b33ddfc div.sk-serial {display: flex;flex-direction: column;align-items: center;background-color: white;}#sk-a846f404-4ab5-45af-9eb2-3afb7b33ddfc div.sk-item {z-index: 1;}#sk-a846f404-4ab5-45af-9eb2-3afb7b33ddfc div.sk-parallel {display: flex;align-items: stretch;justify-content: center;background-color: white;}#sk-a846f404-4ab5-45af-9eb2-3afb7b33ddfc div.sk-parallel-item {display: flex;flex-direction: column;position: relative;background-color: white;}#sk-a846f404-4ab5-45af-9eb2-3afb7b33ddfc div.sk-parallel-item:first-child::after {align-self: flex-end;width: 50%;}#sk-a846f404-4ab5-45af-9eb2-3afb7b33ddfc div.sk-parallel-item:last-child::after {align-self: flex-start;width: 50%;}#sk-a846f404-4ab5-45af-9eb2-3afb7b33ddfc div.sk-parallel-item:only-child::after {width: 0;}#sk-a846f404-4ab5-45af-9eb2-3afb7b33ddfc div.sk-dashed-wrapped {border: 1px dashed gray;margin: 0.2em;box-sizing: border-box;padding-bottom: 0.1em;background-color: white;position: relative;}#sk-a846f404-4ab5-45af-9eb2-3afb7b33ddfc div.sk-label label {font-family: monospace;font-weight: bold;background-color: white;display: inline-block;line-height: 1.2em;}#sk-a846f404-4ab5-45af-9eb2-3afb7b33ddfc div.sk-label-container {position: relative;z-index: 2;text-align: center;}#sk-a846f404-4ab5-45af-9eb2-3afb7b33ddfc div.sk-container {display: inline-block;position: relative;}</style><div id=\"sk-a846f404-4ab5-45af-9eb2-3afb7b33ddfc\" class\"sk-top-container\"><div class=\"sk-container\"><div class=\"sk-item sk-dashed-wrapped\"><div class=\"sk-label-container\"><div class=\"sk-label sk-toggleable\"><input class=\"sk-toggleable__control sk-hidden--visually\" id=\"113e5ad7-9771-4adc-b4de-f2b9dab6ee10\" type=\"checkbox\" ><label class=\"sk-toggleable__label\" for=\"113e5ad7-9771-4adc-b4de-f2b9dab6ee10\">ColumnTransformer</label><div class=\"sk-toggleable__content\"><pre>ColumnTransformer(transformers=[('pipeline-1',\n",
       "                                 Pipeline(steps=[('simpleimputer',\n",
       "                                                  SimpleImputer(missing_values=0)),\n",
       "                                                 ('minmaxscaler',\n",
       "                                                  MinMaxScaler())]),\n",
       "                                 <sklearn.compose._column_transformer.make_column_selector object at 0x7f2cd7e6df70>),\n",
       "                                ('pipeline-2',\n",
       "                                 Pipeline(steps=[('simpleimputer',\n",
       "                                                  SimpleImputer(strategy='most_frequent')),\n",
       "                                                 ('onehotencoder',\n",
       "                                                  OneHotEncoder(handle_unknown='ignore'))]),\n",
       "                                 ['position'])])</pre></div></div></div><div class=\"sk-parallel\"><div class=\"sk-parallel-item\"><div class=\"sk-item\"><div class=\"sk-label-container\"><div class=\"sk-label sk-toggleable\"><input class=\"sk-toggleable__control sk-hidden--visually\" id=\"65a820f6-adfe-4d8f-9dd2-c11242fcbb97\" type=\"checkbox\" ><label class=\"sk-toggleable__label\" for=\"65a820f6-adfe-4d8f-9dd2-c11242fcbb97\">pipeline-1</label><div class=\"sk-toggleable__content\"><pre><sklearn.compose._column_transformer.make_column_selector object at 0x7f2cd7e6df70></pre></div></div></div><div class=\"sk-serial\"><div class=\"sk-item\"><div class=\"sk-serial\"><div class=\"sk-item\"><div class=\"sk-estimator sk-toggleable\"><input class=\"sk-toggleable__control sk-hidden--visually\" id=\"3e54577e-d979-42c8-9187-3324da7746c3\" type=\"checkbox\" ><label class=\"sk-toggleable__label\" for=\"3e54577e-d979-42c8-9187-3324da7746c3\">SimpleImputer</label><div class=\"sk-toggleable__content\"><pre>SimpleImputer(missing_values=0)</pre></div></div></div><div class=\"sk-item\"><div class=\"sk-estimator sk-toggleable\"><input class=\"sk-toggleable__control sk-hidden--visually\" id=\"6c170d1c-e9c2-4df4-b813-a7e0a2842c1c\" type=\"checkbox\" ><label class=\"sk-toggleable__label\" for=\"6c170d1c-e9c2-4df4-b813-a7e0a2842c1c\">MinMaxScaler</label><div class=\"sk-toggleable__content\"><pre>MinMaxScaler()</pre></div></div></div></div></div></div></div></div><div class=\"sk-parallel-item\"><div class=\"sk-item\"><div class=\"sk-label-container\"><div class=\"sk-label sk-toggleable\"><input class=\"sk-toggleable__control sk-hidden--visually\" id=\"9d27f3fb-22c7-443a-9584-7c541447f3aa\" type=\"checkbox\" ><label class=\"sk-toggleable__label\" for=\"9d27f3fb-22c7-443a-9584-7c541447f3aa\">pipeline-2</label><div class=\"sk-toggleable__content\"><pre>['position']</pre></div></div></div><div class=\"sk-serial\"><div class=\"sk-item\"><div class=\"sk-serial\"><div class=\"sk-item\"><div class=\"sk-estimator sk-toggleable\"><input class=\"sk-toggleable__control sk-hidden--visually\" id=\"088c9396-1af8-4675-b5ce-defbb891403a\" type=\"checkbox\" ><label class=\"sk-toggleable__label\" for=\"088c9396-1af8-4675-b5ce-defbb891403a\">SimpleImputer</label><div class=\"sk-toggleable__content\"><pre>SimpleImputer(strategy='most_frequent')</pre></div></div></div><div class=\"sk-item\"><div class=\"sk-estimator sk-toggleable\"><input class=\"sk-toggleable__control sk-hidden--visually\" id=\"8aad166e-1cb4-47d9-9acd-a3af7a2f8908\" type=\"checkbox\" ><label class=\"sk-toggleable__label\" for=\"8aad166e-1cb4-47d9-9acd-a3af7a2f8908\">OneHotEncoder</label><div class=\"sk-toggleable__content\"><pre>OneHotEncoder(handle_unknown='ignore')</pre></div></div></div></div></div></div></div></div></div></div></div></div>"
      ],
      "text/plain": [
       "ColumnTransformer(transformers=[('pipeline-1',\n",
       "                                 Pipeline(steps=[('simpleimputer',\n",
       "                                                  SimpleImputer(missing_values=0)),\n",
       "                                                 ('minmaxscaler',\n",
       "                                                  MinMaxScaler())]),\n",
       "                                 <sklearn.compose._column_transformer.make_column_selector object at 0x7f2cd7e6df70>),\n",
       "                                ('pipeline-2',\n",
       "                                 Pipeline(steps=[('simpleimputer',\n",
       "                                                  SimpleImputer(strategy='most_frequent')),\n",
       "                                                 ('onehotencoder',\n",
       "                                                  OneHotEncoder(handle_unknown='ignore'))]),\n",
       "                                 ['position'])])"
      ]
     },
     "execution_count": 33,
     "metadata": {},
     "output_type": "execute_result"
    }
   ],
   "source": [
    "preproc_numerical_baseline = make_pipeline(\n",
    "    SimpleImputer(missing_values=0),\n",
    "    MinMaxScaler())\n",
    "\n",
    "preproc_categorical_baseline = make_pipeline(\n",
    "    SimpleImputer(strategy=\"most_frequent\"),\n",
    "    OneHotEncoder(handle_unknown=\"ignore\"))\n",
    "\n",
    "preproc_baseline = make_column_transformer(\n",
    "    (preproc_numerical_baseline, make_column_selector(dtype_include=[\"int32\", \"float64\"])),\n",
    "    (preproc_categorical_baseline, feat_categorical_small),\n",
    "    remainder=\"drop\")\n",
    "\n",
    "preproc_baseline"
   ]
  },
  {
   "cell_type": "code",
   "execution_count": 34,
   "id": "cb59685f",
   "metadata": {},
   "outputs": [
    {
     "data": {
      "text/plain": [
       "(245, 28)"
      ]
     },
     "execution_count": 34,
     "metadata": {},
     "output_type": "execute_result"
    }
   ],
   "source": [
    "shape_preproc_baseline = preproc_baseline.fit_transform(X_off).shape\n",
    "shape_preproc_baseline"
   ]
  },
  {
   "cell_type": "markdown",
   "id": "d78d08dd",
   "metadata": {},
   "source": [
    "## Définition du scorer"
   ]
  },
  {
   "cell_type": "code",
   "execution_count": 35,
   "id": "8ffcf2ba",
   "metadata": {},
   "outputs": [],
   "source": [
    "from sklearn.metrics import mean_squared_error\n",
    "from sklearn.metrics import make_scorer\n",
    "\n",
    "# This is our metric to minimize\n",
    "mse = make_scorer(lambda y_true, y_pred: mean_squared_error(y_true, y_pred))\n",
    "\n",
    "# # This is our score to maximize\n",
    "# rmsle_neg = make_scorer(lambda y_true, y_pred: -1 * mean_squared_log_error(y_true, y_pred)**0.5)\n",
    "# # Equivalent formulation\n",
    "# rmsle_neg = make_scorer(\n",
    "#     lambda y_true, y_pred: mean_squared_log_error(y_true, y_pred)**0.5,\n",
    "#     greater_is_better=False\n",
    "# )"
   ]
  },
  {
   "cell_type": "code",
   "execution_count": 36,
   "id": "36fe5f09",
   "metadata": {},
   "outputs": [
    {
     "data": {
      "text/html": [
       "<style>#sk-1c2b61da-5808-4943-af75-9b2c9b214607 {color: black;background-color: white;}#sk-1c2b61da-5808-4943-af75-9b2c9b214607 pre{padding: 0;}#sk-1c2b61da-5808-4943-af75-9b2c9b214607 div.sk-toggleable {background-color: white;}#sk-1c2b61da-5808-4943-af75-9b2c9b214607 label.sk-toggleable__label {cursor: pointer;display: block;width: 100%;margin-bottom: 0;padding: 0.2em 0.3em;box-sizing: border-box;text-align: center;}#sk-1c2b61da-5808-4943-af75-9b2c9b214607 div.sk-toggleable__content {max-height: 0;max-width: 0;overflow: hidden;text-align: left;background-color: #f0f8ff;}#sk-1c2b61da-5808-4943-af75-9b2c9b214607 div.sk-toggleable__content pre {margin: 0.2em;color: black;border-radius: 0.25em;background-color: #f0f8ff;}#sk-1c2b61da-5808-4943-af75-9b2c9b214607 input.sk-toggleable__control:checked~div.sk-toggleable__content {max-height: 200px;max-width: 100%;overflow: auto;}#sk-1c2b61da-5808-4943-af75-9b2c9b214607 div.sk-estimator input.sk-toggleable__control:checked~label.sk-toggleable__label {background-color: #d4ebff;}#sk-1c2b61da-5808-4943-af75-9b2c9b214607 div.sk-label input.sk-toggleable__control:checked~label.sk-toggleable__label {background-color: #d4ebff;}#sk-1c2b61da-5808-4943-af75-9b2c9b214607 input.sk-hidden--visually {border: 0;clip: rect(1px 1px 1px 1px);clip: rect(1px, 1px, 1px, 1px);height: 1px;margin: -1px;overflow: hidden;padding: 0;position: absolute;width: 1px;}#sk-1c2b61da-5808-4943-af75-9b2c9b214607 div.sk-estimator {font-family: monospace;background-color: #f0f8ff;margin: 0.25em 0.25em;border: 1px dotted black;border-radius: 0.25em;box-sizing: border-box;}#sk-1c2b61da-5808-4943-af75-9b2c9b214607 div.sk-estimator:hover {background-color: #d4ebff;}#sk-1c2b61da-5808-4943-af75-9b2c9b214607 div.sk-parallel-item::after {content: \"\";width: 100%;border-bottom: 1px solid gray;flex-grow: 1;}#sk-1c2b61da-5808-4943-af75-9b2c9b214607 div.sk-label:hover label.sk-toggleable__label {background-color: #d4ebff;}#sk-1c2b61da-5808-4943-af75-9b2c9b214607 div.sk-serial::before {content: \"\";position: absolute;border-left: 1px solid gray;box-sizing: border-box;top: 2em;bottom: 0;left: 50%;}#sk-1c2b61da-5808-4943-af75-9b2c9b214607 div.sk-serial {display: flex;flex-direction: column;align-items: center;background-color: white;}#sk-1c2b61da-5808-4943-af75-9b2c9b214607 div.sk-item {z-index: 1;}#sk-1c2b61da-5808-4943-af75-9b2c9b214607 div.sk-parallel {display: flex;align-items: stretch;justify-content: center;background-color: white;}#sk-1c2b61da-5808-4943-af75-9b2c9b214607 div.sk-parallel-item {display: flex;flex-direction: column;position: relative;background-color: white;}#sk-1c2b61da-5808-4943-af75-9b2c9b214607 div.sk-parallel-item:first-child::after {align-self: flex-end;width: 50%;}#sk-1c2b61da-5808-4943-af75-9b2c9b214607 div.sk-parallel-item:last-child::after {align-self: flex-start;width: 50%;}#sk-1c2b61da-5808-4943-af75-9b2c9b214607 div.sk-parallel-item:only-child::after {width: 0;}#sk-1c2b61da-5808-4943-af75-9b2c9b214607 div.sk-dashed-wrapped {border: 1px dashed gray;margin: 0.2em;box-sizing: border-box;padding-bottom: 0.1em;background-color: white;position: relative;}#sk-1c2b61da-5808-4943-af75-9b2c9b214607 div.sk-label label {font-family: monospace;font-weight: bold;background-color: white;display: inline-block;line-height: 1.2em;}#sk-1c2b61da-5808-4943-af75-9b2c9b214607 div.sk-label-container {position: relative;z-index: 2;text-align: center;}#sk-1c2b61da-5808-4943-af75-9b2c9b214607 div.sk-container {display: inline-block;position: relative;}</style><div id=\"sk-1c2b61da-5808-4943-af75-9b2c9b214607\" class\"sk-top-container\"><div class=\"sk-container\"><div class=\"sk-item sk-dashed-wrapped\"><div class=\"sk-label-container\"><div class=\"sk-label sk-toggleable\"><input class=\"sk-toggleable__control sk-hidden--visually\" id=\"e865b48e-ccd6-40c8-9e95-4d140ecb5eec\" type=\"checkbox\" ><label class=\"sk-toggleable__label\" for=\"e865b48e-ccd6-40c8-9e95-4d140ecb5eec\">Pipeline</label><div class=\"sk-toggleable__content\"><pre>Pipeline(steps=[('columntransformer',\n",
       "                 ColumnTransformer(transformers=[('pipeline-1',\n",
       "                                                  Pipeline(steps=[('simpleimputer',\n",
       "                                                                   SimpleImputer(missing_values=0)),\n",
       "                                                                  ('minmaxscaler',\n",
       "                                                                   MinMaxScaler())]),\n",
       "                                                  <sklearn.compose._column_transformer.make_column_selector object at 0x7f2cd7e6df70>),\n",
       "                                                 ('pipeline-2',\n",
       "                                                  Pipeline(steps=[('simpleimputer',\n",
       "                                                                   SimpleImputer(strategy='most_frequent')),\n",
       "                                                                  ('onehotencoder',\n",
       "                                                                   OneHotEncoder(handle_unknown='ignore'))]),\n",
       "                                                  ['position'])])),\n",
       "                ('ridge', Ridge())])</pre></div></div></div><div class=\"sk-serial\"><div class=\"sk-item sk-dashed-wrapped\"><div class=\"sk-label-container\"><div class=\"sk-label sk-toggleable\"><input class=\"sk-toggleable__control sk-hidden--visually\" id=\"38aa1722-361f-42ab-adf9-0f03db0243a5\" type=\"checkbox\" ><label class=\"sk-toggleable__label\" for=\"38aa1722-361f-42ab-adf9-0f03db0243a5\">columntransformer: ColumnTransformer</label><div class=\"sk-toggleable__content\"><pre>ColumnTransformer(transformers=[('pipeline-1',\n",
       "                                 Pipeline(steps=[('simpleimputer',\n",
       "                                                  SimpleImputer(missing_values=0)),\n",
       "                                                 ('minmaxscaler',\n",
       "                                                  MinMaxScaler())]),\n",
       "                                 <sklearn.compose._column_transformer.make_column_selector object at 0x7f2cd7e6df70>),\n",
       "                                ('pipeline-2',\n",
       "                                 Pipeline(steps=[('simpleimputer',\n",
       "                                                  SimpleImputer(strategy='most_frequent')),\n",
       "                                                 ('onehotencoder',\n",
       "                                                  OneHotEncoder(handle_unknown='ignore'))]),\n",
       "                                 ['position'])])</pre></div></div></div><div class=\"sk-parallel\"><div class=\"sk-parallel-item\"><div class=\"sk-item\"><div class=\"sk-label-container\"><div class=\"sk-label sk-toggleable\"><input class=\"sk-toggleable__control sk-hidden--visually\" id=\"b53a426d-d5e5-4507-84c4-e2561e8e9727\" type=\"checkbox\" ><label class=\"sk-toggleable__label\" for=\"b53a426d-d5e5-4507-84c4-e2561e8e9727\">pipeline-1</label><div class=\"sk-toggleable__content\"><pre><sklearn.compose._column_transformer.make_column_selector object at 0x7f2cd7e6df70></pre></div></div></div><div class=\"sk-serial\"><div class=\"sk-item\"><div class=\"sk-serial\"><div class=\"sk-item\"><div class=\"sk-estimator sk-toggleable\"><input class=\"sk-toggleable__control sk-hidden--visually\" id=\"4e550d07-0693-4f65-bc42-2fcbd591fffb\" type=\"checkbox\" ><label class=\"sk-toggleable__label\" for=\"4e550d07-0693-4f65-bc42-2fcbd591fffb\">SimpleImputer</label><div class=\"sk-toggleable__content\"><pre>SimpleImputer(missing_values=0)</pre></div></div></div><div class=\"sk-item\"><div class=\"sk-estimator sk-toggleable\"><input class=\"sk-toggleable__control sk-hidden--visually\" id=\"acd11b56-e39a-453a-9bb2-610f837f0836\" type=\"checkbox\" ><label class=\"sk-toggleable__label\" for=\"acd11b56-e39a-453a-9bb2-610f837f0836\">MinMaxScaler</label><div class=\"sk-toggleable__content\"><pre>MinMaxScaler()</pre></div></div></div></div></div></div></div></div><div class=\"sk-parallel-item\"><div class=\"sk-item\"><div class=\"sk-label-container\"><div class=\"sk-label sk-toggleable\"><input class=\"sk-toggleable__control sk-hidden--visually\" id=\"9940aa50-1438-4a48-a670-57283ed6370f\" type=\"checkbox\" ><label class=\"sk-toggleable__label\" for=\"9940aa50-1438-4a48-a670-57283ed6370f\">pipeline-2</label><div class=\"sk-toggleable__content\"><pre>['position']</pre></div></div></div><div class=\"sk-serial\"><div class=\"sk-item\"><div class=\"sk-serial\"><div class=\"sk-item\"><div class=\"sk-estimator sk-toggleable\"><input class=\"sk-toggleable__control sk-hidden--visually\" id=\"36103e8a-5eb0-4975-ac9c-0b69f4183dd0\" type=\"checkbox\" ><label class=\"sk-toggleable__label\" for=\"36103e8a-5eb0-4975-ac9c-0b69f4183dd0\">SimpleImputer</label><div class=\"sk-toggleable__content\"><pre>SimpleImputer(strategy='most_frequent')</pre></div></div></div><div class=\"sk-item\"><div class=\"sk-estimator sk-toggleable\"><input class=\"sk-toggleable__control sk-hidden--visually\" id=\"315c6924-ffb6-40c9-ad9d-56ccabd06027\" type=\"checkbox\" ><label class=\"sk-toggleable__label\" for=\"315c6924-ffb6-40c9-ad9d-56ccabd06027\">OneHotEncoder</label><div class=\"sk-toggleable__content\"><pre>OneHotEncoder(handle_unknown='ignore')</pre></div></div></div></div></div></div></div></div></div></div><div class=\"sk-item\"><div class=\"sk-estimator sk-toggleable\"><input class=\"sk-toggleable__control sk-hidden--visually\" id=\"8282991a-3316-43d9-b774-8f342b5d1739\" type=\"checkbox\" ><label class=\"sk-toggleable__label\" for=\"8282991a-3316-43d9-b774-8f342b5d1739\">Ridge</label><div class=\"sk-toggleable__content\"><pre>Ridge()</pre></div></div></div></div></div></div></div>"
      ],
      "text/plain": [
       "Pipeline(steps=[('columntransformer',\n",
       "                 ColumnTransformer(transformers=[('pipeline-1',\n",
       "                                                  Pipeline(steps=[('simpleimputer',\n",
       "                                                                   SimpleImputer(missing_values=0)),\n",
       "                                                                  ('minmaxscaler',\n",
       "                                                                   MinMaxScaler())]),\n",
       "                                                  <sklearn.compose._column_transformer.make_column_selector object at 0x7f2cd7e6df70>),\n",
       "                                                 ('pipeline-2',\n",
       "                                                  Pipeline(steps=[('simpleimputer',\n",
       "                                                                   SimpleImputer(strategy='most_frequent')),\n",
       "                                                                  ('onehotencoder',\n",
       "                                                                   OneHotEncoder(handle_unknown='ignore'))]),\n",
       "                                                  ['position'])])),\n",
       "                ('ridge', Ridge())])"
      ]
     },
     "execution_count": 36,
     "metadata": {},
     "output_type": "execute_result"
    }
   ],
   "source": [
    "pipe_baseline = make_pipeline(preproc_baseline, Ridge())\n",
    "pipe_baseline"
   ]
  },
  {
   "cell_type": "markdown",
   "id": "c7b506c7",
   "metadata": {},
   "source": [
    "## Baseline pour *y_off*"
   ]
  },
  {
   "cell_type": "code",
   "execution_count": 37,
   "id": "df7b662f",
   "metadata": {},
   "outputs": [
    {
     "data": {
      "text/plain": [
       "0.01965304392441089"
      ]
     },
     "execution_count": 37,
     "metadata": {},
     "output_type": "execute_result"
    }
   ],
   "source": [
    "score_baseline = cross_val_score(pipe_baseline, X_off, y_off, cv=5, scoring=mse).mean()\n",
    "score_baseline"
   ]
  },
  {
   "cell_type": "code",
   "execution_count": 38,
   "id": "1d201d61",
   "metadata": {},
   "outputs": [
    {
     "name": "stdout",
     "output_type": "stream",
     "text": [
      " Baseline retenue: 0.03532038317367764\n"
     ]
    }
   ],
   "source": [
    "print(f' Baseline retenue: {mean_squared_error(y_off, [y_off.mean()]*len(y_off))}')"
   ]
  },
  {
   "cell_type": "markdown",
   "id": "40b1aa49",
   "metadata": {},
   "source": [
    "## Feature sélection avec Lasso & Ridge avec preproc Baseline"
   ]
  },
  {
   "cell_type": "code",
   "execution_count": 39,
   "id": "8ae724d1",
   "metadata": {},
   "outputs": [],
   "source": [
    "import warnings\n",
    "\n",
    "def get_feature_names(column_transformer):\n",
    "    \"\"\"Get feature names from all transformers.\n",
    "    Returns\n",
    "    -------\n",
    "    feature_names : list of strings\n",
    "        Names of the features produced by transform.\n",
    "    \"\"\"\n",
    "    # Remove the internal helper function\n",
    "    #check_is_fitted(column_transformer)\n",
    "    \n",
    "    # Turn loopkup into function for better handling with pipeline later\n",
    "    def get_names(trans):\n",
    "        # >> Original get_feature_names() method\n",
    "        if trans == 'drop' or (\n",
    "                hasattr(column, '__len__') and not len(column)):\n",
    "            return []\n",
    "        if trans == 'passthrough':\n",
    "            if hasattr(column_transformer, '_df_columns'):\n",
    "                if ((not isinstance(column, slice))\n",
    "                        and all(isinstance(col, str) for col in column)):\n",
    "                    return column\n",
    "                else:\n",
    "                    return column_transformer._df_columns[column]\n",
    "            else:\n",
    "                indices = np.arange(column_transformer._n_features)\n",
    "                return ['x%d' % i for i in indices[column]]\n",
    "        if not hasattr(trans, 'get_feature_names'):\n",
    "        # >>> Change: Return input column names if no method avaiable\n",
    "            # Turn error into a warning\n",
    "            warnings.warn(\"Transformer %s (type %s) does not \"\n",
    "                                 \"provide get_feature_names. \"\n",
    "                                 \"Will return input column names if available\"\n",
    "                                 % (str(name), type(trans).__name__))\n",
    "            # For transformers without a get_features_names method, use the input\n",
    "            # names to the column transformer\n",
    "            if column is None:\n",
    "                return []\n",
    "            else:\n",
    "                return [name + \"__\" + f for f in column]\n",
    "\n",
    "        return [name + \"__\" + f for f in trans.get_feature_names()]\n",
    "    \n",
    "    ### Start of processing\n",
    "    feature_names = []\n",
    "    \n",
    "    # Allow transformers to be pipelines. Pipeline steps are named differently, so preprocessing is needed\n",
    "    if type(column_transformer) == Pipeline:\n",
    "        l_transformers = [(name, trans, None, None) for step, name, trans in column_transformer._iter()]\n",
    "    else:\n",
    "        # For column transformers, follow the original method\n",
    "        l_transformers = list(column_transformer._iter(fitted=True))\n",
    "    \n",
    "    \n",
    "    for name, trans, column, _ in l_transformers: \n",
    "        if type(trans) == Pipeline:\n",
    "            # Recursive call on pipeline\n",
    "            _names = get_feature_names(trans)\n",
    "            # if pipeline has no transformer that returns names\n",
    "            if len(_names)==0:\n",
    "                _names = [name + \"__\" + f for f in column]\n",
    "            feature_names.extend(_names)\n",
    "        else:\n",
    "            feature_names.extend(get_names(trans))\n",
    "    \n",
    "    return feature_names"
   ]
  },
  {
   "cell_type": "code",
   "execution_count": 40,
   "id": "0cd4a711",
   "metadata": {},
   "outputs": [],
   "source": [
    "#preproc_baseline.fit(X, y_def)\n",
    "X_prepro_baseline = preproc_baseline.fit_transform(X_off)\n",
    "# X_prepro = pd.DataFrame(X_prepro_pipe, columns=get_feature_names(preproc_baseline))\n",
    "# X_prepro['pipeline-1__standing_reach'].value_counts()"
   ]
  },
  {
   "cell_type": "code",
   "execution_count": 41,
   "id": "63ffd687",
   "metadata": {},
   "outputs": [
    {
     "name": "stderr",
     "output_type": "stream",
     "text": [
      "/tmp/ipykernel_391/1453787466.py:32: UserWarning: Transformer simpleimputer (type SimpleImputer) does not provide get_feature_names. Will return input column names if available\n",
      "  warnings.warn(\"Transformer %s (type %s) does not \"\n",
      "/tmp/ipykernel_391/1453787466.py:32: UserWarning: Transformer minmaxscaler (type MinMaxScaler) does not provide get_feature_names. Will return input column names if available\n",
      "  warnings.warn(\"Transformer %s (type %s) does not \"\n"
     ]
    },
    {
     "data": {
      "text/html": [
       "<style type=\"text/css\">\n",
       "#T_c4594_row0_col0, #T_c4594_row0_col1, #T_c4594_row0_col2, #T_c4594_row1_col0, #T_c4594_row1_col1, #T_c4594_row1_col2, #T_c4594_row2_col0, #T_c4594_row2_col1, #T_c4594_row2_col2, #T_c4594_row3_col0, #T_c4594_row3_col1, #T_c4594_row3_col2, #T_c4594_row4_col0, #T_c4594_row4_col1, #T_c4594_row4_col2, #T_c4594_row5_col0, #T_c4594_row5_col1, #T_c4594_row5_col2, #T_c4594_row6_col0, #T_c4594_row6_col1, #T_c4594_row6_col2, #T_c4594_row7_col0, #T_c4594_row7_col1, #T_c4594_row7_col2, #T_c4594_row8_col0, #T_c4594_row8_col1, #T_c4594_row8_col2, #T_c4594_row9_col0, #T_c4594_row9_col1, #T_c4594_row9_col2, #T_c4594_row10_col0, #T_c4594_row10_col1, #T_c4594_row10_col2, #T_c4594_row11_col0, #T_c4594_row11_col1, #T_c4594_row11_col2, #T_c4594_row12_col0, #T_c4594_row12_col1, #T_c4594_row12_col2, #T_c4594_row13_col0, #T_c4594_row13_col1, #T_c4594_row13_col2, #T_c4594_row14_col0, #T_c4594_row14_col1, #T_c4594_row14_col2, #T_c4594_row15_col0, #T_c4594_row15_col1, #T_c4594_row15_col2, #T_c4594_row16_col0, #T_c4594_row16_col1, #T_c4594_row16_col2, #T_c4594_row17_col0, #T_c4594_row17_col1, #T_c4594_row17_col2, #T_c4594_row18_col0, #T_c4594_row18_col1, #T_c4594_row18_col2, #T_c4594_row19_col0, #T_c4594_row19_col1, #T_c4594_row19_col2, #T_c4594_row20_col0, #T_c4594_row20_col1, #T_c4594_row20_col2, #T_c4594_row21_col0, #T_c4594_row21_col1, #T_c4594_row21_col2, #T_c4594_row22_col0, #T_c4594_row22_col1, #T_c4594_row22_col2, #T_c4594_row23_col0, #T_c4594_row23_col1, #T_c4594_row23_col2, #T_c4594_row24_col0, #T_c4594_row24_col1, #T_c4594_row24_col2, #T_c4594_row25_col0, #T_c4594_row25_col1, #T_c4594_row25_col2, #T_c4594_row26_col0, #T_c4594_row26_col1, #T_c4594_row26_col2, #T_c4594_row27_col0, #T_c4594_row27_col1, #T_c4594_row27_col2 {\n",
       "  color: red;\n",
       "}\n",
       "</style>\n",
       "<table id=\"T_c4594_\">\n",
       "  <thead>\n",
       "    <tr>\n",
       "      <th class=\"blank level0\" >&nbsp;</th>\n",
       "      <th class=\"col_heading level0 col0\" >coef_linreg</th>\n",
       "      <th class=\"col_heading level0 col1\" >coef_ridge</th>\n",
       "      <th class=\"col_heading level0 col2\" >coef_lasso</th>\n",
       "    </tr>\n",
       "  </thead>\n",
       "  <tbody>\n",
       "    <tr>\n",
       "      <th id=\"T_c4594_level0_row0\" class=\"row_heading level0 row0\" >pipeline-1__g</th>\n",
       "      <td id=\"T_c4594_row0_col0\" class=\"data row0 col0\" >0</td>\n",
       "      <td id=\"T_c4594_row0_col1\" class=\"data row0 col1\" >0</td>\n",
       "      <td id=\"T_c4594_row0_col2\" class=\"data row0 col2\" >0</td>\n",
       "    </tr>\n",
       "    <tr>\n",
       "      <th id=\"T_c4594_level0_row1\" class=\"row_heading level0 row1\" >pipeline-1__gs</th>\n",
       "      <td id=\"T_c4594_row1_col0\" class=\"data row1 col0\" >0</td>\n",
       "      <td id=\"T_c4594_row1_col1\" class=\"data row1 col1\" >0</td>\n",
       "      <td id=\"T_c4594_row1_col2\" class=\"data row1 col2\" >0</td>\n",
       "    </tr>\n",
       "    <tr>\n",
       "      <th id=\"T_c4594_level0_row2\" class=\"row_heading level0 row2\" >pipeline-1__mp</th>\n",
       "      <td id=\"T_c4594_row2_col0\" class=\"data row2 col0\" >0</td>\n",
       "      <td id=\"T_c4594_row2_col1\" class=\"data row2 col1\" >0</td>\n",
       "      <td id=\"T_c4594_row2_col2\" class=\"data row2 col2\" >0</td>\n",
       "    </tr>\n",
       "    <tr>\n",
       "      <th id=\"T_c4594_level0_row3\" class=\"row_heading level0 row3\" >pipeline-1__per</th>\n",
       "      <td id=\"T_c4594_row3_col0\" class=\"data row3 col0\" >0</td>\n",
       "      <td id=\"T_c4594_row3_col1\" class=\"data row3 col1\" >0</td>\n",
       "      <td id=\"T_c4594_row3_col2\" class=\"data row3 col2\" >0</td>\n",
       "    </tr>\n",
       "    <tr>\n",
       "      <th id=\"T_c4594_level0_row4\" class=\"row_heading level0 row4\" >pipeline-1__ts_pct</th>\n",
       "      <td id=\"T_c4594_row4_col0\" class=\"data row4 col0\" >0</td>\n",
       "      <td id=\"T_c4594_row4_col1\" class=\"data row4 col1\" >0</td>\n",
       "      <td id=\"T_c4594_row4_col2\" class=\"data row4 col2\" >0</td>\n",
       "    </tr>\n",
       "    <tr>\n",
       "      <th id=\"T_c4594_level0_row5\" class=\"row_heading level0 row5\" >pipeline-1__efg_pct</th>\n",
       "      <td id=\"T_c4594_row5_col0\" class=\"data row5 col0\" >0</td>\n",
       "      <td id=\"T_c4594_row5_col1\" class=\"data row5 col1\" >0</td>\n",
       "      <td id=\"T_c4594_row5_col2\" class=\"data row5 col2\" >0</td>\n",
       "    </tr>\n",
       "    <tr>\n",
       "      <th id=\"T_c4594_level0_row6\" class=\"row_heading level0 row6\" >pipeline-1__fg3a_per_fga_pct</th>\n",
       "      <td id=\"T_c4594_row6_col0\" class=\"data row6 col0\" >0</td>\n",
       "      <td id=\"T_c4594_row6_col1\" class=\"data row6 col1\" >0</td>\n",
       "      <td id=\"T_c4594_row6_col2\" class=\"data row6 col2\" >0</td>\n",
       "    </tr>\n",
       "    <tr>\n",
       "      <th id=\"T_c4594_level0_row7\" class=\"row_heading level0 row7\" >pipeline-1__fta_per_fga_pct</th>\n",
       "      <td id=\"T_c4594_row7_col0\" class=\"data row7 col0\" >0</td>\n",
       "      <td id=\"T_c4594_row7_col1\" class=\"data row7 col1\" >0</td>\n",
       "      <td id=\"T_c4594_row7_col2\" class=\"data row7 col2\" >0</td>\n",
       "    </tr>\n",
       "    <tr>\n",
       "      <th id=\"T_c4594_level0_row8\" class=\"row_heading level0 row8\" >pipeline-1__orb_pct</th>\n",
       "      <td id=\"T_c4594_row8_col0\" class=\"data row8 col0\" >0</td>\n",
       "      <td id=\"T_c4594_row8_col1\" class=\"data row8 col1\" >0</td>\n",
       "      <td id=\"T_c4594_row8_col2\" class=\"data row8 col2\" >0</td>\n",
       "    </tr>\n",
       "    <tr>\n",
       "      <th id=\"T_c4594_level0_row9\" class=\"row_heading level0 row9\" >pipeline-1__ast_pct</th>\n",
       "      <td id=\"T_c4594_row9_col0\" class=\"data row9 col0\" >0</td>\n",
       "      <td id=\"T_c4594_row9_col1\" class=\"data row9 col1\" >0</td>\n",
       "      <td id=\"T_c4594_row9_col2\" class=\"data row9 col2\" >0</td>\n",
       "    </tr>\n",
       "    <tr>\n",
       "      <th id=\"T_c4594_level0_row10\" class=\"row_heading level0 row10\" >pipeline-1__tov_pct</th>\n",
       "      <td id=\"T_c4594_row10_col0\" class=\"data row10 col0\" >0</td>\n",
       "      <td id=\"T_c4594_row10_col1\" class=\"data row10 col1\" >0</td>\n",
       "      <td id=\"T_c4594_row10_col2\" class=\"data row10 col2\" >0</td>\n",
       "    </tr>\n",
       "    <tr>\n",
       "      <th id=\"T_c4594_level0_row11\" class=\"row_heading level0 row11\" >pipeline-1__usg_pct</th>\n",
       "      <td id=\"T_c4594_row11_col0\" class=\"data row11 col0\" >0</td>\n",
       "      <td id=\"T_c4594_row11_col1\" class=\"data row11 col1\" >0</td>\n",
       "      <td id=\"T_c4594_row11_col2\" class=\"data row11 col2\" >0</td>\n",
       "    </tr>\n",
       "    <tr>\n",
       "      <th id=\"T_c4594_level0_row12\" class=\"row_heading level0 row12\" >pipeline-1__ows</th>\n",
       "      <td id=\"T_c4594_row12_col0\" class=\"data row12 col0\" >0</td>\n",
       "      <td id=\"T_c4594_row12_col1\" class=\"data row12 col1\" >0</td>\n",
       "      <td id=\"T_c4594_row12_col2\" class=\"data row12 col2\" >0</td>\n",
       "    </tr>\n",
       "    <tr>\n",
       "      <th id=\"T_c4594_level0_row13\" class=\"row_heading level0 row13\" >pipeline-1__obpm</th>\n",
       "      <td id=\"T_c4594_row13_col0\" class=\"data row13 col0\" >0</td>\n",
       "      <td id=\"T_c4594_row13_col1\" class=\"data row13 col1\" >0</td>\n",
       "      <td id=\"T_c4594_row13_col2\" class=\"data row13 col2\" >0</td>\n",
       "    </tr>\n",
       "    <tr>\n",
       "      <th id=\"T_c4594_level0_row14\" class=\"row_heading level0 row14\" >pipeline-1__nb_year_uni</th>\n",
       "      <td id=\"T_c4594_row14_col0\" class=\"data row14 col0\" >0</td>\n",
       "      <td id=\"T_c4594_row14_col1\" class=\"data row14 col1\" >0</td>\n",
       "      <td id=\"T_c4594_row14_col2\" class=\"data row14 col2\" >0</td>\n",
       "    </tr>\n",
       "    <tr>\n",
       "      <th id=\"T_c4594_level0_row15\" class=\"row_heading level0 row15\" >pipeline-1__body_fat_pct</th>\n",
       "      <td id=\"T_c4594_row15_col0\" class=\"data row15 col0\" >0</td>\n",
       "      <td id=\"T_c4594_row15_col1\" class=\"data row15 col1\" >0</td>\n",
       "      <td id=\"T_c4594_row15_col2\" class=\"data row15 col2\" >0</td>\n",
       "    </tr>\n",
       "    <tr>\n",
       "      <th id=\"T_c4594_level0_row16\" class=\"row_heading level0 row16\" >pipeline-1__hand_length</th>\n",
       "      <td id=\"T_c4594_row16_col0\" class=\"data row16 col0\" >0</td>\n",
       "      <td id=\"T_c4594_row16_col1\" class=\"data row16 col1\" >0</td>\n",
       "      <td id=\"T_c4594_row16_col2\" class=\"data row16 col2\" >0</td>\n",
       "    </tr>\n",
       "    <tr>\n",
       "      <th id=\"T_c4594_level0_row17\" class=\"row_heading level0 row17\" >pipeline-1__hand_width</th>\n",
       "      <td id=\"T_c4594_row17_col0\" class=\"data row17 col0\" >0</td>\n",
       "      <td id=\"T_c4594_row17_col1\" class=\"data row17 col1\" >0</td>\n",
       "      <td id=\"T_c4594_row17_col2\" class=\"data row17 col2\" >0</td>\n",
       "    </tr>\n",
       "    <tr>\n",
       "      <th id=\"T_c4594_level0_row18\" class=\"row_heading level0 row18\" >pipeline-1__height_wo_shoes</th>\n",
       "      <td id=\"T_c4594_row18_col0\" class=\"data row18 col0\" >0</td>\n",
       "      <td id=\"T_c4594_row18_col1\" class=\"data row18 col1\" >0</td>\n",
       "      <td id=\"T_c4594_row18_col2\" class=\"data row18 col2\" >0</td>\n",
       "    </tr>\n",
       "    <tr>\n",
       "      <th id=\"T_c4594_level0_row19\" class=\"row_heading level0 row19\" >pipeline-1__height_w_shoes</th>\n",
       "      <td id=\"T_c4594_row19_col0\" class=\"data row19 col0\" >0</td>\n",
       "      <td id=\"T_c4594_row19_col1\" class=\"data row19 col1\" >0</td>\n",
       "      <td id=\"T_c4594_row19_col2\" class=\"data row19 col2\" >0</td>\n",
       "    </tr>\n",
       "    <tr>\n",
       "      <th id=\"T_c4594_level0_row20\" class=\"row_heading level0 row20\" >pipeline-1__standing_reach</th>\n",
       "      <td id=\"T_c4594_row20_col0\" class=\"data row20 col0\" >0</td>\n",
       "      <td id=\"T_c4594_row20_col1\" class=\"data row20 col1\" >0</td>\n",
       "      <td id=\"T_c4594_row20_col2\" class=\"data row20 col2\" >0</td>\n",
       "    </tr>\n",
       "    <tr>\n",
       "      <th id=\"T_c4594_level0_row21\" class=\"row_heading level0 row21\" >pipeline-1__weight</th>\n",
       "      <td id=\"T_c4594_row21_col0\" class=\"data row21 col0\" >0</td>\n",
       "      <td id=\"T_c4594_row21_col1\" class=\"data row21 col1\" >0</td>\n",
       "      <td id=\"T_c4594_row21_col2\" class=\"data row21 col2\" >0</td>\n",
       "    </tr>\n",
       "    <tr>\n",
       "      <th id=\"T_c4594_level0_row22\" class=\"row_heading level0 row22\" >pipeline-1__wingspan</th>\n",
       "      <td id=\"T_c4594_row22_col0\" class=\"data row22 col0\" >0</td>\n",
       "      <td id=\"T_c4594_row22_col1\" class=\"data row22 col1\" >0</td>\n",
       "      <td id=\"T_c4594_row22_col2\" class=\"data row22 col2\" >0</td>\n",
       "    </tr>\n",
       "    <tr>\n",
       "      <th id=\"T_c4594_level0_row23\" class=\"row_heading level0 row23\" >onehotencoder__x0_C</th>\n",
       "      <td id=\"T_c4594_row23_col0\" class=\"data row23 col0\" >0</td>\n",
       "      <td id=\"T_c4594_row23_col1\" class=\"data row23 col1\" >0</td>\n",
       "      <td id=\"T_c4594_row23_col2\" class=\"data row23 col2\" >0</td>\n",
       "    </tr>\n",
       "    <tr>\n",
       "      <th id=\"T_c4594_level0_row24\" class=\"row_heading level0 row24\" >onehotencoder__x0_PF</th>\n",
       "      <td id=\"T_c4594_row24_col0\" class=\"data row24 col0\" >0</td>\n",
       "      <td id=\"T_c4594_row24_col1\" class=\"data row24 col1\" >0</td>\n",
       "      <td id=\"T_c4594_row24_col2\" class=\"data row24 col2\" >0</td>\n",
       "    </tr>\n",
       "    <tr>\n",
       "      <th id=\"T_c4594_level0_row25\" class=\"row_heading level0 row25\" >onehotencoder__x0_PG</th>\n",
       "      <td id=\"T_c4594_row25_col0\" class=\"data row25 col0\" >0</td>\n",
       "      <td id=\"T_c4594_row25_col1\" class=\"data row25 col1\" >0</td>\n",
       "      <td id=\"T_c4594_row25_col2\" class=\"data row25 col2\" >0</td>\n",
       "    </tr>\n",
       "    <tr>\n",
       "      <th id=\"T_c4594_level0_row26\" class=\"row_heading level0 row26\" >onehotencoder__x0_SF</th>\n",
       "      <td id=\"T_c4594_row26_col0\" class=\"data row26 col0\" >0</td>\n",
       "      <td id=\"T_c4594_row26_col1\" class=\"data row26 col1\" >0</td>\n",
       "      <td id=\"T_c4594_row26_col2\" class=\"data row26 col2\" >0</td>\n",
       "    </tr>\n",
       "    <tr>\n",
       "      <th id=\"T_c4594_level0_row27\" class=\"row_heading level0 row27\" >onehotencoder__x0_SG</th>\n",
       "      <td id=\"T_c4594_row27_col0\" class=\"data row27 col0\" >0</td>\n",
       "      <td id=\"T_c4594_row27_col1\" class=\"data row27 col1\" >0</td>\n",
       "      <td id=\"T_c4594_row27_col2\" class=\"data row27 col2\" >0</td>\n",
       "    </tr>\n",
       "  </tbody>\n",
       "</table>\n"
      ],
      "text/plain": [
       "<pandas.io.formats.style.Styler at 0x7f2cd7e99dc0>"
      ]
     },
     "execution_count": 41,
     "metadata": {},
     "output_type": "execute_result"
    }
   ],
   "source": [
    "#preproc_baseline.fit(X, y_def)\n",
    "# X_prepro = preproc_baseline.transform(X)\n",
    "# X_prepro = pd.DataFrame(X_prepro)\n",
    "\n",
    "linreg = LinearRegression().fit(X_prepro_baseline, y_off)\n",
    "ridge = Ridge(alpha=0.001).fit(X_prepro_baseline, y_off)\n",
    "lasso = Lasso(alpha=0.001).fit(X_prepro_baseline, y_off)\n",
    "\n",
    "coefs = pd.DataFrame({\n",
    "    \"coef_linreg\": pd.Series(linreg.coef_, index = get_feature_names(preproc_baseline)),\n",
    "    \"coef_ridge\": pd.Series(ridge.coef_, index = get_feature_names(preproc_baseline)),\n",
    "    \"coef_lasso\": pd.Series(lasso.coef_, index= get_feature_names(preproc_baseline))})\\\n",
    "\n",
    "coefs\\\n",
    "    .applymap(lambda x: int(x))\\\n",
    "    .style.applymap(lambda x: 'color: red' if x == 0 else 'color: black')"
   ]
  },
  {
   "cell_type": "markdown",
   "id": "635d26e7",
   "metadata": {},
   "source": [
    "# Preprocessing itérations"
   ]
  },
  {
   "cell_type": "code",
   "execution_count": 42,
   "id": "71fe436d",
   "metadata": {},
   "outputs": [],
   "source": [
    "from sklearn.model_selection import cross_val_score\n",
    "from sklearn.neighbors import KNeighborsRegressor\n",
    "from sklearn.linear_model import Ridge, Lasso, LinearRegression\n",
    "from sklearn.model_selection import RandomizedSearchCV\n",
    "from sklearn.svm import SVR\n",
    "from sklearn.model_selection import GridSearchCV, RandomizedSearchCV\n",
    "from sklearn.ensemble import AdaBoostRegressor\n",
    "from sklearn.tree import DecisionTreeRegressor\n",
    "from sklearn.ensemble import VotingRegressor\n",
    "from sklearn.ensemble import GradientBoostingRegressor\n",
    "from sklearn.ensemble import StackingRegressor\n",
    "from sklearn.ensemble import RandomForestRegressor"
   ]
  },
  {
   "cell_type": "code",
   "execution_count": 43,
   "id": "3455d90c",
   "metadata": {},
   "outputs": [],
   "source": [
    "feat_numerical = sorted(X_off.select_dtypes(include=[\"int32\", \"float64\"]).columns)"
   ]
  },
  {
   "cell_type": "code",
   "execution_count": 44,
   "id": "00bd1569",
   "metadata": {},
   "outputs": [
    {
     "data": {
      "text/html": [
       "<style>#sk-a4a6d048-9a59-462d-b7b8-fad53bb7fa95 {color: black;background-color: white;}#sk-a4a6d048-9a59-462d-b7b8-fad53bb7fa95 pre{padding: 0;}#sk-a4a6d048-9a59-462d-b7b8-fad53bb7fa95 div.sk-toggleable {background-color: white;}#sk-a4a6d048-9a59-462d-b7b8-fad53bb7fa95 label.sk-toggleable__label {cursor: pointer;display: block;width: 100%;margin-bottom: 0;padding: 0.2em 0.3em;box-sizing: border-box;text-align: center;}#sk-a4a6d048-9a59-462d-b7b8-fad53bb7fa95 div.sk-toggleable__content {max-height: 0;max-width: 0;overflow: hidden;text-align: left;background-color: #f0f8ff;}#sk-a4a6d048-9a59-462d-b7b8-fad53bb7fa95 div.sk-toggleable__content pre {margin: 0.2em;color: black;border-radius: 0.25em;background-color: #f0f8ff;}#sk-a4a6d048-9a59-462d-b7b8-fad53bb7fa95 input.sk-toggleable__control:checked~div.sk-toggleable__content {max-height: 200px;max-width: 100%;overflow: auto;}#sk-a4a6d048-9a59-462d-b7b8-fad53bb7fa95 div.sk-estimator input.sk-toggleable__control:checked~label.sk-toggleable__label {background-color: #d4ebff;}#sk-a4a6d048-9a59-462d-b7b8-fad53bb7fa95 div.sk-label input.sk-toggleable__control:checked~label.sk-toggleable__label {background-color: #d4ebff;}#sk-a4a6d048-9a59-462d-b7b8-fad53bb7fa95 input.sk-hidden--visually {border: 0;clip: rect(1px 1px 1px 1px);clip: rect(1px, 1px, 1px, 1px);height: 1px;margin: -1px;overflow: hidden;padding: 0;position: absolute;width: 1px;}#sk-a4a6d048-9a59-462d-b7b8-fad53bb7fa95 div.sk-estimator {font-family: monospace;background-color: #f0f8ff;margin: 0.25em 0.25em;border: 1px dotted black;border-radius: 0.25em;box-sizing: border-box;}#sk-a4a6d048-9a59-462d-b7b8-fad53bb7fa95 div.sk-estimator:hover {background-color: #d4ebff;}#sk-a4a6d048-9a59-462d-b7b8-fad53bb7fa95 div.sk-parallel-item::after {content: \"\";width: 100%;border-bottom: 1px solid gray;flex-grow: 1;}#sk-a4a6d048-9a59-462d-b7b8-fad53bb7fa95 div.sk-label:hover label.sk-toggleable__label {background-color: #d4ebff;}#sk-a4a6d048-9a59-462d-b7b8-fad53bb7fa95 div.sk-serial::before {content: \"\";position: absolute;border-left: 1px solid gray;box-sizing: border-box;top: 2em;bottom: 0;left: 50%;}#sk-a4a6d048-9a59-462d-b7b8-fad53bb7fa95 div.sk-serial {display: flex;flex-direction: column;align-items: center;background-color: white;}#sk-a4a6d048-9a59-462d-b7b8-fad53bb7fa95 div.sk-item {z-index: 1;}#sk-a4a6d048-9a59-462d-b7b8-fad53bb7fa95 div.sk-parallel {display: flex;align-items: stretch;justify-content: center;background-color: white;}#sk-a4a6d048-9a59-462d-b7b8-fad53bb7fa95 div.sk-parallel-item {display: flex;flex-direction: column;position: relative;background-color: white;}#sk-a4a6d048-9a59-462d-b7b8-fad53bb7fa95 div.sk-parallel-item:first-child::after {align-self: flex-end;width: 50%;}#sk-a4a6d048-9a59-462d-b7b8-fad53bb7fa95 div.sk-parallel-item:last-child::after {align-self: flex-start;width: 50%;}#sk-a4a6d048-9a59-462d-b7b8-fad53bb7fa95 div.sk-parallel-item:only-child::after {width: 0;}#sk-a4a6d048-9a59-462d-b7b8-fad53bb7fa95 div.sk-dashed-wrapped {border: 1px dashed gray;margin: 0.2em;box-sizing: border-box;padding-bottom: 0.1em;background-color: white;position: relative;}#sk-a4a6d048-9a59-462d-b7b8-fad53bb7fa95 div.sk-label label {font-family: monospace;font-weight: bold;background-color: white;display: inline-block;line-height: 1.2em;}#sk-a4a6d048-9a59-462d-b7b8-fad53bb7fa95 div.sk-label-container {position: relative;z-index: 2;text-align: center;}#sk-a4a6d048-9a59-462d-b7b8-fad53bb7fa95 div.sk-container {display: inline-block;position: relative;}</style><div id=\"sk-a4a6d048-9a59-462d-b7b8-fad53bb7fa95\" class\"sk-top-container\"><div class=\"sk-container\"><div class=\"sk-item sk-dashed-wrapped\"><div class=\"sk-label-container\"><div class=\"sk-label sk-toggleable\"><input class=\"sk-toggleable__control sk-hidden--visually\" id=\"37bfc7d6-71f0-4c6b-ad1f-6bb0ea405413\" type=\"checkbox\" ><label class=\"sk-toggleable__label\" for=\"37bfc7d6-71f0-4c6b-ad1f-6bb0ea405413\">ColumnTransformer</label><div class=\"sk-toggleable__content\"><pre>ColumnTransformer(transformers=[('pipeline-1',\n",
       "                                 Pipeline(steps=[('knnimputer',\n",
       "                                                  KNNImputer(missing_values=0.0)),\n",
       "                                                 ('minmaxscaler',\n",
       "                                                  MinMaxScaler())]),\n",
       "                                 ['ast_pct', 'body_fat_pct', 'efg_pct',\n",
       "                                  'fg3a_per_fga_pct', 'fta_per_fga_pct', 'g',\n",
       "                                  'gs', 'hand_length', 'hand_width',\n",
       "                                  'height_w_shoes', 'height_wo_shoes', 'mp',\n",
       "                                  'nb_year_uni', 'obpm', 'orb_pct', 'ows',\n",
       "                                  'per', 'standing_reach', 'tov_pct', 'ts_pct',\n",
       "                                  'usg_pct', 'weight', 'wingspan']),\n",
       "                                ('pipeline-2',\n",
       "                                 Pipeline(steps=[('simpleimputer',\n",
       "                                                  SimpleImputer(strategy='most_frequent')),\n",
       "                                                 ('onehotencoder',\n",
       "                                                  OneHotEncoder(handle_unknown='ignore'))]),\n",
       "                                 ['position'])])</pre></div></div></div><div class=\"sk-parallel\"><div class=\"sk-parallel-item\"><div class=\"sk-item\"><div class=\"sk-label-container\"><div class=\"sk-label sk-toggleable\"><input class=\"sk-toggleable__control sk-hidden--visually\" id=\"963e43ef-ef04-4dc0-8ef3-7afa17b4054b\" type=\"checkbox\" ><label class=\"sk-toggleable__label\" for=\"963e43ef-ef04-4dc0-8ef3-7afa17b4054b\">pipeline-1</label><div class=\"sk-toggleable__content\"><pre>['ast_pct', 'body_fat_pct', 'efg_pct', 'fg3a_per_fga_pct', 'fta_per_fga_pct', 'g', 'gs', 'hand_length', 'hand_width', 'height_w_shoes', 'height_wo_shoes', 'mp', 'nb_year_uni', 'obpm', 'orb_pct', 'ows', 'per', 'standing_reach', 'tov_pct', 'ts_pct', 'usg_pct', 'weight', 'wingspan']</pre></div></div></div><div class=\"sk-serial\"><div class=\"sk-item\"><div class=\"sk-serial\"><div class=\"sk-item\"><div class=\"sk-estimator sk-toggleable\"><input class=\"sk-toggleable__control sk-hidden--visually\" id=\"130a9226-cb18-448b-9984-bbfcd9752f7c\" type=\"checkbox\" ><label class=\"sk-toggleable__label\" for=\"130a9226-cb18-448b-9984-bbfcd9752f7c\">KNNImputer</label><div class=\"sk-toggleable__content\"><pre>KNNImputer(missing_values=0.0)</pre></div></div></div><div class=\"sk-item\"><div class=\"sk-estimator sk-toggleable\"><input class=\"sk-toggleable__control sk-hidden--visually\" id=\"f2cdf93f-125b-489e-a787-7a6680fcd64f\" type=\"checkbox\" ><label class=\"sk-toggleable__label\" for=\"f2cdf93f-125b-489e-a787-7a6680fcd64f\">MinMaxScaler</label><div class=\"sk-toggleable__content\"><pre>MinMaxScaler()</pre></div></div></div></div></div></div></div></div><div class=\"sk-parallel-item\"><div class=\"sk-item\"><div class=\"sk-label-container\"><div class=\"sk-label sk-toggleable\"><input class=\"sk-toggleable__control sk-hidden--visually\" id=\"80834e4e-4745-4b2c-8692-ec05ac7b0352\" type=\"checkbox\" ><label class=\"sk-toggleable__label\" for=\"80834e4e-4745-4b2c-8692-ec05ac7b0352\">pipeline-2</label><div class=\"sk-toggleable__content\"><pre>['position']</pre></div></div></div><div class=\"sk-serial\"><div class=\"sk-item\"><div class=\"sk-serial\"><div class=\"sk-item\"><div class=\"sk-estimator sk-toggleable\"><input class=\"sk-toggleable__control sk-hidden--visually\" id=\"96907bbf-0a8c-4b1e-b36c-0a95e5a0fde8\" type=\"checkbox\" ><label class=\"sk-toggleable__label\" for=\"96907bbf-0a8c-4b1e-b36c-0a95e5a0fde8\">SimpleImputer</label><div class=\"sk-toggleable__content\"><pre>SimpleImputer(strategy='most_frequent')</pre></div></div></div><div class=\"sk-item\"><div class=\"sk-estimator sk-toggleable\"><input class=\"sk-toggleable__control sk-hidden--visually\" id=\"090142e1-e3e1-44ee-8c0c-93a052bf4cba\" type=\"checkbox\" ><label class=\"sk-toggleable__label\" for=\"090142e1-e3e1-44ee-8c0c-93a052bf4cba\">OneHotEncoder</label><div class=\"sk-toggleable__content\"><pre>OneHotEncoder(handle_unknown='ignore')</pre></div></div></div></div></div></div></div></div></div></div></div></div>"
      ],
      "text/plain": [
       "ColumnTransformer(transformers=[('pipeline-1',\n",
       "                                 Pipeline(steps=[('knnimputer',\n",
       "                                                  KNNImputer(missing_values=0.0)),\n",
       "                                                 ('minmaxscaler',\n",
       "                                                  MinMaxScaler())]),\n",
       "                                 ['ast_pct', 'body_fat_pct', 'efg_pct',\n",
       "                                  'fg3a_per_fga_pct', 'fta_per_fga_pct', 'g',\n",
       "                                  'gs', 'hand_length', 'hand_width',\n",
       "                                  'height_w_shoes', 'height_wo_shoes', 'mp',\n",
       "                                  'nb_year_uni', 'obpm', 'orb_pct', 'ows',\n",
       "                                  'per', 'standing_reach', 'tov_pct', 'ts_pct',\n",
       "                                  'usg_pct', 'weight', 'wingspan']),\n",
       "                                ('pipeline-2',\n",
       "                                 Pipeline(steps=[('simpleimputer',\n",
       "                                                  SimpleImputer(strategy='most_frequent')),\n",
       "                                                 ('onehotencoder',\n",
       "                                                  OneHotEncoder(handle_unknown='ignore'))]),\n",
       "                                 ['position'])])"
      ]
     },
     "execution_count": 44,
     "metadata": {},
     "output_type": "execute_result"
    }
   ],
   "source": [
    "preproc_numerical = make_pipeline(\n",
    "    KNNImputer(missing_values=0.0),\n",
    "    MinMaxScaler()\n",
    ")\n",
    "\n",
    "preproc_categorical = make_pipeline(\n",
    "    SimpleImputer(strategy=\"most_frequent\"),\n",
    "    OneHotEncoder(handle_unknown=\"ignore\"))\n",
    "\n",
    "preproc = make_column_transformer(\n",
    "    (preproc_numerical, feat_numerical),\n",
    "    (preproc_categorical, feat_categorical_small),\n",
    "    remainder=\"drop\")\n",
    "\n",
    "preproc"
   ]
  },
  {
   "cell_type": "markdown",
   "id": "6ded6120",
   "metadata": {},
   "source": [
    "# Target Engeneering"
   ]
  },
  {
   "cell_type": "code",
   "execution_count": 45,
   "id": "b1936bcf",
   "metadata": {},
   "outputs": [
    {
     "data": {
      "text/plain": [
       "<AxesSubplot:xlabel='ratio_off', ylabel='Count'>"
      ]
     },
     "execution_count": 45,
     "metadata": {},
     "output_type": "execute_result"
    },
    {
     "data": {
      "image/png": "[encoded data removed]",
      "text/plain": [
       "<Figure size 1080x216 with 2 Axes>"
      ]
     },
     "metadata": {
      "needs_background": "light"
     },
     "output_type": "display_data"
    }
   ],
   "source": [
    "y_off_log = np.log(y_off)\n",
    "plt.figure(figsize=(15,3))\n",
    "plt.subplot(1,2,1)\n",
    "sns.histplot(y_off)\n",
    "plt.subplot(1,2,2)\n",
    "sns.histplot(y_off_log, color='green')"
   ]
  },
  {
   "cell_type": "code",
   "execution_count": 46,
   "id": "3f8cc281",
   "metadata": {},
   "outputs": [
    {
     "data": {
      "text/plain": [
       "<matplotlib.collections.PathCollection at 0x7f2cd593b1f0>"
      ]
     },
     "execution_count": 46,
     "metadata": {},
     "output_type": "execute_result"
    },
    {
     "data": {
      "image/png": "[encoded data removed]",
      "text/plain": [
       "<Figure size 432x288 with 1 Axes>"
      ]
     },
     "metadata": {
      "needs_background": "light"
     },
     "output_type": "display_data"
    }
   ],
   "source": [
    "plt.scatter(range(len(y_off)), y_off)"
   ]
  },
  {
   "cell_type": "code",
   "execution_count": 47,
   "id": "05ff0731",
   "metadata": {},
   "outputs": [
    {
     "data": {
      "text/plain": [
       "<matplotlib.collections.PathCollection at 0x7f2cd58aa310>"
      ]
     },
     "execution_count": 47,
     "metadata": {},
     "output_type": "execute_result"
    },
    {
     "data": {
      "image/png": "[encoded data removed]",
      "text/plain": [
       "<Figure size 432x288 with 1 Axes>"
      ]
     },
     "metadata": {
      "needs_background": "light"
     },
     "output_type": "display_data"
    }
   ],
   "source": [
    "plt.scatter(range(len(y_off_log)), y_off_log)"
   ]
  },
  {
   "cell_type": "code",
   "execution_count": 48,
   "id": "036b2ba2",
   "metadata": {},
   "outputs": [
    {
     "data": {
      "text/plain": [
       "0.02423860035073675"
      ]
     },
     "execution_count": 48,
     "metadata": {},
     "output_type": "execute_result"
    }
   ],
   "source": [
    "pipe = make_pipeline(preproc, Ridge())\n",
    "score = cross_val_score(pipe, X_off, y_off_log, cv=5, scoring=mse).mean()\n",
    "score"
   ]
  },
  {
   "cell_type": "markdown",
   "id": "2dcfdace",
   "metadata": {},
   "source": [
    "# Feature engeering"
   ]
  },
  {
   "cell_type": "markdown",
   "id": "df60e670",
   "metadata": {},
   "source": [
    "## Selector : SelectPercentile"
   ]
  },
  {
   "cell_type": "code",
   "execution_count": 49,
   "id": "4b052038",
   "metadata": {},
   "outputs": [],
   "source": [
    "from sklearn.feature_selection import SelectPercentile, mutual_info_regression\n",
    "\n",
    "preproc_selector_sP = SelectPercentile(\n",
    "    mutual_info_regression,\n",
    "    percentile=50, # keep only 50% of all features\n",
    ")"
   ]
  },
  {
   "cell_type": "code",
   "execution_count": 50,
   "id": "7f3211a9",
   "metadata": {},
   "outputs": [],
   "source": [
    "preproc_transformer = make_column_transformer(\n",
    "    (preproc_numerical, feat_numerical),\n",
    "    (preproc_categorical, feat_categorical_small),\n",
    "    remainder=\"drop\")"
   ]
  },
  {
   "cell_type": "code",
   "execution_count": 51,
   "id": "2f4474b2",
   "metadata": {},
   "outputs": [
    {
     "data": {
      "text/html": [
       "<style>#sk-5ac22008-5317-48ff-a8ff-47d09a81fb62 {color: black;background-color: white;}#sk-5ac22008-5317-48ff-a8ff-47d09a81fb62 pre{padding: 0;}#sk-5ac22008-5317-48ff-a8ff-47d09a81fb62 div.sk-toggleable {background-color: white;}#sk-5ac22008-5317-48ff-a8ff-47d09a81fb62 label.sk-toggleable__label {cursor: pointer;display: block;width: 100%;margin-bottom: 0;padding: 0.2em 0.3em;box-sizing: border-box;text-align: center;}#sk-5ac22008-5317-48ff-a8ff-47d09a81fb62 div.sk-toggleable__content {max-height: 0;max-width: 0;overflow: hidden;text-align: left;background-color: #f0f8ff;}#sk-5ac22008-5317-48ff-a8ff-47d09a81fb62 div.sk-toggleable__content pre {margin: 0.2em;color: black;border-radius: 0.25em;background-color: #f0f8ff;}#sk-5ac22008-5317-48ff-a8ff-47d09a81fb62 input.sk-toggleable__control:checked~div.sk-toggleable__content {max-height: 200px;max-width: 100%;overflow: auto;}#sk-5ac22008-5317-48ff-a8ff-47d09a81fb62 div.sk-estimator input.sk-toggleable__control:checked~label.sk-toggleable__label {background-color: #d4ebff;}#sk-5ac22008-5317-48ff-a8ff-47d09a81fb62 div.sk-label input.sk-toggleable__control:checked~label.sk-toggleable__label {background-color: #d4ebff;}#sk-5ac22008-5317-48ff-a8ff-47d09a81fb62 input.sk-hidden--visually {border: 0;clip: rect(1px 1px 1px 1px);clip: rect(1px, 1px, 1px, 1px);height: 1px;margin: -1px;overflow: hidden;padding: 0;position: absolute;width: 1px;}#sk-5ac22008-5317-48ff-a8ff-47d09a81fb62 div.sk-estimator {font-family: monospace;background-color: #f0f8ff;margin: 0.25em 0.25em;border: 1px dotted black;border-radius: 0.25em;box-sizing: border-box;}#sk-5ac22008-5317-48ff-a8ff-47d09a81fb62 div.sk-estimator:hover {background-color: #d4ebff;}#sk-5ac22008-5317-48ff-a8ff-47d09a81fb62 div.sk-parallel-item::after {content: \"\";width: 100%;border-bottom: 1px solid gray;flex-grow: 1;}#sk-5ac22008-5317-48ff-a8ff-47d09a81fb62 div.sk-label:hover label.sk-toggleable__label {background-color: #d4ebff;}#sk-5ac22008-5317-48ff-a8ff-47d09a81fb62 div.sk-serial::before {content: \"\";position: absolute;border-left: 1px solid gray;box-sizing: border-box;top: 2em;bottom: 0;left: 50%;}#sk-5ac22008-5317-48ff-a8ff-47d09a81fb62 div.sk-serial {display: flex;flex-direction: column;align-items: center;background-color: white;}#sk-5ac22008-5317-48ff-a8ff-47d09a81fb62 div.sk-item {z-index: 1;}#sk-5ac22008-5317-48ff-a8ff-47d09a81fb62 div.sk-parallel {display: flex;align-items: stretch;justify-content: center;background-color: white;}#sk-5ac22008-5317-48ff-a8ff-47d09a81fb62 div.sk-parallel-item {display: flex;flex-direction: column;position: relative;background-color: white;}#sk-5ac22008-5317-48ff-a8ff-47d09a81fb62 div.sk-parallel-item:first-child::after {align-self: flex-end;width: 50%;}#sk-5ac22008-5317-48ff-a8ff-47d09a81fb62 div.sk-parallel-item:last-child::after {align-self: flex-start;width: 50%;}#sk-5ac22008-5317-48ff-a8ff-47d09a81fb62 div.sk-parallel-item:only-child::after {width: 0;}#sk-5ac22008-5317-48ff-a8ff-47d09a81fb62 div.sk-dashed-wrapped {border: 1px dashed gray;margin: 0.2em;box-sizing: border-box;padding-bottom: 0.1em;background-color: white;position: relative;}#sk-5ac22008-5317-48ff-a8ff-47d09a81fb62 div.sk-label label {font-family: monospace;font-weight: bold;background-color: white;display: inline-block;line-height: 1.2em;}#sk-5ac22008-5317-48ff-a8ff-47d09a81fb62 div.sk-label-container {position: relative;z-index: 2;text-align: center;}#sk-5ac22008-5317-48ff-a8ff-47d09a81fb62 div.sk-container {display: inline-block;position: relative;}</style><div id=\"sk-5ac22008-5317-48ff-a8ff-47d09a81fb62\" class\"sk-top-container\"><div class=\"sk-container\"><div class=\"sk-item sk-dashed-wrapped\"><div class=\"sk-label-container\"><div class=\"sk-label sk-toggleable\"><input class=\"sk-toggleable__control sk-hidden--visually\" id=\"257826a9-cc48-4a15-b4f2-9b68f8db4db9\" type=\"checkbox\" ><label class=\"sk-toggleable__label\" for=\"257826a9-cc48-4a15-b4f2-9b68f8db4db9\">Pipeline</label><div class=\"sk-toggleable__content\"><pre>Pipeline(steps=[('columntransformer',\n",
       "                 ColumnTransformer(transformers=[('pipeline-1',\n",
       "                                                  Pipeline(steps=[('knnimputer',\n",
       "                                                                   KNNImputer(missing_values=0.0)),\n",
       "                                                                  ('minmaxscaler',\n",
       "                                                                   MinMaxScaler())]),\n",
       "                                                  ['ast_pct', 'body_fat_pct',\n",
       "                                                   'efg_pct',\n",
       "                                                   'fg3a_per_fga_pct',\n",
       "                                                   'fta_per_fga_pct', 'g', 'gs',\n",
       "                                                   'hand_length', 'hand_width',\n",
       "                                                   'height_w_shoes',\n",
       "                                                   'height_wo_shoes', 'mp',\n",
       "                                                   'nb_year_uni', 'obpm',\n",
       "                                                   '...er',\n",
       "                                                   'standing_reach', 'tov_pct',\n",
       "                                                   'ts_pct', 'usg_pct',\n",
       "                                                   'weight', 'wingspan']),\n",
       "                                                 ('pipeline-2',\n",
       "                                                  Pipeline(steps=[('simpleimputer',\n",
       "                                                                   SimpleImputer(strategy='most_frequent')),\n",
       "                                                                  ('onehotencoder',\n",
       "                                                                   OneHotEncoder(handle_unknown='ignore'))]),\n",
       "                                                  ['position'])])),\n",
       "                ('selectpercentile',\n",
       "                 SelectPercentile(percentile=50,\n",
       "                                  score_func=<function mutual_info_regression at 0x7f2cd588d940>))])</pre></div></div></div><div class=\"sk-serial\"><div class=\"sk-item sk-dashed-wrapped\"><div class=\"sk-label-container\"><div class=\"sk-label sk-toggleable\"><input class=\"sk-toggleable__control sk-hidden--visually\" id=\"975297f7-1e75-48e0-bbab-97e30151d3fd\" type=\"checkbox\" ><label class=\"sk-toggleable__label\" for=\"975297f7-1e75-48e0-bbab-97e30151d3fd\">columntransformer: ColumnTransformer</label><div class=\"sk-toggleable__content\"><pre>ColumnTransformer(transformers=[('pipeline-1',\n",
       "                                 Pipeline(steps=[('knnimputer',\n",
       "                                                  KNNImputer(missing_values=0.0)),\n",
       "                                                 ('minmaxscaler',\n",
       "                                                  MinMaxScaler())]),\n",
       "                                 ['ast_pct', 'body_fat_pct', 'efg_pct',\n",
       "                                  'fg3a_per_fga_pct', 'fta_per_fga_pct', 'g',\n",
       "                                  'gs', 'hand_length', 'hand_width',\n",
       "                                  'height_w_shoes', 'height_wo_shoes', 'mp',\n",
       "                                  'nb_year_uni', 'obpm', 'orb_pct', 'ows',\n",
       "                                  'per', 'standing_reach', 'tov_pct', 'ts_pct',\n",
       "                                  'usg_pct', 'weight', 'wingspan']),\n",
       "                                ('pipeline-2',\n",
       "                                 Pipeline(steps=[('simpleimputer',\n",
       "                                                  SimpleImputer(strategy='most_frequent')),\n",
       "                                                 ('onehotencoder',\n",
       "                                                  OneHotEncoder(handle_unknown='ignore'))]),\n",
       "                                 ['position'])])</pre></div></div></div><div class=\"sk-parallel\"><div class=\"sk-parallel-item\"><div class=\"sk-item\"><div class=\"sk-label-container\"><div class=\"sk-label sk-toggleable\"><input class=\"sk-toggleable__control sk-hidden--visually\" id=\"e7fda429-3936-431f-8a17-2a7726f6cff3\" type=\"checkbox\" ><label class=\"sk-toggleable__label\" for=\"e7fda429-3936-431f-8a17-2a7726f6cff3\">pipeline-1</label><div class=\"sk-toggleable__content\"><pre>['ast_pct', 'body_fat_pct', 'efg_pct', 'fg3a_per_fga_pct', 'fta_per_fga_pct', 'g', 'gs', 'hand_length', 'hand_width', 'height_w_shoes', 'height_wo_shoes', 'mp', 'nb_year_uni', 'obpm', 'orb_pct', 'ows', 'per', 'standing_reach', 'tov_pct', 'ts_pct', 'usg_pct', 'weight', 'wingspan']</pre></div></div></div><div class=\"sk-serial\"><div class=\"sk-item\"><div class=\"sk-serial\"><div class=\"sk-item\"><div class=\"sk-estimator sk-toggleable\"><input class=\"sk-toggleable__control sk-hidden--visually\" id=\"12c46a0a-1e47-4fbc-9798-7d993fc99f84\" type=\"checkbox\" ><label class=\"sk-toggleable__label\" for=\"12c46a0a-1e47-4fbc-9798-7d993fc99f84\">KNNImputer</label><div class=\"sk-toggleable__content\"><pre>KNNImputer(missing_values=0.0)</pre></div></div></div><div class=\"sk-item\"><div class=\"sk-estimator sk-toggleable\"><input class=\"sk-toggleable__control sk-hidden--visually\" id=\"7b936c36-3618-460b-9292-0c61b30feee3\" type=\"checkbox\" ><label class=\"sk-toggleable__label\" for=\"7b936c36-3618-460b-9292-0c61b30feee3\">MinMaxScaler</label><div class=\"sk-toggleable__content\"><pre>MinMaxScaler()</pre></div></div></div></div></div></div></div></div><div class=\"sk-parallel-item\"><div class=\"sk-item\"><div class=\"sk-label-container\"><div class=\"sk-label sk-toggleable\"><input class=\"sk-toggleable__control sk-hidden--visually\" id=\"aeac9412-74b6-4025-9ee2-6e9e3eab2509\" type=\"checkbox\" ><label class=\"sk-toggleable__label\" for=\"aeac9412-74b6-4025-9ee2-6e9e3eab2509\">pipeline-2</label><div class=\"sk-toggleable__content\"><pre>['position']</pre></div></div></div><div class=\"sk-serial\"><div class=\"sk-item\"><div class=\"sk-serial\"><div class=\"sk-item\"><div class=\"sk-estimator sk-toggleable\"><input class=\"sk-toggleable__control sk-hidden--visually\" id=\"3c147212-01ea-49a8-9b92-7fc159d9372f\" type=\"checkbox\" ><label class=\"sk-toggleable__label\" for=\"3c147212-01ea-49a8-9b92-7fc159d9372f\">SimpleImputer</label><div class=\"sk-toggleable__content\"><pre>SimpleImputer(strategy='most_frequent')</pre></div></div></div><div class=\"sk-item\"><div class=\"sk-estimator sk-toggleable\"><input class=\"sk-toggleable__control sk-hidden--visually\" id=\"2bb1283b-a59f-494a-a3ca-73c7e4b9573c\" type=\"checkbox\" ><label class=\"sk-toggleable__label\" for=\"2bb1283b-a59f-494a-a3ca-73c7e4b9573c\">OneHotEncoder</label><div class=\"sk-toggleable__content\"><pre>OneHotEncoder(handle_unknown='ignore')</pre></div></div></div></div></div></div></div></div></div></div><div class=\"sk-item\"><div class=\"sk-estimator sk-toggleable\"><input class=\"sk-toggleable__control sk-hidden--visually\" id=\"e0578e70-1781-41fc-bc80-582785ce8f43\" type=\"checkbox\" ><label class=\"sk-toggleable__label\" for=\"e0578e70-1781-41fc-bc80-582785ce8f43\">SelectPercentile</label><div class=\"sk-toggleable__content\"><pre>SelectPercentile(percentile=50,\n",
       "                 score_func=<function mutual_info_regression at 0x7f2cd588d940>)</pre></div></div></div></div></div></div></div>"
      ],
      "text/plain": [
       "Pipeline(steps=[('columntransformer',\n",
       "                 ColumnTransformer(transformers=[('pipeline-1',\n",
       "                                                  Pipeline(steps=[('knnimputer',\n",
       "                                                                   KNNImputer(missing_values=0.0)),\n",
       "                                                                  ('minmaxscaler',\n",
       "                                                                   MinMaxScaler())]),\n",
       "                                                  ['ast_pct', 'body_fat_pct',\n",
       "                                                   'efg_pct',\n",
       "                                                   'fg3a_per_fga_pct',\n",
       "                                                   'fta_per_fga_pct', 'g', 'gs',\n",
       "                                                   'hand_length', 'hand_width',\n",
       "                                                   'height_w_shoes',\n",
       "                                                   'height_wo_shoes', 'mp',\n",
       "                                                   'nb_year_uni', 'obpm',\n",
       "                                                   '...er',\n",
       "                                                   'standing_reach', 'tov_pct',\n",
       "                                                   'ts_pct', 'usg_pct',\n",
       "                                                   'weight', 'wingspan']),\n",
       "                                                 ('pipeline-2',\n",
       "                                                  Pipeline(steps=[('simpleimputer',\n",
       "                                                                   SimpleImputer(strategy='most_frequent')),\n",
       "                                                                  ('onehotencoder',\n",
       "                                                                   OneHotEncoder(handle_unknown='ignore'))]),\n",
       "                                                  ['position'])])),\n",
       "                ('selectpercentile',\n",
       "                 SelectPercentile(percentile=50,\n",
       "                                  score_func=<function mutual_info_regression at 0x7f2cd588d940>))])"
      ]
     },
     "execution_count": 51,
     "metadata": {},
     "output_type": "execute_result"
    }
   ],
   "source": [
    "preproc_with_selectPercentile = make_pipeline(\n",
    "    preproc_transformer,\n",
    "    preproc_selector_sP\n",
    ")\n",
    "\n",
    "preproc_with_selectPercentile"
   ]
  },
  {
   "cell_type": "code",
   "execution_count": 52,
   "id": "2d4c21ac",
   "metadata": {},
   "outputs": [
    {
     "data": {
      "text/plain": [
       "0.025863389225726285"
      ]
     },
     "execution_count": 52,
     "metadata": {},
     "output_type": "execute_result"
    }
   ],
   "source": [
    "pipe = make_pipeline(preproc_with_selectPercentile, Ridge())\n",
    "score = cross_val_score(pipe, X_off, y_off_log, cv=5, scoring=mse).mean()\n",
    "score"
   ]
  },
  {
   "cell_type": "code",
   "execution_count": 53,
   "id": "a58d8e48",
   "metadata": {},
   "outputs": [],
   "source": [
    "X_off_preproc = pd.DataFrame(preproc_transformer.fit_transform(X_off))"
   ]
  },
  {
   "cell_type": "code",
   "execution_count": 54,
   "id": "eb2be0f3",
   "metadata": {},
   "outputs": [
    {
     "data": {
      "text/plain": [
       "(245, 28)"
      ]
     },
     "execution_count": 54,
     "metadata": {},
     "output_type": "execute_result"
    }
   ],
   "source": [
    "X_off_preproc.shape"
   ]
  },
  {
   "cell_type": "code",
   "execution_count": 55,
   "id": "9b0bd0d2",
   "metadata": {},
   "outputs": [
    {
     "data": {
      "image/png": "[encoded data removed]",
      "text/plain": [
       "<Figure size 432x288 with 2 Axes>"
      ]
     },
     "metadata": {
      "needs_background": "light"
     },
     "output_type": "display_data"
    }
   ],
   "source": [
    "corr_num = X_off_preproc.corr()\n",
    "sns.heatmap(corr_num, cmap='coolwarm', yticklabels=1, xticklabels=1);"
   ]
  },
  {
   "cell_type": "code",
   "execution_count": 56,
   "id": "f104f3bf",
   "metadata": {},
   "outputs": [
    {
     "name": "stderr",
     "output_type": "stream",
     "text": [
      "/tmp/ipykernel_391/1453787466.py:32: UserWarning: Transformer knnimputer (type KNNImputer) does not provide get_feature_names. Will return input column names if available\n",
      "  warnings.warn(\"Transformer %s (type %s) does not \"\n",
      "/tmp/ipykernel_391/1453787466.py:32: UserWarning: Transformer minmaxscaler (type MinMaxScaler) does not provide get_feature_names. Will return input column names if available\n",
      "  warnings.warn(\"Transformer %s (type %s) does not \"\n",
      "/tmp/ipykernel_391/1453787466.py:32: UserWarning: Transformer simpleimputer (type SimpleImputer) does not provide get_feature_names. Will return input column names if available\n",
      "  warnings.warn(\"Transformer %s (type %s) does not \"\n"
     ]
    }
   ],
   "source": [
    "X_off_preproc_2 = pd.DataFrame(preproc_with_selectPercentile.fit_transform(X_off, y_off), columns=np.array(get_feature_names(preproc_transformer))[preproc_selector_sP.get_support(indices=False).tolist()])"
   ]
  },
  {
   "cell_type": "code",
   "execution_count": 57,
   "id": "0925d734",
   "metadata": {},
   "outputs": [
    {
     "data": {
      "text/plain": [
       "(245, 14)"
      ]
     },
     "execution_count": 57,
     "metadata": {},
     "output_type": "execute_result"
    }
   ],
   "source": [
    "X_off_preproc_2.shape"
   ]
  },
  {
   "cell_type": "code",
   "execution_count": 58,
   "id": "107e51c2",
   "metadata": {},
   "outputs": [
    {
     "data": {
      "image/png": "[encoded data removed]",
      "text/plain": [
       "<Figure size 432x288 with 2 Axes>"
      ]
     },
     "metadata": {
      "needs_background": "light"
     },
     "output_type": "display_data"
    }
   ],
   "source": [
    "corr_num = X_off_preproc_2.corr()\n",
    "sns.heatmap(corr_num, cmap='coolwarm');"
   ]
  },
  {
   "cell_type": "markdown",
   "id": "80917200",
   "metadata": {},
   "source": [
    "## Selector : VarianceThreshold"
   ]
  },
  {
   "cell_type": "code",
   "execution_count": 59,
   "id": "934c9b1e",
   "metadata": {},
   "outputs": [
    {
     "data": {
      "text/plain": [
       "Text(0.5, 1.0, 'Number of Feature Remaining')"
      ]
     },
     "execution_count": 59,
     "metadata": {},
     "output_type": "execute_result"
    },
    {
     "data": {
      "image/png": "[encoded data removed]",
      "text/plain": [
       "<Figure size 432x288 with 1 Axes>"
      ]
     },
     "metadata": {
      "needs_background": "light"
     },
     "output_type": "display_data"
    }
   ],
   "source": [
    "from sklearn.feature_selection import VarianceThreshold\n",
    "\n",
    "def number_feature_remaining(cutoff=0):\n",
    "\n",
    "    preproc_selector_vT = VarianceThreshold(cutoff)\n",
    "\n",
    "    preproc_with_varianceThreshold = make_pipeline(\n",
    "        preproc_transformer,\n",
    "        preproc_selector_vT)\n",
    "\n",
    "    return preproc_with_varianceThreshold.fit_transform(X_off).shape[1]\n",
    "\n",
    "cutoff_values = np.arange(0, 0.2, 0.01)\n",
    "plt.plot(cutoff_values, [number_feature_remaining(t) for t in cutoff_values], marker='x')\n",
    "plt.xlabel(\"feature variance cutoff\")\n",
    "plt.title(\"Number of Feature Remaining\")"
   ]
  },
  {
   "cell_type": "markdown",
   "id": "0d9e3363",
   "metadata": {},
   "source": [
    "☝️ We could decide to put a 0.035 threshold on the categorical features to divide their number by more than half"
   ]
  },
  {
   "cell_type": "code",
   "execution_count": 60,
   "id": "57e3acaa",
   "metadata": {},
   "outputs": [],
   "source": [
    "preproc_selector_vT_conf = VarianceThreshold(0.035)"
   ]
  },
  {
   "cell_type": "code",
   "execution_count": 61,
   "id": "24e26f2a",
   "metadata": {},
   "outputs": [],
   "source": [
    "preproc_with_varianceThreshold = make_pipeline(\n",
    "    preproc_transformer,\n",
    "    preproc_selector_vT_conf\n",
    ")"
   ]
  },
  {
   "cell_type": "code",
   "execution_count": 62,
   "id": "32c4a139",
   "metadata": {},
   "outputs": [
    {
     "data": {
      "text/plain": [
       "0.019860488294318034"
      ]
     },
     "execution_count": 62,
     "metadata": {},
     "output_type": "execute_result"
    }
   ],
   "source": [
    "pipe = make_pipeline(preproc_with_varianceThreshold, Ridge())\n",
    "score = cross_val_score(pipe, X_off, y_off, cv=5, scoring=mse).mean()\n",
    "score"
   ]
  },
  {
   "cell_type": "markdown",
   "id": "7418a27d",
   "metadata": {},
   "source": [
    "# Model Itération"
   ]
  },
  {
   "cell_type": "code",
   "execution_count": 63,
   "id": "6fcf727a",
   "metadata": {},
   "outputs": [],
   "source": [
    "# SOLUTION\n",
    "allow_grid_searching = False # use True to activate girdsearch in the notebook cells below\n",
    "\n",
    "# Cache the preprocessing step of the pipeline\n",
    "from tempfile import mkdtemp\n",
    "from shutil import rmtree\n",
    "cachedir = mkdtemp()"
   ]
  },
  {
   "cell_type": "markdown",
   "id": "eac8551c",
   "metadata": {},
   "source": [
    "## Linear Models (Lasso, Ridge, ElasticNet, SGDRegressor...)"
   ]
  },
  {
   "cell_type": "markdown",
   "id": "2c998387",
   "metadata": {},
   "source": [
    "### Linear Regression"
   ]
  },
  {
   "cell_type": "code",
   "execution_count": 64,
   "id": "9f2b38b4",
   "metadata": {},
   "outputs": [
    {
     "data": {
      "text/plain": [
       "0.021115326282419262"
      ]
     },
     "execution_count": 64,
     "metadata": {},
     "output_type": "execute_result"
    }
   ],
   "source": [
    "pipe = make_pipeline(preproc, LinearRegression())\n",
    "score = cross_val_score(pipe, X_off, y_off, cv=5, scoring=mse).mean()\n",
    "score"
   ]
  },
  {
   "cell_type": "code",
   "execution_count": 65,
   "id": "de39da16",
   "metadata": {},
   "outputs": [
    {
     "data": {
      "text/plain": [
       "0.021314423577701476"
      ]
     },
     "execution_count": 65,
     "metadata": {},
     "output_type": "execute_result"
    }
   ],
   "source": [
    "pipe = make_pipeline(preproc_with_selectPercentile, LinearRegression())\n",
    "score = cross_val_score(pipe, X_off, y_off, cv=5, scoring=mse).mean()\n",
    "score"
   ]
  },
  {
   "cell_type": "code",
   "execution_count": 66,
   "id": "76745d8a",
   "metadata": {},
   "outputs": [
    {
     "data": {
      "text/plain": [
       "0.020818909940112602"
      ]
     },
     "execution_count": 66,
     "metadata": {},
     "output_type": "execute_result"
    }
   ],
   "source": [
    "pipe = make_pipeline(preproc_with_varianceThreshold, LinearRegression())\n",
    "score = cross_val_score(pipe, X_off, y_off, cv=5, scoring=mse).mean()\n",
    "score"
   ]
  },
  {
   "cell_type": "markdown",
   "id": "8ae5316f",
   "metadata": {},
   "source": [
    "### Ridge"
   ]
  },
  {
   "cell_type": "code",
   "execution_count": 67,
   "id": "0a9ab086",
   "metadata": {},
   "outputs": [
    {
     "data": {
      "text/plain": [
       "0.01958043409686261"
      ]
     },
     "execution_count": 67,
     "metadata": {},
     "output_type": "execute_result"
    }
   ],
   "source": [
    "pipe = make_pipeline(preproc, Ridge())\n",
    "score = cross_val_score(pipe, X_off, y_off, cv=5, scoring=mse).mean()\n",
    "score"
   ]
  },
  {
   "cell_type": "code",
   "execution_count": 68,
   "id": "48d8c005",
   "metadata": {},
   "outputs": [
    {
     "data": {
      "text/plain": [
       "0.0208278492617427"
      ]
     },
     "execution_count": 68,
     "metadata": {},
     "output_type": "execute_result"
    }
   ],
   "source": [
    "pipe = make_pipeline(preproc_with_selectPercentile, Ridge())\n",
    "score = cross_val_score(pipe, X_off, y_off, cv=5, scoring=mse).mean()\n",
    "score"
   ]
  },
  {
   "cell_type": "code",
   "execution_count": 69,
   "id": "5471ad3e",
   "metadata": {},
   "outputs": [
    {
     "data": {
      "text/plain": [
       "0.019860488294318034"
      ]
     },
     "execution_count": 69,
     "metadata": {},
     "output_type": "execute_result"
    }
   ],
   "source": [
    "pipe = make_pipeline(preproc_with_varianceThreshold, Ridge())\n",
    "score = cross_val_score(pipe, X_off, y_off, cv=5, scoring=mse).mean()\n",
    "score"
   ]
  },
  {
   "cell_type": "markdown",
   "id": "39c85452",
   "metadata": {},
   "source": [
    "### Lasso"
   ]
  },
  {
   "cell_type": "code",
   "execution_count": 70,
   "id": "7cd946bc",
   "metadata": {},
   "outputs": [
    {
     "data": {
      "text/plain": [
       "0.03554122240733028"
      ]
     },
     "execution_count": 70,
     "metadata": {},
     "output_type": "execute_result"
    }
   ],
   "source": [
    "pipe = make_pipeline(preproc, Lasso())\n",
    "score = cross_val_score(pipe, X_off, y_off, cv=5, scoring=mse).mean()\n",
    "score"
   ]
  },
  {
   "cell_type": "code",
   "execution_count": 71,
   "id": "0fb53f7e",
   "metadata": {},
   "outputs": [
    {
     "data": {
      "text/plain": [
       "0.03554122240733028"
      ]
     },
     "execution_count": 71,
     "metadata": {},
     "output_type": "execute_result"
    }
   ],
   "source": [
    "pipe = make_pipeline(preproc_with_varianceThreshold, Lasso())\n",
    "score = cross_val_score(pipe, X_off, y_off, cv=5, scoring=mse).mean()\n",
    "score"
   ]
  },
  {
   "cell_type": "markdown",
   "id": "2a31821a",
   "metadata": {},
   "source": [
    "## KNN"
   ]
  },
  {
   "cell_type": "code",
   "execution_count": 72,
   "id": "1c5f9283",
   "metadata": {},
   "outputs": [],
   "source": [
    "model = KNeighborsRegressor()\n",
    "pipe_knn = make_pipeline(preproc_with_varianceThreshold, model)"
   ]
  },
  {
   "cell_type": "code",
   "execution_count": 73,
   "id": "ca5c8e7e",
   "metadata": {},
   "outputs": [
    {
     "data": {
      "text/plain": [
       "0.02545226122448979"
      ]
     },
     "execution_count": 73,
     "metadata": {},
     "output_type": "execute_result"
    }
   ],
   "source": [
    "scores = cross_val_score(pipe_knn, X_off, y_off, cv=5, scoring=mse)\n",
    "scores.mean()"
   ]
  },
  {
   "cell_type": "code",
   "execution_count": 74,
   "id": "3168806b",
   "metadata": {},
   "outputs": [
    {
     "name": "stdout",
     "output_type": "stream",
     "text": [
      "Fitting 10 folds for each of 11 candidates, totalling 110 fits\n",
      "{'kneighborsregressor__n_neighbors': 30}\n"
     ]
    },
    {
     "data": {
      "text/plain": [
       "0.02807638216666667"
      ]
     },
     "execution_count": 74,
     "metadata": {},
     "output_type": "execute_result"
    }
   ],
   "source": [
    "param_grid =  {'kneighborsregressor__n_neighbors': [3,4,5,6,7,8,9,10,15,20,30]}\n",
    "search_knn = GridSearchCV(pipe_knn, param_grid=param_grid, \n",
    "                          cv=10, n_jobs=-1, verbose=2, scoring=mse)\n",
    "\n",
    "search_knn.fit(X_off, y_off);\n",
    "print(search_knn.best_params_)\n",
    "search_knn.best_score_"
   ]
  },
  {
   "cell_type": "markdown",
   "id": "1b1b4c9b",
   "metadata": {},
   "source": [
    "## SVM"
   ]
  },
  {
   "cell_type": "code",
   "execution_count": 75,
   "id": "6bdaa1d0",
   "metadata": {},
   "outputs": [
    {
     "data": {
      "text/plain": [
       "0.021017334813605716"
      ]
     },
     "execution_count": 75,
     "metadata": {},
     "output_type": "execute_result"
    }
   ],
   "source": [
    "model = SVR(kernel='linear')\n",
    "pipe_svm = make_pipeline(preproc, model, memory=cachedir)\n",
    "cross_val_score(pipe_svm, X_off, y_off, cv=5, scoring=mse).mean()"
   ]
  },
  {
   "cell_type": "code",
   "execution_count": 76,
   "id": "ef450a5f",
   "metadata": {},
   "outputs": [
    {
     "data": {
      "text/plain": [
       "0.025485268222262887"
      ]
     },
     "execution_count": 76,
     "metadata": {},
     "output_type": "execute_result"
    }
   ],
   "source": [
    "model = SVR(kernel='rbf', C = 10)\n",
    "pipe_svm_rbf = make_pipeline(preproc, model, memory=cachedir)\n",
    "cross_val_score(pipe_svm_rbf, X_off, y_off, cv=5, scoring=mse).mean()"
   ]
  },
  {
   "cell_type": "code",
   "execution_count": 77,
   "id": "916ced80",
   "metadata": {},
   "outputs": [
    {
     "name": "stdout",
     "output_type": "stream",
     "text": [
      "Fitting 5 folds for each of 30 candidates, totalling 150 fits\n",
      "{'svr__C': 0.5, 'svr__epsilon': 0.5}\n"
     ]
    },
    {
     "data": {
      "text/plain": [
       "0.03413365756109844"
      ]
     },
     "execution_count": 77,
     "metadata": {},
     "output_type": "execute_result"
    }
   ],
   "source": [
    "param_grid =  {'svr__C': [0.5, 0.7, 1, 2, 5, 10],\n",
    "                  'svr__epsilon': [0.01, 0.05, 0.1, 0.2, 0.5],\n",
    "                   #'svr__coef0': [0.0, 0.1, 0.5,1],\n",
    "                  }\n",
    "search_svm_rbf = GridSearchCV(pipe_svm, param_grid=param_grid, \n",
    "                          cv=5, n_jobs=-1, verbose=2, scoring=mse)\n",
    "\n",
    "search_svm_rbf.fit(X_off, y_off);\n",
    "svm_rbf_best = search_svm_rbf.best_estimator_\n",
    "print(search_svm_rbf.best_params_)\n",
    "search_svm_rbf.best_score_"
   ]
  },
  {
   "cell_type": "markdown",
   "id": "a546e40e",
   "metadata": {},
   "source": [
    "## Trees"
   ]
  },
  {
   "cell_type": "code",
   "execution_count": 78,
   "id": "60d59bed",
   "metadata": {},
   "outputs": [
    {
     "data": {
      "text/plain": [
       "0.02392849748250015"
      ]
     },
     "execution_count": 78,
     "metadata": {},
     "output_type": "execute_result"
    }
   ],
   "source": [
    "from sklearn.tree import DecisionTreeRegressor\n",
    "\n",
    "model = DecisionTreeRegressor(max_depth=50, min_samples_leaf=20)\n",
    "pipe = make_pipeline(preproc_with_varianceThreshold, model, memory=cachedir)\n",
    "score = cross_val_score(pipe, X_off, y_off, cv=5, scoring=mse)\n",
    "score.mean()"
   ]
  },
  {
   "cell_type": "markdown",
   "id": "0fd04785",
   "metadata": {},
   "source": [
    "## Random Forest"
   ]
  },
  {
   "cell_type": "code",
   "execution_count": 79,
   "id": "99375a03",
   "metadata": {},
   "outputs": [
    {
     "data": {
      "text/plain": [
       "0.021252565440526193"
      ]
     },
     "execution_count": 79,
     "metadata": {},
     "output_type": "execute_result"
    }
   ],
   "source": [
    "model = RandomForestRegressor(max_depth=50,min_samples_leaf=20)\n",
    "pipe = make_pipeline(preproc_with_varianceThreshold, model, memory=cachedir)\n",
    "score = cross_val_score(pipe, X_off, y_off, cv=5, scoring=mse)\n",
    "score.mean()"
   ]
  },
  {
   "cell_type": "markdown",
   "id": "259adacf",
   "metadata": {},
   "source": [
    "## Boosted Trees"
   ]
  },
  {
   "cell_type": "code",
   "execution_count": 80,
   "id": "7e77d146",
   "metadata": {},
   "outputs": [
    {
     "data": {
      "text/plain": [
       "0.023405714285714283"
      ]
     },
     "execution_count": 80,
     "metadata": {},
     "output_type": "execute_result"
    }
   ],
   "source": [
    "model = AdaBoostRegressor(\n",
    "    base_estimator=DecisionTreeRegressor(max_depth=None))\n",
    "\n",
    "pipe = make_pipeline(preproc, model, memory=cachedir)\n",
    "score = cross_val_score(pipe, X_off, y_off, cv=5, scoring=mse)\n",
    "#print(score.std())\n",
    "score.mean()"
   ]
  },
  {
   "cell_type": "code",
   "execution_count": 81,
   "id": "2e2cf238",
   "metadata": {},
   "outputs": [
    {
     "data": {
      "text/plain": [
       "0.025351450235725465"
      ]
     },
     "execution_count": 81,
     "metadata": {},
     "output_type": "execute_result"
    }
   ],
   "source": [
    "model = GradientBoostingRegressor(n_estimators=100, verbose=0)\n",
    "pipe_gb = make_pipeline(preproc, model, memory=cachedir)\n",
    "score = cross_val_score(pipe_gb, X_off, y_off, cv=5, scoring=mse)\n",
    "#print(score.std())\n",
    "score.mean()"
   ]
  },
  {
   "cell_type": "markdown",
   "id": "54d252ee",
   "metadata": {},
   "source": [
    "## Stacking"
   ]
  },
  {
   "cell_type": "code",
   "execution_count": 82,
   "id": "72d3af6b",
   "metadata": {},
   "outputs": [
    {
     "data": {
      "text/plain": [
       "0.018928152705639644"
      ]
     },
     "execution_count": 82,
     "metadata": {},
     "output_type": "execute_result"
    }
   ],
   "source": [
    "gboost = GradientBoostingRegressor(n_estimators=100)\n",
    "ridge = Ridge()\n",
    "svm = SVR(C=1, epsilon=0.05)\n",
    "adaboost = AdaBoostRegressor(base_estimator=DecisionTreeRegressor(max_depth=None, max_features='log2'), loss='square', n_estimators=200)\n",
    "\n",
    "\n",
    "model = VotingRegressor(\n",
    "    estimators = [(\"gboost\", gboost),(\"adaboost\", adaboost),(\"ridge\", ridge), (\"svm_rbf\", svm)],\n",
    "    weights = [0,5,10,0], # to equally weight the two models\n",
    "    n_jobs=-1\n",
    ")\n",
    "\n",
    "pipe_ensemble = make_pipeline(preproc_with_varianceThreshold, model, memory=cachedir)\n",
    "\n",
    "score = cross_val_score(pipe_ensemble, X_off, y_off, cv=50, scoring=mse, n_jobs=-1)\n",
    "#print(score.std())\n",
    "score.mean()"
   ]
  },
  {
   "cell_type": "markdown",
   "id": "1ed365d6",
   "metadata": {},
   "source": [
    "### XGBOOST"
   ]
  },
  {
   "cell_type": "code",
   "execution_count": 83,
   "id": "0d44c51e",
   "metadata": {},
   "outputs": [],
   "source": [
    "from xgboost import XGBRegressor"
   ]
  },
  {
   "cell_type": "code",
   "execution_count": 84,
   "id": "b1ff2d8a",
   "metadata": {},
   "outputs": [],
   "source": [
    "# Create eval test just for early stopping purpose (XGBOOST and Deep Learning)\n",
    "X_train, X_eval, y_train, y_eval = train_test_split(X_off,y_off,random_state=42)"
   ]
  },
  {
   "cell_type": "code",
   "execution_count": 85,
   "id": "f209ac2e",
   "metadata": {},
   "outputs": [],
   "source": [
    "# Instanciate model\n",
    "model_xgb = XGBRegressor(max_depth=10, n_estimators=300, learning_rate=0.05)"
   ]
  },
  {
   "cell_type": "code",
   "execution_count": 86,
   "id": "6039b433",
   "metadata": {},
   "outputs": [
    {
     "data": {
      "text/plain": [
       "0.02725146069653475"
      ]
     },
     "execution_count": 86,
     "metadata": {},
     "output_type": "execute_result"
    }
   ],
   "source": [
    "# Option 1: Integrate XGB into Sklearn's pipeline\n",
    "# It allows to GridSearchCV its best hyperparams\n",
    "pipe_xgb = make_pipeline(preproc_with_varianceThreshold, model_xgb)\n",
    "cross_val_score(pipe_xgb,X_off,y_off,cv=5,scoring=mse,n_jobs=-1).mean()"
   ]
  },
  {
   "cell_type": "code",
   "execution_count": 87,
   "id": "46921cc3",
   "metadata": {},
   "outputs": [
    {
     "ename": "TypeError",
     "evalue": "__call__() missing 1 required positional argument: 'y_true'",
     "output_type": "error",
     "traceback": [
      "\u001b[0;31m---------------------------------------------------------------------------\u001b[0m",
      "\u001b[0;31mTypeError\u001b[0m                                 Traceback (most recent call last)",
      "\u001b[0;32m/tmp/ipykernel_391/1375417708.py\u001b[0m in \u001b[0;36m<module>\u001b[0;34m\u001b[0m\n\u001b[1;32m      4\u001b[0m \u001b[0mX_eval_preproc\u001b[0m \u001b[0;34m=\u001b[0m \u001b[0mpreproc\u001b[0m\u001b[0;34m.\u001b[0m\u001b[0mtransform\u001b[0m\u001b[0;34m(\u001b[0m\u001b[0mX_eval\u001b[0m\u001b[0;34m)\u001b[0m\u001b[0;34m\u001b[0m\u001b[0;34m\u001b[0m\u001b[0m\n\u001b[1;32m      5\u001b[0m \u001b[0;34m\u001b[0m\u001b[0m\n\u001b[0;32m----> 6\u001b[0;31m model_xgb.fit(X_train_preproc, y_train, verbose=False,\n\u001b[0m\u001b[1;32m      7\u001b[0m         \u001b[0meval_set\u001b[0m\u001b[0;34m=\u001b[0m\u001b[0;34m[\u001b[0m\u001b[0;34m(\u001b[0m\u001b[0mX_train_preproc\u001b[0m\u001b[0;34m,\u001b[0m \u001b[0my_train\u001b[0m\u001b[0;34m)\u001b[0m\u001b[0;34m,\u001b[0m \u001b[0;34m(\u001b[0m\u001b[0mX_eval_preproc\u001b[0m\u001b[0;34m,\u001b[0m \u001b[0my_eval\u001b[0m\u001b[0;34m)\u001b[0m\u001b[0;34m]\u001b[0m\u001b[0;34m,\u001b[0m\u001b[0;34m\u001b[0m\u001b[0;34m\u001b[0m\u001b[0m\n\u001b[1;32m      8\u001b[0m         \u001b[0meval_metric\u001b[0m\u001b[0;34m=\u001b[0m\u001b[0mmse\u001b[0m\u001b[0;34m,\u001b[0m\u001b[0;34m\u001b[0m\u001b[0;34m\u001b[0m\u001b[0m\n",
      "\u001b[0;32m~/.pyenv/versions/3.8.6/envs/nba_forecast/lib/python3.8/site-packages/xgboost/core.py\u001b[0m in \u001b[0;36minner_f\u001b[0;34m(*args, **kwargs)\u001b[0m\n\u001b[1;32m    434\u001b[0m         \u001b[0;32mfor\u001b[0m \u001b[0mk\u001b[0m\u001b[0;34m,\u001b[0m \u001b[0marg\u001b[0m \u001b[0;32min\u001b[0m \u001b[0mzip\u001b[0m\u001b[0;34m(\u001b[0m\u001b[0msig\u001b[0m\u001b[0;34m.\u001b[0m\u001b[0mparameters\u001b[0m\u001b[0;34m,\u001b[0m \u001b[0margs\u001b[0m\u001b[0;34m)\u001b[0m\u001b[0;34m:\u001b[0m\u001b[0;34m\u001b[0m\u001b[0;34m\u001b[0m\u001b[0m\n\u001b[1;32m    435\u001b[0m             \u001b[0mkwargs\u001b[0m\u001b[0;34m[\u001b[0m\u001b[0mk\u001b[0m\u001b[0;34m]\u001b[0m \u001b[0;34m=\u001b[0m \u001b[0marg\u001b[0m\u001b[0;34m\u001b[0m\u001b[0;34m\u001b[0m\u001b[0m\n\u001b[0;32m--> 436\u001b[0;31m         \u001b[0;32mreturn\u001b[0m \u001b[0mf\u001b[0m\u001b[0;34m(\u001b[0m\u001b[0;34m**\u001b[0m\u001b[0mkwargs\u001b[0m\u001b[0;34m)\u001b[0m\u001b[0;34m\u001b[0m\u001b[0;34m\u001b[0m\u001b[0m\n\u001b[0m\u001b[1;32m    437\u001b[0m \u001b[0;34m\u001b[0m\u001b[0m\n\u001b[1;32m    438\u001b[0m     \u001b[0;32mreturn\u001b[0m \u001b[0minner_f\u001b[0m\u001b[0;34m\u001b[0m\u001b[0;34m\u001b[0m\u001b[0m\n",
      "\u001b[0;32m~/.pyenv/versions/3.8.6/envs/nba_forecast/lib/python3.8/site-packages/xgboost/sklearn.py\u001b[0m in \u001b[0;36mfit\u001b[0;34m(self, X, y, sample_weight, base_margin, eval_set, eval_metric, early_stopping_rounds, verbose, xgb_model, sample_weight_eval_set, base_margin_eval_set, feature_weights, callbacks)\u001b[0m\n\u001b[1;32m    734\u001b[0m \u001b[0;34m\u001b[0m\u001b[0m\n\u001b[1;32m    735\u001b[0m         \u001b[0mmodel\u001b[0m\u001b[0;34m,\u001b[0m \u001b[0mfeval\u001b[0m\u001b[0;34m,\u001b[0m \u001b[0mparams\u001b[0m \u001b[0;34m=\u001b[0m \u001b[0mself\u001b[0m\u001b[0;34m.\u001b[0m\u001b[0m_configure_fit\u001b[0m\u001b[0;34m(\u001b[0m\u001b[0mxgb_model\u001b[0m\u001b[0;34m,\u001b[0m \u001b[0meval_metric\u001b[0m\u001b[0;34m,\u001b[0m \u001b[0mparams\u001b[0m\u001b[0;34m)\u001b[0m\u001b[0;34m\u001b[0m\u001b[0;34m\u001b[0m\u001b[0m\n\u001b[0;32m--> 736\u001b[0;31m         self._Booster = train(\n\u001b[0m\u001b[1;32m    737\u001b[0m             \u001b[0mparams\u001b[0m\u001b[0;34m,\u001b[0m\u001b[0;34m\u001b[0m\u001b[0;34m\u001b[0m\u001b[0m\n\u001b[1;32m    738\u001b[0m             \u001b[0mtrain_dmatrix\u001b[0m\u001b[0;34m,\u001b[0m\u001b[0;34m\u001b[0m\u001b[0;34m\u001b[0m\u001b[0m\n",
      "\u001b[0;32m~/.pyenv/versions/3.8.6/envs/nba_forecast/lib/python3.8/site-packages/xgboost/training.py\u001b[0m in \u001b[0;36mtrain\u001b[0;34m(params, dtrain, num_boost_round, evals, obj, feval, maximize, early_stopping_rounds, evals_result, verbose_eval, xgb_model, callbacks)\u001b[0m\n\u001b[1;32m    187\u001b[0m     \u001b[0mBooster\u001b[0m \u001b[0;34m:\u001b[0m \u001b[0ma\u001b[0m \u001b[0mtrained\u001b[0m \u001b[0mbooster\u001b[0m \u001b[0mmodel\u001b[0m\u001b[0;34m\u001b[0m\u001b[0;34m\u001b[0m\u001b[0m\n\u001b[1;32m    188\u001b[0m     \"\"\"\n\u001b[0;32m--> 189\u001b[0;31m     bst = _train_internal(params, dtrain,\n\u001b[0m\u001b[1;32m    190\u001b[0m                           \u001b[0mnum_boost_round\u001b[0m\u001b[0;34m=\u001b[0m\u001b[0mnum_boost_round\u001b[0m\u001b[0;34m,\u001b[0m\u001b[0;34m\u001b[0m\u001b[0;34m\u001b[0m\u001b[0m\n\u001b[1;32m    191\u001b[0m                           \u001b[0mevals\u001b[0m\u001b[0;34m=\u001b[0m\u001b[0mevals\u001b[0m\u001b[0;34m,\u001b[0m\u001b[0;34m\u001b[0m\u001b[0;34m\u001b[0m\u001b[0m\n",
      "\u001b[0;32m~/.pyenv/versions/3.8.6/envs/nba_forecast/lib/python3.8/site-packages/xgboost/training.py\u001b[0m in \u001b[0;36m_train_internal\u001b[0;34m(params, dtrain, num_boost_round, evals, obj, feval, xgb_model, callbacks, evals_result, maximize, verbose_eval, early_stopping_rounds)\u001b[0m\n\u001b[1;32m     80\u001b[0m             \u001b[0;32mbreak\u001b[0m\u001b[0;34m\u001b[0m\u001b[0;34m\u001b[0m\u001b[0m\n\u001b[1;32m     81\u001b[0m         \u001b[0mbst\u001b[0m\u001b[0;34m.\u001b[0m\u001b[0mupdate\u001b[0m\u001b[0;34m(\u001b[0m\u001b[0mdtrain\u001b[0m\u001b[0;34m,\u001b[0m \u001b[0mi\u001b[0m\u001b[0;34m,\u001b[0m \u001b[0mobj\u001b[0m\u001b[0;34m)\u001b[0m\u001b[0;34m\u001b[0m\u001b[0;34m\u001b[0m\u001b[0m\n\u001b[0;32m---> 82\u001b[0;31m         \u001b[0;32mif\u001b[0m \u001b[0mcallbacks\u001b[0m\u001b[0;34m.\u001b[0m\u001b[0mafter_iteration\u001b[0m\u001b[0;34m(\u001b[0m\u001b[0mbst\u001b[0m\u001b[0;34m,\u001b[0m \u001b[0mi\u001b[0m\u001b[0;34m,\u001b[0m \u001b[0mdtrain\u001b[0m\u001b[0;34m,\u001b[0m \u001b[0mevals\u001b[0m\u001b[0;34m)\u001b[0m\u001b[0;34m:\u001b[0m\u001b[0;34m\u001b[0m\u001b[0;34m\u001b[0m\u001b[0m\n\u001b[0m\u001b[1;32m     83\u001b[0m             \u001b[0;32mbreak\u001b[0m\u001b[0;34m\u001b[0m\u001b[0;34m\u001b[0m\u001b[0m\n\u001b[1;32m     84\u001b[0m \u001b[0;34m\u001b[0m\u001b[0m\n",
      "\u001b[0;32m~/.pyenv/versions/3.8.6/envs/nba_forecast/lib/python3.8/site-packages/xgboost/callback.py\u001b[0m in \u001b[0;36mafter_iteration\u001b[0;34m(self, model, epoch, dtrain, evals)\u001b[0m\n\u001b[1;32m    430\u001b[0m             \u001b[0;32mfor\u001b[0m \u001b[0m_\u001b[0m\u001b[0;34m,\u001b[0m \u001b[0mname\u001b[0m \u001b[0;32min\u001b[0m \u001b[0mevals\u001b[0m\u001b[0;34m:\u001b[0m\u001b[0;34m\u001b[0m\u001b[0;34m\u001b[0m\u001b[0m\n\u001b[1;32m    431\u001b[0m                 \u001b[0;32massert\u001b[0m \u001b[0mname\u001b[0m\u001b[0;34m.\u001b[0m\u001b[0mfind\u001b[0m\u001b[0;34m(\u001b[0m\u001b[0;34m'-'\u001b[0m\u001b[0;34m)\u001b[0m \u001b[0;34m==\u001b[0m \u001b[0;34m-\u001b[0m\u001b[0;36m1\u001b[0m\u001b[0;34m,\u001b[0m \u001b[0;34m'Dataset name should not contain `-`'\u001b[0m\u001b[0;34m\u001b[0m\u001b[0;34m\u001b[0m\u001b[0m\n\u001b[0;32m--> 432\u001b[0;31m             \u001b[0mscore\u001b[0m \u001b[0;34m=\u001b[0m \u001b[0mmodel\u001b[0m\u001b[0;34m.\u001b[0m\u001b[0meval_set\u001b[0m\u001b[0;34m(\u001b[0m\u001b[0mevals\u001b[0m\u001b[0;34m,\u001b[0m \u001b[0mepoch\u001b[0m\u001b[0;34m,\u001b[0m \u001b[0mself\u001b[0m\u001b[0;34m.\u001b[0m\u001b[0mmetric\u001b[0m\u001b[0;34m)\u001b[0m\u001b[0;34m\u001b[0m\u001b[0;34m\u001b[0m\u001b[0m\n\u001b[0m\u001b[1;32m    433\u001b[0m             \u001b[0mscore\u001b[0m \u001b[0;34m=\u001b[0m \u001b[0mscore\u001b[0m\u001b[0;34m.\u001b[0m\u001b[0msplit\u001b[0m\u001b[0;34m(\u001b[0m\u001b[0;34m)\u001b[0m\u001b[0;34m[\u001b[0m\u001b[0;36m1\u001b[0m\u001b[0;34m:\u001b[0m\u001b[0;34m]\u001b[0m  \u001b[0;31m# into datasets\u001b[0m\u001b[0;34m\u001b[0m\u001b[0;34m\u001b[0m\u001b[0m\n\u001b[1;32m    434\u001b[0m             \u001b[0;31m# split up `test-error:0.1234`\u001b[0m\u001b[0;34m\u001b[0m\u001b[0;34m\u001b[0m\u001b[0;34m\u001b[0m\u001b[0m\n",
      "\u001b[0;32m~/.pyenv/versions/3.8.6/envs/nba_forecast/lib/python3.8/site-packages/xgboost/core.py\u001b[0m in \u001b[0;36meval_set\u001b[0;34m(self, evals, iteration, feval)\u001b[0m\n\u001b[1;32m   1571\u001b[0m         \u001b[0;32mif\u001b[0m \u001b[0mfeval\u001b[0m \u001b[0;32mis\u001b[0m \u001b[0;32mnot\u001b[0m \u001b[0;32mNone\u001b[0m\u001b[0;34m:\u001b[0m\u001b[0;34m\u001b[0m\u001b[0;34m\u001b[0m\u001b[0m\n\u001b[1;32m   1572\u001b[0m             \u001b[0;32mfor\u001b[0m \u001b[0mdmat\u001b[0m\u001b[0;34m,\u001b[0m \u001b[0mevname\u001b[0m \u001b[0;32min\u001b[0m \u001b[0mevals\u001b[0m\u001b[0;34m:\u001b[0m\u001b[0;34m\u001b[0m\u001b[0;34m\u001b[0m\u001b[0m\n\u001b[0;32m-> 1573\u001b[0;31m                 feval_ret = feval(self.predict(dmat, training=False,\n\u001b[0m\u001b[1;32m   1574\u001b[0m                                                output_margin=True), dmat)\n\u001b[1;32m   1575\u001b[0m                 \u001b[0;32mif\u001b[0m \u001b[0misinstance\u001b[0m\u001b[0;34m(\u001b[0m\u001b[0mfeval_ret\u001b[0m\u001b[0;34m,\u001b[0m \u001b[0mlist\u001b[0m\u001b[0;34m)\u001b[0m\u001b[0;34m:\u001b[0m\u001b[0;34m\u001b[0m\u001b[0;34m\u001b[0m\u001b[0m\n",
      "\u001b[0;31mTypeError\u001b[0m: __call__() missing 1 required positional argument: 'y_true'"
     ]
    }
   ],
   "source": [
    "# Option 2: Use XGBoost Library to fit it\n",
    "# It allows to use an early_stopping criteria with a Train/Val slit\n",
    "X_train_preproc = preproc.fit_transform(X_train, y_train)\n",
    "X_eval_preproc = preproc.transform(X_eval)\n",
    "\n",
    "model_xgb.fit(X_train_preproc, y_train, verbose=False,\n",
    "        eval_set=[(X_train_preproc, y_train), (X_eval_preproc, y_eval)],\n",
    "        eval_metric=mse,\n",
    "        early_stopping_rounds=10)\n",
    "\n",
    "# retrieve performance metrics\n",
    "results = model_xgb.evals_result()\n",
    "epochs = len(results['validation_0'][\"mse\"])\n",
    "x_axis = range(0, epochs)\n",
    "\n",
    "# plot rmsle loss\n",
    "fig, ax = plt.subplots()\n",
    "ax.plot(x_axis, results['validation_0']['mse'], label='Train')\n",
    "ax.plot(x_axis, results['validation_1']['mse'], label='Val')\n",
    "ax.legend(); plt.ylabel('MSE (of log)'); plt.title('XGBoost Log Loss')\n",
    "\n",
    "print(\"Best Validation Score\", min(results['validation_1']['mse']))"
   ]
  },
  {
   "cell_type": "markdown",
   "id": "9c609fe9",
   "metadata": {},
   "source": [
    "# PCA"
   ]
  },
  {
   "cell_type": "code",
   "execution_count": null,
   "id": "617f9e6e",
   "metadata": {},
   "outputs": [],
   "source": [
    "#plot decision map"
   ]
  },
  {
   "cell_type": "markdown",
   "id": "c8c60bea",
   "metadata": {},
   "source": [
    "# Ridge - Grid Search CV"
   ]
  },
  {
   "cell_type": "code",
   "execution_count": 90,
   "id": "8e63005f",
   "metadata": {},
   "outputs": [],
   "source": [
    "from sklearn.model_selection import GridSearchCV\n",
    "parameters = {\n",
    "    'pipeline__variancethreshold': [VarianceThreshold(threshold=0.01),VarianceThreshold(threshold=0.02),VarianceThreshold(threshold=0.03)],\n",
    "    #'pipeline__columntransformer__pipeline-1__knnimputer__add_indicator': False,\n",
    "    #'pipeline__columntransformer__pipeline-1__knnimputer__copy': True,\n",
    "    #'pipeline__columntransformer__pipeline-1__knnimputer__metric': ['uniform', 'distance'],\n",
    "    #'pipeline__columntransformer__pipeline-1__knnimputer__missing_values': 0.0,\n",
    "    'pipeline__columntransformer__pipeline-1__knnimputer__n_neighbors': [5,10,15,20,25,30,40,50],\n",
    "    'pipeline__columntransformer__pipeline-1__knnimputer__weights': ['uniform', 'distance'],\n",
    "    'ridge__alpha': [0.001, 0.005, 0.1, 0.5, 0.8, 0.9, 1.0, 1.2],\n",
    "    #'ridge__copy_X': True,\n",
    "    #'ridge__fit_intercept': True,\n",
    "    #'ridge__max_iter': [1000,2000,3000],\n",
    "    #'ridge__normalize': [True,False],\n",
    "    #'ridge__random_state': None,\n",
    "    'ridge__solver': ['auto', 'svd', 'cholesky', 'lsqr', 'sparse_cg', 'sag', 'saga'],\n",
    "    'ridge__tol': [0.1, 0.01, 0.05, 0.001, 0.0001]}\n",
    "\n",
    "\n",
    "pipe = make_pipeline(preproc_with_varianceThreshold, Ridge())\n",
    "\n",
    "modele_ = GridSearchCV(pipe, parameters)\n",
    "modele_.fit(X_off, y_off)\n",
    "\n",
    "\n",
    "modele_.best_params_\n",
    "best_estimator = modele_.best_estimator_"
   ]
  },
  {
   "cell_type": "code",
   "execution_count": 91,
   "id": "69a2fad1",
   "metadata": {},
   "outputs": [
    {
     "data": {
      "text/html": [
       "<style>#sk-f3e9c779-165f-4436-8b42-373e21d1ada8 {color: black;background-color: white;}#sk-f3e9c779-165f-4436-8b42-373e21d1ada8 pre{padding: 0;}#sk-f3e9c779-165f-4436-8b42-373e21d1ada8 div.sk-toggleable {background-color: white;}#sk-f3e9c779-165f-4436-8b42-373e21d1ada8 label.sk-toggleable__label {cursor: pointer;display: block;width: 100%;margin-bottom: 0;padding: 0.2em 0.3em;box-sizing: border-box;text-align: center;}#sk-f3e9c779-165f-4436-8b42-373e21d1ada8 div.sk-toggleable__content {max-height: 0;max-width: 0;overflow: hidden;text-align: left;background-color: #f0f8ff;}#sk-f3e9c779-165f-4436-8b42-373e21d1ada8 div.sk-toggleable__content pre {margin: 0.2em;color: black;border-radius: 0.25em;background-color: #f0f8ff;}#sk-f3e9c779-165f-4436-8b42-373e21d1ada8 input.sk-toggleable__control:checked~div.sk-toggleable__content {max-height: 200px;max-width: 100%;overflow: auto;}#sk-f3e9c779-165f-4436-8b42-373e21d1ada8 div.sk-estimator input.sk-toggleable__control:checked~label.sk-toggleable__label {background-color: #d4ebff;}#sk-f3e9c779-165f-4436-8b42-373e21d1ada8 div.sk-label input.sk-toggleable__control:checked~label.sk-toggleable__label {background-color: #d4ebff;}#sk-f3e9c779-165f-4436-8b42-373e21d1ada8 input.sk-hidden--visually {border: 0;clip: rect(1px 1px 1px 1px);clip: rect(1px, 1px, 1px, 1px);height: 1px;margin: -1px;overflow: hidden;padding: 0;position: absolute;width: 1px;}#sk-f3e9c779-165f-4436-8b42-373e21d1ada8 div.sk-estimator {font-family: monospace;background-color: #f0f8ff;margin: 0.25em 0.25em;border: 1px dotted black;border-radius: 0.25em;box-sizing: border-box;}#sk-f3e9c779-165f-4436-8b42-373e21d1ada8 div.sk-estimator:hover {background-color: #d4ebff;}#sk-f3e9c779-165f-4436-8b42-373e21d1ada8 div.sk-parallel-item::after {content: \"\";width: 100%;border-bottom: 1px solid gray;flex-grow: 1;}#sk-f3e9c779-165f-4436-8b42-373e21d1ada8 div.sk-label:hover label.sk-toggleable__label {background-color: #d4ebff;}#sk-f3e9c779-165f-4436-8b42-373e21d1ada8 div.sk-serial::before {content: \"\";position: absolute;border-left: 1px solid gray;box-sizing: border-box;top: 2em;bottom: 0;left: 50%;}#sk-f3e9c779-165f-4436-8b42-373e21d1ada8 div.sk-serial {display: flex;flex-direction: column;align-items: center;background-color: white;}#sk-f3e9c779-165f-4436-8b42-373e21d1ada8 div.sk-item {z-index: 1;}#sk-f3e9c779-165f-4436-8b42-373e21d1ada8 div.sk-parallel {display: flex;align-items: stretch;justify-content: center;background-color: white;}#sk-f3e9c779-165f-4436-8b42-373e21d1ada8 div.sk-parallel-item {display: flex;flex-direction: column;position: relative;background-color: white;}#sk-f3e9c779-165f-4436-8b42-373e21d1ada8 div.sk-parallel-item:first-child::after {align-self: flex-end;width: 50%;}#sk-f3e9c779-165f-4436-8b42-373e21d1ada8 div.sk-parallel-item:last-child::after {align-self: flex-start;width: 50%;}#sk-f3e9c779-165f-4436-8b42-373e21d1ada8 div.sk-parallel-item:only-child::after {width: 0;}#sk-f3e9c779-165f-4436-8b42-373e21d1ada8 div.sk-dashed-wrapped {border: 1px dashed gray;margin: 0.2em;box-sizing: border-box;padding-bottom: 0.1em;background-color: white;position: relative;}#sk-f3e9c779-165f-4436-8b42-373e21d1ada8 div.sk-label label {font-family: monospace;font-weight: bold;background-color: white;display: inline-block;line-height: 1.2em;}#sk-f3e9c779-165f-4436-8b42-373e21d1ada8 div.sk-label-container {position: relative;z-index: 2;text-align: center;}#sk-f3e9c779-165f-4436-8b42-373e21d1ada8 div.sk-container {display: inline-block;position: relative;}</style><div id=\"sk-f3e9c779-165f-4436-8b42-373e21d1ada8\" class\"sk-top-container\"><div class=\"sk-container\"><div class=\"sk-item sk-dashed-wrapped\"><div class=\"sk-label-container\"><div class=\"sk-label sk-toggleable\"><input class=\"sk-toggleable__control sk-hidden--visually\" id=\"96f18fee-6dda-4251-a390-23fb7b5d9962\" type=\"checkbox\" ><label class=\"sk-toggleable__label\" for=\"96f18fee-6dda-4251-a390-23fb7b5d9962\">Pipeline</label><div class=\"sk-toggleable__content\"><pre>Pipeline(steps=[('pipeline',\n",
       "                 Pipeline(steps=[('columntransformer',\n",
       "                                  ColumnTransformer(transformers=[('pipeline-1',\n",
       "                                                                   Pipeline(steps=[('knnimputer',\n",
       "                                                                                    KNNImputer(missing_values=0.0,\n",
       "                                                                                               n_neighbors=40,\n",
       "                                                                                               weights='distance')),\n",
       "                                                                                   ('minmaxscaler',\n",
       "                                                                                    MinMaxScaler())]),\n",
       "                                                                   ['ast_pct',\n",
       "                                                                    'body_fat_pct',\n",
       "                                                                    'efg_pct',\n",
       "                                                                    'fg3a_per_fga_pct',\n",
       "                                                                    'fta_per_fga_pct',\n",
       "                                                                    'g', 'gs',\n",
       "                                                                    'hand_length',\n",
       "                                                                    'hand_width',...\n",
       "                                                                    'ows',\n",
       "                                                                    'per',\n",
       "                                                                    'standing_reach',\n",
       "                                                                    'tov_pct',\n",
       "                                                                    'ts_pct',\n",
       "                                                                    'usg_pct',\n",
       "                                                                    'weight',\n",
       "                                                                    'wingspan']),\n",
       "                                                                  ('pipeline-2',\n",
       "                                                                   Pipeline(steps=[('simpleimputer',\n",
       "                                                                                    SimpleImputer(strategy='most_frequent')),\n",
       "                                                                                   ('onehotencoder',\n",
       "                                                                                    OneHotEncoder(handle_unknown='ignore'))]),\n",
       "                                                                   ['position'])])),\n",
       "                                 ('variancethreshold',\n",
       "                                  VarianceThreshold(threshold=0.01))])),\n",
       "                ('ridge', Ridge(alpha=1.2, solver='sag', tol=0.1))])</pre></div></div></div><div class=\"sk-serial\"><div class=\"sk-item\"><div class=\"sk-label-container\"><div class=\"sk-label sk-toggleable\"><input class=\"sk-toggleable__control sk-hidden--visually\" id=\"0c43c050-6f66-489d-812d-63542457aa0d\" type=\"checkbox\" ><label class=\"sk-toggleable__label\" for=\"0c43c050-6f66-489d-812d-63542457aa0d\">pipeline: Pipeline</label><div class=\"sk-toggleable__content\"><pre>Pipeline(steps=[('columntransformer',\n",
       "                 ColumnTransformer(transformers=[('pipeline-1',\n",
       "                                                  Pipeline(steps=[('knnimputer',\n",
       "                                                                   KNNImputer(missing_values=0.0,\n",
       "                                                                              n_neighbors=40,\n",
       "                                                                              weights='distance')),\n",
       "                                                                  ('minmaxscaler',\n",
       "                                                                   MinMaxScaler())]),\n",
       "                                                  ['ast_pct', 'body_fat_pct',\n",
       "                                                   'efg_pct',\n",
       "                                                   'fg3a_per_fga_pct',\n",
       "                                                   'fta_per_fga_pct', 'g', 'gs',\n",
       "                                                   'hand_length', 'hand_width',\n",
       "                                                   'height_w_shoes',\n",
       "                                                   'height_wo_shoes', 'mp',\n",
       "                                                   'nb_year_uni', 'obpm',\n",
       "                                                   'orb_pct', 'ows', 'per',\n",
       "                                                   'standing_reach', 'tov_pct',\n",
       "                                                   'ts_pct', 'usg_pct',\n",
       "                                                   'weight', 'wingspan']),\n",
       "                                                 ('pipeline-2',\n",
       "                                                  Pipeline(steps=[('simpleimputer',\n",
       "                                                                   SimpleImputer(strategy='most_frequent')),\n",
       "                                                                  ('onehotencoder',\n",
       "                                                                   OneHotEncoder(handle_unknown='ignore'))]),\n",
       "                                                  ['position'])])),\n",
       "                ('variancethreshold', VarianceThreshold(threshold=0.01))])</pre></div></div></div><div class=\"sk-serial\"><div class=\"sk-item sk-dashed-wrapped\"><div class=\"sk-label-container\"><div class=\"sk-label sk-toggleable\"><input class=\"sk-toggleable__control sk-hidden--visually\" id=\"3bb5d389-1520-4921-b3c1-09a749da7e12\" type=\"checkbox\" ><label class=\"sk-toggleable__label\" for=\"3bb5d389-1520-4921-b3c1-09a749da7e12\">columntransformer: ColumnTransformer</label><div class=\"sk-toggleable__content\"><pre>ColumnTransformer(transformers=[('pipeline-1',\n",
       "                                 Pipeline(steps=[('knnimputer',\n",
       "                                                  KNNImputer(missing_values=0.0,\n",
       "                                                             n_neighbors=40,\n",
       "                                                             weights='distance')),\n",
       "                                                 ('minmaxscaler',\n",
       "                                                  MinMaxScaler())]),\n",
       "                                 ['ast_pct', 'body_fat_pct', 'efg_pct',\n",
       "                                  'fg3a_per_fga_pct', 'fta_per_fga_pct', 'g',\n",
       "                                  'gs', 'hand_length', 'hand_width',\n",
       "                                  'height_w_shoes', 'height_wo_shoes', 'mp',\n",
       "                                  'nb_year_uni', 'obpm', 'orb_pct', 'ows',\n",
       "                                  'per', 'standing_reach', 'tov_pct', 'ts_pct',\n",
       "                                  'usg_pct', 'weight', 'wingspan']),\n",
       "                                ('pipeline-2',\n",
       "                                 Pipeline(steps=[('simpleimputer',\n",
       "                                                  SimpleImputer(strategy='most_frequent')),\n",
       "                                                 ('onehotencoder',\n",
       "                                                  OneHotEncoder(handle_unknown='ignore'))]),\n",
       "                                 ['position'])])</pre></div></div></div><div class=\"sk-parallel\"><div class=\"sk-parallel-item\"><div class=\"sk-item\"><div class=\"sk-label-container\"><div class=\"sk-label sk-toggleable\"><input class=\"sk-toggleable__control sk-hidden--visually\" id=\"75c6f220-24f4-4f37-9c9e-6813f0d2f6f8\" type=\"checkbox\" ><label class=\"sk-toggleable__label\" for=\"75c6f220-24f4-4f37-9c9e-6813f0d2f6f8\">pipeline-1</label><div class=\"sk-toggleable__content\"><pre>['ast_pct', 'body_fat_pct', 'efg_pct', 'fg3a_per_fga_pct', 'fta_per_fga_pct', 'g', 'gs', 'hand_length', 'hand_width', 'height_w_shoes', 'height_wo_shoes', 'mp', 'nb_year_uni', 'obpm', 'orb_pct', 'ows', 'per', 'standing_reach', 'tov_pct', 'ts_pct', 'usg_pct', 'weight', 'wingspan']</pre></div></div></div><div class=\"sk-serial\"><div class=\"sk-item\"><div class=\"sk-serial\"><div class=\"sk-item\"><div class=\"sk-estimator sk-toggleable\"><input class=\"sk-toggleable__control sk-hidden--visually\" id=\"1e2a7e9e-0461-4fb8-a423-0b854cd08998\" type=\"checkbox\" ><label class=\"sk-toggleable__label\" for=\"1e2a7e9e-0461-4fb8-a423-0b854cd08998\">KNNImputer</label><div class=\"sk-toggleable__content\"><pre>KNNImputer(missing_values=0.0, n_neighbors=40, weights='distance')</pre></div></div></div><div class=\"sk-item\"><div class=\"sk-estimator sk-toggleable\"><input class=\"sk-toggleable__control sk-hidden--visually\" id=\"615f9bca-0afb-4b85-9945-f1bed8f8fbd5\" type=\"checkbox\" ><label class=\"sk-toggleable__label\" for=\"615f9bca-0afb-4b85-9945-f1bed8f8fbd5\">MinMaxScaler</label><div class=\"sk-toggleable__content\"><pre>MinMaxScaler()</pre></div></div></div></div></div></div></div></div><div class=\"sk-parallel-item\"><div class=\"sk-item\"><div class=\"sk-label-container\"><div class=\"sk-label sk-toggleable\"><input class=\"sk-toggleable__control sk-hidden--visually\" id=\"9f74683f-7906-4f16-883e-142e27ea529a\" type=\"checkbox\" ><label class=\"sk-toggleable__label\" for=\"9f74683f-7906-4f16-883e-142e27ea529a\">pipeline-2</label><div class=\"sk-toggleable__content\"><pre>['position']</pre></div></div></div><div class=\"sk-serial\"><div class=\"sk-item\"><div class=\"sk-serial\"><div class=\"sk-item\"><div class=\"sk-estimator sk-toggleable\"><input class=\"sk-toggleable__control sk-hidden--visually\" id=\"91638f93-ffbd-4599-aa80-db513111708b\" type=\"checkbox\" ><label class=\"sk-toggleable__label\" for=\"91638f93-ffbd-4599-aa80-db513111708b\">SimpleImputer</label><div class=\"sk-toggleable__content\"><pre>SimpleImputer(strategy='most_frequent')</pre></div></div></div><div class=\"sk-item\"><div class=\"sk-estimator sk-toggleable\"><input class=\"sk-toggleable__control sk-hidden--visually\" id=\"dc28f7d7-1c16-46c3-9c10-b503e6a73a44\" type=\"checkbox\" ><label class=\"sk-toggleable__label\" for=\"dc28f7d7-1c16-46c3-9c10-b503e6a73a44\">OneHotEncoder</label><div class=\"sk-toggleable__content\"><pre>OneHotEncoder(handle_unknown='ignore')</pre></div></div></div></div></div></div></div></div></div></div><div class=\"sk-item\"><div class=\"sk-estimator sk-toggleable\"><input class=\"sk-toggleable__control sk-hidden--visually\" id=\"834fcf0f-dee3-4652-b7da-bb212e64c646\" type=\"checkbox\" ><label class=\"sk-toggleable__label\" for=\"834fcf0f-dee3-4652-b7da-bb212e64c646\">VarianceThreshold</label><div class=\"sk-toggleable__content\"><pre>VarianceThreshold(threshold=0.01)</pre></div></div></div></div></div><div class=\"sk-item\"><div class=\"sk-estimator sk-toggleable\"><input class=\"sk-toggleable__control sk-hidden--visually\" id=\"2e24b918-ad2e-4d4b-a5ef-2bb1ba0a048e\" type=\"checkbox\" ><label class=\"sk-toggleable__label\" for=\"2e24b918-ad2e-4d4b-a5ef-2bb1ba0a048e\">Ridge</label><div class=\"sk-toggleable__content\"><pre>Ridge(alpha=1.2, solver='sag', tol=0.1)</pre></div></div></div></div></div></div></div>"
      ],
      "text/plain": [
       "Pipeline(steps=[('pipeline',\n",
       "                 Pipeline(steps=[('columntransformer',\n",
       "                                  ColumnTransformer(transformers=[('pipeline-1',\n",
       "                                                                   Pipeline(steps=[('knnimputer',\n",
       "                                                                                    KNNImputer(missing_values=0.0,\n",
       "                                                                                               n_neighbors=40,\n",
       "                                                                                               weights='distance')),\n",
       "                                                                                   ('minmaxscaler',\n",
       "                                                                                    MinMaxScaler())]),\n",
       "                                                                   ['ast_pct',\n",
       "                                                                    'body_fat_pct',\n",
       "                                                                    'efg_pct',\n",
       "                                                                    'fg3a_per_fga_pct',\n",
       "                                                                    'fta_per_fga_pct',\n",
       "                                                                    'g', 'gs',\n",
       "                                                                    'hand_length',\n",
       "                                                                    'hand_width',...\n",
       "                                                                    'ows',\n",
       "                                                                    'per',\n",
       "                                                                    'standing_reach',\n",
       "                                                                    'tov_pct',\n",
       "                                                                    'ts_pct',\n",
       "                                                                    'usg_pct',\n",
       "                                                                    'weight',\n",
       "                                                                    'wingspan']),\n",
       "                                                                  ('pipeline-2',\n",
       "                                                                   Pipeline(steps=[('simpleimputer',\n",
       "                                                                                    SimpleImputer(strategy='most_frequent')),\n",
       "                                                                                   ('onehotencoder',\n",
       "                                                                                    OneHotEncoder(handle_unknown='ignore'))]),\n",
       "                                                                   ['position'])])),\n",
       "                                 ('variancethreshold',\n",
       "                                  VarianceThreshold(threshold=0.01))])),\n",
       "                ('ridge', Ridge(alpha=1.2, solver='sag', tol=0.1))])"
      ]
     },
     "execution_count": 91,
     "metadata": {},
     "output_type": "execute_result"
    }
   ],
   "source": [
    "best_estimator"
   ]
  },
  {
   "cell_type": "code",
   "execution_count": 92,
   "id": "9b16c354",
   "metadata": {},
   "outputs": [
    {
     "data": {
      "text/plain": [
       "{'pipeline__columntransformer__pipeline-1__knnimputer__n_neighbors': 40,\n",
       " 'pipeline__columntransformer__pipeline-1__knnimputer__weights': 'distance',\n",
       " 'pipeline__variancethreshold': VarianceThreshold(threshold=0.01),\n",
       " 'ridge__alpha': 1.2,\n",
       " 'ridge__solver': 'sag',\n",
       " 'ridge__tol': 0.1}"
      ]
     },
     "execution_count": 92,
     "metadata": {},
     "output_type": "execute_result"
    }
   ],
   "source": [
    "modele_.best_params_"
   ]
  },
  {
   "cell_type": "code",
   "execution_count": 93,
   "id": "7490467a",
   "metadata": {},
   "outputs": [
    {
     "data": {
      "text/plain": [
       "0.019416670950643856"
      ]
     },
     "execution_count": 93,
     "metadata": {},
     "output_type": "execute_result"
    }
   ],
   "source": [
    "score = cross_val_score(best_estimator, X_off, y_off, cv=5, scoring=mse)\n",
    "#print(score.std())\n",
    "score.mean()"
   ]
  },
  {
   "cell_type": "code",
   "execution_count": null,
   "id": "ff40ab67",
   "metadata": {},
   "outputs": [],
   "source": [
    "# {'pipeline__columntransformer__pipeline-1__knnimputer__n_neighbors': 40,\n",
    "#  'pipeline__columntransformer__pipeline-1__knnimputer__weights': 'distance',\n",
    "#  'pipeline__variancethreshold': VarianceThreshold(threshold=0.01),\n",
    "#  'ridge__alpha': 1.2,\n",
    "#  'ridge__solver': 'sag',\n",
    "#  'ridge__tol': 0.1}"
   ]
  }
 ],
 "metadata": {
  "kernelspec": {
   "display_name": "Python 3 (ipykernel)",
   "language": "python",
   "name": "python3"
  },
  "language_info": {
   "codemirror_mode": {
    "name": "ipython",
    "version": 3
   },
   "file_extension": ".py",
   "mimetype": "text/x-python",
   "name": "python",
   "nbconvert_exporter": "python",
   "pygments_lexer": "ipython3",
   "version": "3.8.6"
  },
  "toc": {
   "base_numbering": 1,
   "nav_menu": {},
   "number_sections": true,
   "sideBar": true,
   "skip_h1_title": false,
   "title_cell": "Table of Contents",
   "title_sidebar": "Contents",
   "toc_cell": false,
   "toc_position": {
    "height": "calc(100% - 180px)",
    "left": "10px",
    "top": "150px",
    "width": "341.333px"
   },
   "toc_section_display": true,
   "toc_window_display": true
  }
 },
 "nbformat": 4,
 "nbformat_minor": 5
}
